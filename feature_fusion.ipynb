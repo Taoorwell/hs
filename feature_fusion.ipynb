{
 "cells": [
  {
   "cell_type": "code",
   "execution_count": 1,
   "metadata": {},
   "outputs": [
    {
     "name": "stderr",
     "output_type": "stream",
     "text": [
      "Using TensorFlow backend.\n"
     ]
    }
   ],
   "source": [
    "from python_gdal import *\n",
    "from models_keras import *\n",
    "import time\n",
    "from keras import backend as K"
   ]
  },
  {
   "cell_type": "code",
   "execution_count": 2,
   "metadata": {},
   "outputs": [],
   "source": [
    "MAIN_FOLDER = r'E:/HSI/'\n",
    "IP_DATA_PATH = 'IP/Indian_pines_corrected'\n",
    "IP_TRAIN_PATH = 'IP/Indian_pines_gt'\n",
    "PAVIA_DATA_PATH = \"Pavia/Pavia\"\n",
    "PAVIA_TRAIN_PATH = \"Pavia/Pavia_gt\"\n",
    "PAVIA_U_DATA_PATH = \"Pavia/PaviaU\"\n",
    "PAVIA_U_TRAIN_PATH = \"Pavia/PaviaU_gt\"\n",
    "SALINAS_DATA_PATH = \"Salinas/Salinas\"\n",
    "SALINAS_TRAIN_PATH = 'Salinas/Salinas_gt'\n",
    "KSC_DATA_PATH = \"KSC/KSC\"\n",
    "KSC_TRAIN_PATH = \"KSC/KSC_gt\"\n",
    "IEEEHSI_2018_DATA_PATH = \"2018IEEEHSI/FullHSIDataset/20170218_UH_CASI_S4_NAD83.pix\"\n",
    "IEEEHSI_2018_TRAIN_PATH = \"2018IEEEHSI/GT\""
   ]
  },
  {
   "cell_type": "code",
   "execution_count": 3,
   "metadata": {},
   "outputs": [],
   "source": [
    "c = [16, 9, 9, 13]\n",
    "input_shape1 = [(200,), (102,), (103,), (176,)]\n",
    "input_shape2 = [(200, 1), (102, 1), (103, 1), (176, 1)]\n",
    "lists2 = [200, 200, 200, 200, 200, 200, 200, 200, 200]\n",
    "lists1 = [33, 200, 200, 181, 200, 200, 20, 200, 14, 200, 200, 200, 143, 200, 200, 75]\n",
    "lists3 = [200, 150, 150, 150, 100, 150, 50, 200, 200, 200, 200, 200, 200]\n",
    "lists = [lists1, lists2, lists2, lists3]\n",
    "image_shape = [(145, 145), (1096, 715), (610, 340), (512, 614)]\n",
    "DATA_PATH = [IP_DATA_PATH, PAVIA_DATA_PATH, PAVIA_U_DATA_PATH, KSC_DATA_PATH]\n",
    "TRAIN_PATH = [IP_TRAIN_PATH, PAVIA_TRAIN_PATH, PAVIA_U_TRAIN_PATH, KSC_TRAIN_PATH]"
   ]
  },
  {
   "cell_type": "code",
   "execution_count": 4,
   "metadata": {},
   "outputs": [],
   "source": [
    "i = 0\n",
    "m = 19"
   ]
  },
  {
   "cell_type": "markdown",
   "metadata": {},
   "source": [
    "# data prep"
   ]
  },
  {
   "cell_type": "code",
   "execution_count": 39,
   "metadata": {},
   "outputs": [],
   "source": [
    "train_samples_1, train_labels_1 = get_train_sample(data_path=MAIN_FOLDER+DATA_PATH[i],\n",
    "                                               train_data_path=MAIN_FOLDER+TRAIN_PATH[i],\n",
    "                                               c=c[i], m=m, lists=lists[i], d=4)"
   ]
  },
  {
   "cell_type": "code",
   "execution_count": 41,
   "metadata": {},
   "outputs": [
    {
     "name": "stdout",
     "output_type": "stream",
     "text": [
      "(2466, 19, 19, 200)\n"
     ]
    }
   ],
   "source": [
    "print(train_samples_1.shape)"
   ]
  },
  {
   "cell_type": "code",
   "execution_count": 40,
   "metadata": {},
   "outputs": [],
   "source": [
    "train_samples_2, train_labels_2 = get_train_sample(data_path=MAIN_FOLDER+DATA_PATH[i],\n",
    "                                               train_data_path=MAIN_FOLDER+TRAIN_PATH[i],\n",
    "                                               c=c[i], m=1, lists=lists[i], d=3)"
   ]
  },
  {
   "cell_type": "code",
   "execution_count": 42,
   "metadata": {},
   "outputs": [],
   "source": [
    "train_labels = one_hot_encode(c=c[i], labels=train_labels_1)"
   ]
  },
  {
   "cell_type": "code",
   "execution_count": 43,
   "metadata": {},
   "outputs": [
    {
     "name": "stdout",
     "output_type": "stream",
     "text": [
      "(2466, 200, 1)\n"
     ]
    }
   ],
   "source": [
    "print(train_samples_2.shape)"
   ]
  },
  {
   "cell_type": "code",
   "execution_count": 44,
   "metadata": {},
   "outputs": [
    {
     "name": "stdout",
     "output_type": "stream",
     "text": [
      "[12.  4.  4. 10. 14. 14. 14.  8.  8.  8.]\n",
      "[12.  4.  4. 10. 14. 14. 14.  8.  8.  8.]\n"
     ]
    }
   ],
   "source": [
    "print(train_labels_1[:10])\n",
    "print(train_labels_2[:10])"
   ]
  },
  {
   "cell_type": "markdown",
   "metadata": {},
   "source": [
    "# model prep"
   ]
  },
  {
   "cell_type": "code",
   "execution_count": 11,
   "metadata": {
    "collapsed": true
   },
   "outputs": [
    {
     "name": "stdout",
     "output_type": "stream",
     "text": [
      "WARNING:tensorflow:From c:\\python\\python36\\lib\\site-packages\\tensorflow\\python\\framework\\op_def_library.py:263: colocate_with (from tensorflow.python.framework.ops) is deprecated and will be removed in a future version.\n",
      "Instructions for updating:\n",
      "Colocations handled automatically by placer.\n",
      "WARNING:tensorflow:From c:\\python\\python36\\lib\\site-packages\\keras\\backend\\tensorflow_backend.py:3445: calling dropout (from tensorflow.python.ops.nn_ops) with keep_prob is deprecated and will be removed in a future version.\n",
      "Instructions for updating:\n",
      "Please use `rate` instead of `keep_prob`. Rate should be set to `rate = 1 - keep_prob`.\n",
      "WARNING:tensorflow:From c:\\python\\python36\\lib\\site-packages\\tensorflow\\python\\ops\\math_ops.py:3066: to_int32 (from tensorflow.python.ops.math_ops) is deprecated and will be removed in a future version.\n",
      "Instructions for updating:\n",
      "Use tf.cast instead.\n"
     ]
    }
   ],
   "source": [
    "cnn_1d_model = load_model(\"cnn_1d_IP.h5\")"
   ]
  },
  {
   "cell_type": "code",
   "execution_count": 12,
   "metadata": {},
   "outputs": [],
   "source": [
    "cnn_2d_model = load_model(\"model/19-cnn_2d_IP.h5\")"
   ]
  },
  {
   "cell_type": "code",
   "execution_count": 13,
   "metadata": {
    "collapsed": true
   },
   "outputs": [
    {
     "name": "stdout",
     "output_type": "stream",
     "text": [
      "_________________________________________________________________\n",
      "Layer (type)                 Output Shape              Param #   \n",
      "=================================================================\n",
      "input_1 (InputLayer)         (None, 200, 1)            0         \n",
      "_________________________________________________________________\n",
      "conv1d_1 (Conv1D)            (None, 200, 12)           72        \n",
      "_________________________________________________________________\n",
      "batch_normalization_1 (Batch (None, 200, 12)           48        \n",
      "_________________________________________________________________\n",
      "activation_1 (Activation)    (None, 200, 12)           0         \n",
      "_________________________________________________________________\n",
      "max_pooling1d_1 (MaxPooling1 (None, 100, 12)           0         \n",
      "_________________________________________________________________\n",
      "conv1d_2 (Conv1D)            (None, 100, 24)           1464      \n",
      "_________________________________________________________________\n",
      "batch_normalization_2 (Batch (None, 100, 24)           96        \n",
      "_________________________________________________________________\n",
      "activation_2 (Activation)    (None, 100, 24)           0         \n",
      "_________________________________________________________________\n",
      "max_pooling1d_2 (MaxPooling1 (None, 34, 24)            0         \n",
      "_________________________________________________________________\n",
      "dropout_1 (Dropout)          (None, 34, 24)            0         \n",
      "_________________________________________________________________\n",
      "conv1d_3 (Conv1D)            (None, 34, 48)            5808      \n",
      "_________________________________________________________________\n",
      "batch_normalization_3 (Batch (None, 34, 48)            192       \n",
      "_________________________________________________________________\n",
      "activation_3 (Activation)    (None, 34, 48)            0         \n",
      "_________________________________________________________________\n",
      "max_pooling1d_3 (MaxPooling1 (None, 17, 48)            0         \n",
      "_________________________________________________________________\n",
      "dropout_2 (Dropout)          (None, 17, 48)            0         \n",
      "_________________________________________________________________\n",
      "conv1d_4 (Conv1D)            (None, 17, 96)            23136     \n",
      "_________________________________________________________________\n",
      "batch_normalization_4 (Batch (None, 17, 96)            384       \n",
      "_________________________________________________________________\n",
      "activation_4 (Activation)    (None, 17, 96)            0         \n",
      "_________________________________________________________________\n",
      "max_pooling1d_4 (MaxPooling1 (None, 9, 96)             0         \n",
      "_________________________________________________________________\n",
      "dropout_3 (Dropout)          (None, 9, 96)             0         \n",
      "_________________________________________________________________\n",
      "flatten_1 (Flatten)          (None, 864)               0         \n",
      "_________________________________________________________________\n",
      "dense_1 (Dense)              (None, 256)               221440    \n",
      "_________________________________________________________________\n",
      "dropout_4 (Dropout)          (None, 256)               0         \n",
      "_________________________________________________________________\n",
      "dense_2 (Dense)              (None, 16)                4112      \n",
      "=================================================================\n",
      "Total params: 256,752\n",
      "Trainable params: 256,392\n",
      "Non-trainable params: 360\n",
      "_________________________________________________________________\n"
     ]
    }
   ],
   "source": [
    "cnn_1d_model.summary()"
   ]
  },
  {
   "cell_type": "code",
   "execution_count": 14,
   "metadata": {},
   "outputs": [
    {
     "name": "stdout",
     "output_type": "stream",
     "text": [
      "_________________________________________________________________\n",
      "Layer (type)                 Output Shape              Param #   \n",
      "=================================================================\n",
      "input_23 (InputLayer)        (None, 19, 19, 200)       0         \n",
      "_________________________________________________________________\n",
      "conv2d_67 (Conv2D)           (None, 19, 19, 12)        21612     \n",
      "_________________________________________________________________\n",
      "batch_normalization_67 (Batc (None, 19, 19, 12)        48        \n",
      "_________________________________________________________________\n",
      "activation_67 (Activation)   (None, 19, 19, 12)        0         \n",
      "_________________________________________________________________\n",
      "max_pooling2d_67 (MaxPooling (None, 10, 10, 12)        0         \n",
      "_________________________________________________________________\n",
      "conv2d_68 (Conv2D)           (None, 10, 10, 24)        2616      \n",
      "_________________________________________________________________\n",
      "batch_normalization_68 (Batc (None, 10, 10, 24)        96        \n",
      "_________________________________________________________________\n",
      "activation_68 (Activation)   (None, 10, 10, 24)        0         \n",
      "_________________________________________________________________\n",
      "max_pooling2d_68 (MaxPooling (None, 5, 5, 24)          0         \n",
      "_________________________________________________________________\n",
      "conv2d_69 (Conv2D)           (None, 5, 5, 48)          10416     \n",
      "_________________________________________________________________\n",
      "batch_normalization_69 (Batc (None, 5, 5, 48)          192       \n",
      "_________________________________________________________________\n",
      "activation_69 (Activation)   (None, 5, 5, 48)          0         \n",
      "_________________________________________________________________\n",
      "max_pooling2d_69 (MaxPooling (None, 3, 3, 48)          0         \n",
      "_________________________________________________________________\n",
      "dropout_45 (Dropout)         (None, 3, 3, 48)          0         \n",
      "_________________________________________________________________\n",
      "flatten_23 (Flatten)         (None, 432)               0         \n",
      "_________________________________________________________________\n",
      "dense_45 (Dense)             (None, 128)               55424     \n",
      "_________________________________________________________________\n",
      "dropout_46 (Dropout)         (None, 128)               0         \n",
      "_________________________________________________________________\n",
      "dense_46 (Dense)             (None, 16)                2064      \n",
      "=================================================================\n",
      "Total params: 92,468\n",
      "Trainable params: 92,300\n",
      "Non-trainable params: 168\n",
      "_________________________________________________________________\n"
     ]
    }
   ],
   "source": [
    "cnn_2d_model.summary()"
   ]
  },
  {
   "cell_type": "code",
   "execution_count": 27,
   "metadata": {},
   "outputs": [],
   "source": [
    "x_1 = cnn_1d_model.layers[-4].output"
   ]
  },
  {
   "cell_type": "code",
   "execution_count": 28,
   "metadata": {},
   "outputs": [
    {
     "name": "stdout",
     "output_type": "stream",
     "text": [
      "Tensor(\"flatten_1/Reshape:0\", shape=(?, ?), dtype=float32)\n"
     ]
    }
   ],
   "source": [
    "print(x_1)"
   ]
  },
  {
   "cell_type": "code",
   "execution_count": 29,
   "metadata": {},
   "outputs": [],
   "source": [
    "x_2 = cnn_2d_model.layers[-4].output"
   ]
  },
  {
   "cell_type": "code",
   "execution_count": 30,
   "metadata": {},
   "outputs": [
    {
     "name": "stdout",
     "output_type": "stream",
     "text": [
      "Tensor(\"flatten_23/Reshape:0\", shape=(?, ?), dtype=float32)\n"
     ]
    }
   ],
   "source": [
    "print(x_2)"
   ]
  },
  {
   "cell_type": "code",
   "execution_count": 31,
   "metadata": {},
   "outputs": [],
   "source": [
    "x_3 = concatenate([x_1, x_2], axis=1)"
   ]
  },
  {
   "cell_type": "code",
   "execution_count": 32,
   "metadata": {},
   "outputs": [
    {
     "name": "stdout",
     "output_type": "stream",
     "text": [
      "Tensor(\"concatenate_1/concat:0\", shape=(?, ?), dtype=float32)\n"
     ]
    }
   ],
   "source": [
    "print(x_3)"
   ]
  },
  {
   "cell_type": "code",
   "execution_count": 33,
   "metadata": {},
   "outputs": [],
   "source": [
    "x = Dense(256, activation='relu')(x_3)\n",
    "y = Dense(16, activation='relu')(x)"
   ]
  },
  {
   "cell_type": "code",
   "execution_count": 34,
   "metadata": {},
   "outputs": [],
   "source": [
    "input_1 = Input(shape=(200, 1))\n",
    "input_2 = Input(shape=(19, 19, 200))"
   ]
  },
  {
   "cell_type": "code",
   "execution_count": 35,
   "metadata": {},
   "outputs": [
    {
     "ename": "ValueError",
     "evalue": "Graph disconnected: cannot obtain value for tensor Tensor(\"input_1:0\", shape=(?, 200, 1), dtype=float32) at layer \"input_1\". The following previous layers were accessed without issue: []",
     "output_type": "error",
     "traceback": [
      "\u001b[1;31m---------------------------------------------------------------------------\u001b[0m",
      "\u001b[1;31mValueError\u001b[0m                                Traceback (most recent call last)",
      "\u001b[1;32m<ipython-input-35-91a029880b22>\u001b[0m in \u001b[0;36m<module>\u001b[1;34m\u001b[0m\n\u001b[1;32m----> 1\u001b[1;33m \u001b[0mmodel\u001b[0m \u001b[1;33m=\u001b[0m \u001b[0mModel\u001b[0m\u001b[1;33m(\u001b[0m\u001b[0minputs\u001b[0m\u001b[1;33m=\u001b[0m\u001b[1;33m[\u001b[0m\u001b[0minput_1\u001b[0m\u001b[1;33m,\u001b[0m \u001b[0minput_2\u001b[0m\u001b[1;33m]\u001b[0m\u001b[1;33m,\u001b[0m \u001b[0moutputs\u001b[0m\u001b[1;33m=\u001b[0m\u001b[0my\u001b[0m\u001b[1;33m)\u001b[0m\u001b[1;33m\u001b[0m\u001b[0m\n\u001b[0m",
      "\u001b[1;32mc:\\python\\python36\\lib\\site-packages\\keras\\legacy\\interfaces.py\u001b[0m in \u001b[0;36mwrapper\u001b[1;34m(*args, **kwargs)\u001b[0m\n\u001b[0;32m     89\u001b[0m                 warnings.warn('Update your `' + object_name + '` call to the ' +\n\u001b[0;32m     90\u001b[0m                               'Keras 2 API: ' + signature, stacklevel=2)\n\u001b[1;32m---> 91\u001b[1;33m             \u001b[1;32mreturn\u001b[0m \u001b[0mfunc\u001b[0m\u001b[1;33m(\u001b[0m\u001b[1;33m*\u001b[0m\u001b[0margs\u001b[0m\u001b[1;33m,\u001b[0m \u001b[1;33m**\u001b[0m\u001b[0mkwargs\u001b[0m\u001b[1;33m)\u001b[0m\u001b[1;33m\u001b[0m\u001b[0m\n\u001b[0m\u001b[0;32m     92\u001b[0m         \u001b[0mwrapper\u001b[0m\u001b[1;33m.\u001b[0m\u001b[0m_original_function\u001b[0m \u001b[1;33m=\u001b[0m \u001b[0mfunc\u001b[0m\u001b[1;33m\u001b[0m\u001b[0m\n\u001b[0;32m     93\u001b[0m         \u001b[1;32mreturn\u001b[0m \u001b[0mwrapper\u001b[0m\u001b[1;33m\u001b[0m\u001b[0m\n",
      "\u001b[1;32mc:\\python\\python36\\lib\\site-packages\\keras\\engine\\network.py\u001b[0m in \u001b[0;36m__init__\u001b[1;34m(self, *args, **kwargs)\u001b[0m\n\u001b[0;32m     91\u001b[0m                 'inputs' in kwargs and 'outputs' in kwargs):\n\u001b[0;32m     92\u001b[0m             \u001b[1;31m# Graph network\u001b[0m\u001b[1;33m\u001b[0m\u001b[1;33m\u001b[0m\u001b[0m\n\u001b[1;32m---> 93\u001b[1;33m             \u001b[0mself\u001b[0m\u001b[1;33m.\u001b[0m\u001b[0m_init_graph_network\u001b[0m\u001b[1;33m(\u001b[0m\u001b[1;33m*\u001b[0m\u001b[0margs\u001b[0m\u001b[1;33m,\u001b[0m \u001b[1;33m**\u001b[0m\u001b[0mkwargs\u001b[0m\u001b[1;33m)\u001b[0m\u001b[1;33m\u001b[0m\u001b[0m\n\u001b[0m\u001b[0;32m     94\u001b[0m         \u001b[1;32melse\u001b[0m\u001b[1;33m:\u001b[0m\u001b[1;33m\u001b[0m\u001b[0m\n\u001b[0;32m     95\u001b[0m             \u001b[1;31m# Subclassed network\u001b[0m\u001b[1;33m\u001b[0m\u001b[1;33m\u001b[0m\u001b[0m\n",
      "\u001b[1;32mc:\\python\\python36\\lib\\site-packages\\keras\\engine\\network.py\u001b[0m in \u001b[0;36m_init_graph_network\u001b[1;34m(self, inputs, outputs, name)\u001b[0m\n\u001b[0;32m    229\u001b[0m         \u001b[1;31m# Keep track of the network's nodes and layers.\u001b[0m\u001b[1;33m\u001b[0m\u001b[1;33m\u001b[0m\u001b[0m\n\u001b[0;32m    230\u001b[0m         nodes, nodes_by_depth, layers, layers_by_depth = _map_graph_network(\n\u001b[1;32m--> 231\u001b[1;33m             self.inputs, self.outputs)\n\u001b[0m\u001b[0;32m    232\u001b[0m         \u001b[0mself\u001b[0m\u001b[1;33m.\u001b[0m\u001b[0m_network_nodes\u001b[0m \u001b[1;33m=\u001b[0m \u001b[0mnodes\u001b[0m\u001b[1;33m\u001b[0m\u001b[0m\n\u001b[0;32m    233\u001b[0m         \u001b[0mself\u001b[0m\u001b[1;33m.\u001b[0m\u001b[0m_nodes_by_depth\u001b[0m \u001b[1;33m=\u001b[0m \u001b[0mnodes_by_depth\u001b[0m\u001b[1;33m\u001b[0m\u001b[0m\n",
      "\u001b[1;32mc:\\python\\python36\\lib\\site-packages\\keras\\engine\\network.py\u001b[0m in \u001b[0;36m_map_graph_network\u001b[1;34m(inputs, outputs)\u001b[0m\n\u001b[0;32m   1441\u001b[0m                                          \u001b[1;34m'The following previous layers '\u001b[0m\u001b[1;33m\u001b[0m\u001b[0m\n\u001b[0;32m   1442\u001b[0m                                          \u001b[1;34m'were accessed without issue: '\u001b[0m \u001b[1;33m+\u001b[0m\u001b[1;33m\u001b[0m\u001b[0m\n\u001b[1;32m-> 1443\u001b[1;33m                                          str(layers_with_complete_input))\n\u001b[0m\u001b[0;32m   1444\u001b[0m                 \u001b[1;32mfor\u001b[0m \u001b[0mx\u001b[0m \u001b[1;32min\u001b[0m \u001b[0mnode\u001b[0m\u001b[1;33m.\u001b[0m\u001b[0moutput_tensors\u001b[0m\u001b[1;33m:\u001b[0m\u001b[1;33m\u001b[0m\u001b[0m\n\u001b[0;32m   1445\u001b[0m                     \u001b[0mcomputable_tensors\u001b[0m\u001b[1;33m.\u001b[0m\u001b[0mappend\u001b[0m\u001b[1;33m(\u001b[0m\u001b[0mx\u001b[0m\u001b[1;33m)\u001b[0m\u001b[1;33m\u001b[0m\u001b[0m\n",
      "\u001b[1;31mValueError\u001b[0m: Graph disconnected: cannot obtain value for tensor Tensor(\"input_1:0\", shape=(?, 200, 1), dtype=float32) at layer \"input_1\". The following previous layers were accessed without issue: []"
     ]
    }
   ],
   "source": [
    "model = Model(inputs=[input_1, input_2], outputs=y)"
   ]
  },
  {
   "cell_type": "code",
   "execution_count": null,
   "metadata": {},
   "outputs": [],
   "source": [
    "load_model()"
   ]
  },
  {
   "cell_type": "code",
   "execution_count": null,
   "metadata": {},
   "outputs": [],
   "source": []
  },
  {
   "cell_type": "code",
   "execution_count": 49,
   "metadata": {},
   "outputs": [
    {
     "data": {
      "text/plain": [
       "(2466, 19, 19, 200)"
      ]
     },
     "execution_count": 49,
     "metadata": {},
     "output_type": "execute_result"
    }
   ],
   "source": [
    "train_samples_1.shape"
   ]
  },
  {
   "cell_type": "markdown",
   "metadata": {},
   "source": [
    "# features prep"
   ]
  },
  {
   "cell_type": "code",
   "execution_count": 45,
   "metadata": {},
   "outputs": [],
   "source": [
    "cnn_1d_feature = K.function([cnn_1d_model.layers[0].input, K.learning_phase()],\n",
    "                            [cnn_1d_model.layers[-4].output])"
   ]
  },
  {
   "cell_type": "code",
   "execution_count": 46,
   "metadata": {},
   "outputs": [],
   "source": [
    "cnn_2d_feature = K.function([cnn_2d_model.layers[0].input, K.learning_phase()],\n",
    "                            [cnn_2d_model.layers[-4].output])"
   ]
  },
  {
   "cell_type": "code",
   "execution_count": null,
   "metadata": {},
   "outputs": [],
   "source": []
  },
  {
   "cell_type": "code",
   "execution_count": 51,
   "metadata": {},
   "outputs": [],
   "source": [
    "features_1d = cnn_1d_feature([train_samples_2])[0]"
   ]
  },
  {
   "cell_type": "code",
   "execution_count": 144,
   "metadata": {},
   "outputs": [],
   "source": [
    "place = Input(shape=(200, 1))"
   ]
  },
  {
   "cell_type": "code",
   "execution_count": 145,
   "metadata": {},
   "outputs": [
    {
     "name": "stdout",
     "output_type": "stream",
     "text": [
      "Tensor(\"input_11:0\", shape=(?, 200, 1), dtype=float32)\n"
     ]
    }
   ],
   "source": [
    "print(place)"
   ]
  },
  {
   "cell_type": "code",
   "execution_count": 154,
   "metadata": {},
   "outputs": [
    {
     "ename": "InvalidArgumentError",
     "evalue": "You must feed a value for placeholder tensor 'input_11' with dtype float and shape [?,200,1]\n\t [[{{node input_11}}]]",
     "output_type": "error",
     "traceback": [
      "\u001b[1;31m---------------------------------------------------------------------------\u001b[0m",
      "\u001b[1;31mInvalidArgumentError\u001b[0m                      Traceback (most recent call last)",
      "\u001b[1;32m<ipython-input-154-b39127de6967>\u001b[0m in \u001b[0;36m<module>\u001b[1;34m\u001b[0m\n\u001b[1;32m----> 1\u001b[1;33m \u001b[0mff\u001b[0m \u001b[1;33m=\u001b[0m \u001b[0mcnn_1d_feature\u001b[0m\u001b[1;33m(\u001b[0m\u001b[1;33m[\u001b[0m\u001b[0mplace\u001b[0m\u001b[1;33m]\u001b[0m\u001b[1;33m)\u001b[0m\u001b[1;33m[\u001b[0m\u001b[1;36m0\u001b[0m\u001b[1;33m]\u001b[0m\u001b[1;33m\u001b[0m\u001b[0m\n\u001b[0m",
      "\u001b[1;32mc:\\python\\python36\\lib\\site-packages\\keras\\backend\\tensorflow_backend.py\u001b[0m in \u001b[0;36m__call__\u001b[1;34m(self, inputs)\u001b[0m\n\u001b[0;32m   2713\u001b[0m                 \u001b[1;32mreturn\u001b[0m \u001b[0mself\u001b[0m\u001b[1;33m.\u001b[0m\u001b[0m_legacy_call\u001b[0m\u001b[1;33m(\u001b[0m\u001b[0minputs\u001b[0m\u001b[1;33m)\u001b[0m\u001b[1;33m\u001b[0m\u001b[0m\n\u001b[0;32m   2714\u001b[0m \u001b[1;33m\u001b[0m\u001b[0m\n\u001b[1;32m-> 2715\u001b[1;33m             \u001b[1;32mreturn\u001b[0m \u001b[0mself\u001b[0m\u001b[1;33m.\u001b[0m\u001b[0m_call\u001b[0m\u001b[1;33m(\u001b[0m\u001b[0minputs\u001b[0m\u001b[1;33m)\u001b[0m\u001b[1;33m\u001b[0m\u001b[0m\n\u001b[0m\u001b[0;32m   2716\u001b[0m         \u001b[1;32melse\u001b[0m\u001b[1;33m:\u001b[0m\u001b[1;33m\u001b[0m\u001b[0m\n\u001b[0;32m   2717\u001b[0m             \u001b[1;32mif\u001b[0m \u001b[0mpy_any\u001b[0m\u001b[1;33m(\u001b[0m\u001b[0mis_tensor\u001b[0m\u001b[1;33m(\u001b[0m\u001b[0mx\u001b[0m\u001b[1;33m)\u001b[0m \u001b[1;32mfor\u001b[0m \u001b[0mx\u001b[0m \u001b[1;32min\u001b[0m \u001b[0minputs\u001b[0m\u001b[1;33m)\u001b[0m\u001b[1;33m:\u001b[0m\u001b[1;33m\u001b[0m\u001b[0m\n",
      "\u001b[1;32mc:\\python\\python36\\lib\\site-packages\\keras\\backend\\tensorflow_backend.py\u001b[0m in \u001b[0;36m_call\u001b[1;34m(self, inputs)\u001b[0m\n\u001b[0;32m   2673\u001b[0m             \u001b[0mfetched\u001b[0m \u001b[1;33m=\u001b[0m \u001b[0mself\u001b[0m\u001b[1;33m.\u001b[0m\u001b[0m_callable_fn\u001b[0m\u001b[1;33m(\u001b[0m\u001b[1;33m*\u001b[0m\u001b[0marray_vals\u001b[0m\u001b[1;33m,\u001b[0m \u001b[0mrun_metadata\u001b[0m\u001b[1;33m=\u001b[0m\u001b[0mself\u001b[0m\u001b[1;33m.\u001b[0m\u001b[0mrun_metadata\u001b[0m\u001b[1;33m)\u001b[0m\u001b[1;33m\u001b[0m\u001b[0m\n\u001b[0;32m   2674\u001b[0m         \u001b[1;32melse\u001b[0m\u001b[1;33m:\u001b[0m\u001b[1;33m\u001b[0m\u001b[0m\n\u001b[1;32m-> 2675\u001b[1;33m             \u001b[0mfetched\u001b[0m \u001b[1;33m=\u001b[0m \u001b[0mself\u001b[0m\u001b[1;33m.\u001b[0m\u001b[0m_callable_fn\u001b[0m\u001b[1;33m(\u001b[0m\u001b[1;33m*\u001b[0m\u001b[0marray_vals\u001b[0m\u001b[1;33m)\u001b[0m\u001b[1;33m\u001b[0m\u001b[0m\n\u001b[0m\u001b[0;32m   2676\u001b[0m         \u001b[1;32mreturn\u001b[0m \u001b[0mfetched\u001b[0m\u001b[1;33m[\u001b[0m\u001b[1;33m:\u001b[0m\u001b[0mlen\u001b[0m\u001b[1;33m(\u001b[0m\u001b[0mself\u001b[0m\u001b[1;33m.\u001b[0m\u001b[0moutputs\u001b[0m\u001b[1;33m)\u001b[0m\u001b[1;33m]\u001b[0m\u001b[1;33m\u001b[0m\u001b[0m\n\u001b[0;32m   2677\u001b[0m \u001b[1;33m\u001b[0m\u001b[0m\n",
      "\u001b[1;32mc:\\python\\python36\\lib\\site-packages\\tensorflow\\python\\client\\session.py\u001b[0m in \u001b[0;36m__call__\u001b[1;34m(self, *args, **kwargs)\u001b[0m\n\u001b[0;32m   1437\u001b[0m           ret = tf_session.TF_SessionRunCallable(\n\u001b[0;32m   1438\u001b[0m               \u001b[0mself\u001b[0m\u001b[1;33m.\u001b[0m\u001b[0m_session\u001b[0m\u001b[1;33m.\u001b[0m\u001b[0m_session\u001b[0m\u001b[1;33m,\u001b[0m \u001b[0mself\u001b[0m\u001b[1;33m.\u001b[0m\u001b[0m_handle\u001b[0m\u001b[1;33m,\u001b[0m \u001b[0margs\u001b[0m\u001b[1;33m,\u001b[0m \u001b[0mstatus\u001b[0m\u001b[1;33m,\u001b[0m\u001b[1;33m\u001b[0m\u001b[0m\n\u001b[1;32m-> 1439\u001b[1;33m               run_metadata_ptr)\n\u001b[0m\u001b[0;32m   1440\u001b[0m         \u001b[1;32mif\u001b[0m \u001b[0mrun_metadata\u001b[0m\u001b[1;33m:\u001b[0m\u001b[1;33m\u001b[0m\u001b[0m\n\u001b[0;32m   1441\u001b[0m           \u001b[0mproto_data\u001b[0m \u001b[1;33m=\u001b[0m \u001b[0mtf_session\u001b[0m\u001b[1;33m.\u001b[0m\u001b[0mTF_GetBuffer\u001b[0m\u001b[1;33m(\u001b[0m\u001b[0mrun_metadata_ptr\u001b[0m\u001b[1;33m)\u001b[0m\u001b[1;33m\u001b[0m\u001b[0m\n",
      "\u001b[1;32mc:\\python\\python36\\lib\\site-packages\\tensorflow\\python\\framework\\errors_impl.py\u001b[0m in \u001b[0;36m__exit__\u001b[1;34m(self, type_arg, value_arg, traceback_arg)\u001b[0m\n\u001b[0;32m    526\u001b[0m             \u001b[1;32mNone\u001b[0m\u001b[1;33m,\u001b[0m \u001b[1;32mNone\u001b[0m\u001b[1;33m,\u001b[0m\u001b[1;33m\u001b[0m\u001b[0m\n\u001b[0;32m    527\u001b[0m             \u001b[0mcompat\u001b[0m\u001b[1;33m.\u001b[0m\u001b[0mas_text\u001b[0m\u001b[1;33m(\u001b[0m\u001b[0mc_api\u001b[0m\u001b[1;33m.\u001b[0m\u001b[0mTF_Message\u001b[0m\u001b[1;33m(\u001b[0m\u001b[0mself\u001b[0m\u001b[1;33m.\u001b[0m\u001b[0mstatus\u001b[0m\u001b[1;33m.\u001b[0m\u001b[0mstatus\u001b[0m\u001b[1;33m)\u001b[0m\u001b[1;33m)\u001b[0m\u001b[1;33m,\u001b[0m\u001b[1;33m\u001b[0m\u001b[0m\n\u001b[1;32m--> 528\u001b[1;33m             c_api.TF_GetCode(self.status.status))\n\u001b[0m\u001b[0;32m    529\u001b[0m     \u001b[1;31m# Delete the underlying status object from memory otherwise it stays alive\u001b[0m\u001b[1;33m\u001b[0m\u001b[1;33m\u001b[0m\u001b[0m\n\u001b[0;32m    530\u001b[0m     \u001b[1;31m# as there is a reference to status from this from the traceback due to\u001b[0m\u001b[1;33m\u001b[0m\u001b[1;33m\u001b[0m\u001b[0m\n",
      "\u001b[1;31mInvalidArgumentError\u001b[0m: You must feed a value for placeholder tensor 'input_11' with dtype float and shape [?,200,1]\n\t [[{{node input_11}}]]"
     ]
    }
   ],
   "source": [
    "ff = cnn_1d_feature([place])[0]"
   ]
  },
  {
   "cell_type": "code",
   "execution_count": 156,
   "metadata": {},
   "outputs": [],
   "source": [
    "fla_cnn_1d_model = Model(inputs=cnn_1d_model.input,\n",
    "                         outputs=cnn_1d_model.layers[-4].output)"
   ]
  },
  {
   "cell_type": "code",
   "execution_count": 157,
   "metadata": {},
   "outputs": [
    {
     "name": "stdout",
     "output_type": "stream",
     "text": [
      "<keras.engine.training.Model object at 0x000002624D55E6A0>\n"
     ]
    }
   ],
   "source": [
    "print(fla_cnn_1d_model)"
   ]
  },
  {
   "cell_type": "code",
   "execution_count": 159,
   "metadata": {},
   "outputs": [
    {
     "data": {
      "text/plain": [
       "<tf.Tensor 'model_9/flatten_1/Reshape:0' shape=(?, ?) dtype=float32>"
      ]
     },
     "execution_count": 159,
     "metadata": {},
     "output_type": "execute_result"
    }
   ],
   "source": [
    "fla_cnn_1d_model(place)"
   ]
  },
  {
   "cell_type": "code",
   "execution_count": 166,
   "metadata": {},
   "outputs": [
    {
     "data": {
      "text/plain": [
       "<tf.Tensor 'model_9/flatten_1/Reshape:0' shape=(?, ?) dtype=float32>"
      ]
     },
     "execution_count": 166,
     "metadata": {},
     "output_type": "execute_result"
    }
   ],
   "source": [
    "fla_cnn_1d_model([place])"
   ]
  },
  {
   "cell_type": "code",
   "execution_count": 169,
   "metadata": {},
   "outputs": [],
   "source": [
    "fla_cnn_2d_model = Model(inputs=cnn_2d_model.input,\n",
    "                         outputs=cnn_2d_model.layers[-4].output)"
   ]
  },
  {
   "cell_type": "code",
   "execution_count": 171,
   "metadata": {},
   "outputs": [],
   "source": [
    "places = Input(shape=(19, 19, 200))"
   ]
  },
  {
   "cell_type": "code",
   "execution_count": 172,
   "metadata": {},
   "outputs": [
    {
     "name": "stderr",
     "output_type": "stream",
     "text": [
      "Exception ignored in: <bound method BaseSession._Callable.__del__ of <tensorflow.python.client.session.BaseSession._Callable object at 0x000002624D771240>>\n",
      "Traceback (most recent call last):\n",
      "  File \"c:\\python\\python36\\lib\\site-packages\\tensorflow\\python\\client\\session.py\", line 1455, in __del__\n",
      "    self._session._session, self._handle, status)\n",
      "  File \"c:\\python\\python36\\lib\\site-packages\\tensorflow\\python\\framework\\errors_impl.py\", line 528, in __exit__\n",
      "    c_api.TF_GetCode(self.status.status))\n",
      "tensorflow.python.framework.errors_impl.InvalidArgumentError: No such callable handle: 2621179347136\n"
     ]
    },
    {
     "data": {
      "text/plain": [
       "<tf.Tensor 'model_11/flatten_23/Reshape:0' shape=(?, ?) dtype=float32>"
      ]
     },
     "execution_count": 172,
     "metadata": {},
     "output_type": "execute_result"
    }
   ],
   "source": [
    "fla_cnn_2d_model([places])"
   ]
  },
  {
   "cell_type": "code",
   "execution_count": 174,
   "metadata": {},
   "outputs": [
    {
     "ename": "AttributeError",
     "evalue": "Layer model_9 has multiple inbound nodes, hence the notion of \"layer output\" is ill-defined. Use `get_output_at(node_index)` instead.",
     "output_type": "error",
     "traceback": [
      "\u001b[1;31m---------------------------------------------------------------------------\u001b[0m",
      "\u001b[1;31mAttributeError\u001b[0m                            Traceback (most recent call last)",
      "\u001b[1;32m<ipython-input-174-75faca36a77a>\u001b[0m in \u001b[0;36m<module>\u001b[1;34m\u001b[0m\n\u001b[1;32m----> 1\u001b[1;33m \u001b[0mx\u001b[0m \u001b[1;33m=\u001b[0m \u001b[0mconcatenate\u001b[0m\u001b[1;33m(\u001b[0m\u001b[1;33m[\u001b[0m\u001b[0mfla_cnn_1d_model\u001b[0m\u001b[1;33m.\u001b[0m\u001b[0moutput\u001b[0m\u001b[1;33m,\u001b[0m \u001b[0mfla_cnn_2d_model\u001b[0m\u001b[1;33m.\u001b[0m\u001b[0moutput\u001b[0m\u001b[1;33m]\u001b[0m\u001b[1;33m,\u001b[0m \u001b[0maxis\u001b[0m\u001b[1;33m=\u001b[0m\u001b[1;36m1\u001b[0m\u001b[1;33m)\u001b[0m\u001b[1;33m\u001b[0m\u001b[0m\n\u001b[0m",
      "\u001b[1;32mc:\\python\\python36\\lib\\site-packages\\keras\\engine\\base_layer.py\u001b[0m in \u001b[0;36moutput\u001b[1;34m(self)\u001b[0m\n\u001b[0;32m    811\u001b[0m         \u001b[1;32mif\u001b[0m \u001b[0mlen\u001b[0m\u001b[1;33m(\u001b[0m\u001b[0mself\u001b[0m\u001b[1;33m.\u001b[0m\u001b[0m_inbound_nodes\u001b[0m\u001b[1;33m)\u001b[0m \u001b[1;33m>\u001b[0m \u001b[1;36m1\u001b[0m\u001b[1;33m:\u001b[0m\u001b[1;33m\u001b[0m\u001b[0m\n\u001b[0;32m    812\u001b[0m             raise AttributeError('Layer ' + self.name +\n\u001b[1;32m--> 813\u001b[1;33m                                  \u001b[1;34m' has multiple inbound nodes, '\u001b[0m\u001b[1;33m\u001b[0m\u001b[0m\n\u001b[0m\u001b[0;32m    814\u001b[0m                                  \u001b[1;34m'hence the notion of \"layer output\" '\u001b[0m\u001b[1;33m\u001b[0m\u001b[0m\n\u001b[0;32m    815\u001b[0m                                  \u001b[1;34m'is ill-defined. '\u001b[0m\u001b[1;33m\u001b[0m\u001b[0m\n",
      "\u001b[1;31mAttributeError\u001b[0m: Layer model_9 has multiple inbound nodes, hence the notion of \"layer output\" is ill-defined. Use `get_output_at(node_index)` instead."
     ]
    }
   ],
   "source": [
    "x = concatenate([fla_cnn_1d_model.output, fla_cnn_2d_model.output], axis=1)"
   ]
  },
  {
   "cell_type": "code",
   "execution_count": null,
   "metadata": {},
   "outputs": [],
   "source": []
  },
  {
   "cell_type": "code",
   "execution_count": 52,
   "metadata": {},
   "outputs": [],
   "source": [
    "features_2d = cnn_2d_feature([train_samples_1])[0]"
   ]
  },
  {
   "cell_type": "code",
   "execution_count": 53,
   "metadata": {},
   "outputs": [
    {
     "name": "stdout",
     "output_type": "stream",
     "text": [
      "(2466, 864)\n",
      "(2466, 432)\n"
     ]
    }
   ],
   "source": [
    "print(features_1d.shape)\n",
    "print(features_2d.shape)"
   ]
  },
  {
   "cell_type": "markdown",
   "metadata": {},
   "source": [
    "# features concatenate"
   ]
  },
  {
   "cell_type": "code",
   "execution_count": 54,
   "metadata": {},
   "outputs": [],
   "source": [
    "fusion_layer = np.concatenate([features_1d, features_2d], axis=1)"
   ]
  },
  {
   "cell_type": "code",
   "execution_count": 55,
   "metadata": {},
   "outputs": [
    {
     "name": "stdout",
     "output_type": "stream",
     "text": [
      "(2466, 1296)\n"
     ]
    }
   ],
   "source": [
    "print(fusion_layer.shape)"
   ]
  },
  {
   "cell_type": "code",
   "execution_count": 177,
   "metadata": {},
   "outputs": [],
   "source": [
    "inputs = Input(shape=(fusion_layer.shape[-1],))\n",
    "y = Dense(256, activation='relu')(inputs)\n",
    "output = Dense(c[0], activation='softmax')(y)"
   ]
  },
  {
   "cell_type": "code",
   "execution_count": 129,
   "metadata": {},
   "outputs": [],
   "source": [
    "model1 = Model(inputs=inputs, outputs=output)"
   ]
  },
  {
   "cell_type": "code",
   "execution_count": 130,
   "metadata": {},
   "outputs": [],
   "source": [
    "model1.compile(optimizer=Adam(0.0001), loss=\"categorical_crossentropy\", metrics=[\"accuracy\"])"
   ]
  },
  {
   "cell_type": "code",
   "execution_count": 131,
   "metadata": {
    "scrolled": true
   },
   "outputs": [
    {
     "name": "stdout",
     "output_type": "stream",
     "text": [
      "Epoch 1/100\n",
      "2466/2466 [==============================] - 1s 357us/step - loss: 1.7909 - acc: 0.5470\n",
      "Epoch 2/100\n",
      "2466/2466 [==============================] - 0s 125us/step - loss: 0.7469 - acc: 0.8629\n",
      "Epoch 3/100\n",
      "2466/2466 [==============================] - 0s 131us/step - loss: 0.4133 - acc: 0.9404\n",
      "Epoch 4/100\n",
      "2466/2466 [==============================] - 0s 125us/step - loss: 0.2626 - acc: 0.9704\n",
      "Epoch 5/100\n",
      "2466/2466 [==============================] - 0s 124us/step - loss: 0.1763 - acc: 0.9874\n",
      "Epoch 6/100\n",
      "2466/2466 [==============================] - 0s 131us/step - loss: 0.1285 - acc: 0.9931\n",
      "Epoch 7/100\n",
      "2466/2466 [==============================] - 0s 128us/step - loss: 0.0977 - acc: 0.9947\n",
      "Epoch 8/100\n",
      "2466/2466 [==============================] - 0s 126us/step - loss: 0.0773 - acc: 0.9972\n",
      "Epoch 9/100\n",
      "2466/2466 [==============================] - 0s 133us/step - loss: 0.0621 - acc: 0.9984\n",
      "Epoch 10/100\n",
      "2466/2466 [==============================] - 0s 137us/step - loss: 0.0514 - acc: 0.9992\n",
      "Epoch 11/100\n",
      "2466/2466 [==============================] - 0s 136us/step - loss: 0.0434 - acc: 0.9996\n",
      "Epoch 12/100\n",
      "2466/2466 [==============================] - 0s 125us/step - loss: 0.0369 - acc: 0.9992\n",
      "Epoch 13/100\n",
      "2466/2466 [==============================] - 0s 124us/step - loss: 0.0320 - acc: 1.0000\n",
      "Epoch 14/100\n",
      "2466/2466 [==============================] - 0s 123us/step - loss: 0.0280 - acc: 1.0000\n",
      "Epoch 15/100\n",
      "2466/2466 [==============================] - 0s 127us/step - loss: 0.0244 - acc: 1.0000\n",
      "Epoch 16/100\n",
      "2466/2466 [==============================] - 0s 127us/step - loss: 0.0217 - acc: 1.0000\n",
      "Epoch 17/100\n",
      "2466/2466 [==============================] - 0s 143us/step - loss: 0.0193 - acc: 1.0000\n",
      "Epoch 18/100\n",
      "2466/2466 [==============================] - 0s 133us/step - loss: 0.0174 - acc: 1.0000\n",
      "Epoch 19/100\n",
      "2466/2466 [==============================] - 0s 124us/step - loss: 0.0157 - acc: 1.0000\n",
      "Epoch 20/100\n",
      "2466/2466 [==============================] - 0s 127us/step - loss: 0.0141 - acc: 1.0000\n",
      "Epoch 21/100\n",
      "2466/2466 [==============================] - 0s 127us/step - loss: 0.0130 - acc: 1.0000\n",
      "Epoch 22/100\n",
      "2466/2466 [==============================] - 0s 126us/step - loss: 0.0119 - acc: 1.0000\n",
      "Epoch 23/100\n",
      "2466/2466 [==============================] - 0s 125us/step - loss: 0.0107 - acc: 1.0000\n",
      "Epoch 24/100\n",
      "2466/2466 [==============================] - 0s 128us/step - loss: 0.0099 - acc: 1.0000\n",
      "Epoch 25/100\n",
      "2466/2466 [==============================] - 0s 125us/step - loss: 0.0092 - acc: 1.0000\n",
      "Epoch 26/100\n",
      "2466/2466 [==============================] - 0s 126us/step - loss: 0.0085 - acc: 1.0000\n",
      "Epoch 27/100\n",
      "2466/2466 [==============================] - 0s 146us/step - loss: 0.0079 - acc: 1.0000\n",
      "Epoch 28/100\n",
      "2466/2466 [==============================] - 0s 141us/step - loss: 0.0074 - acc: 1.0000\n",
      "Epoch 29/100\n",
      "2466/2466 [==============================] - 0s 140us/step - loss: 0.0069 - acc: 1.0000\n",
      "Epoch 30/100\n",
      "2466/2466 [==============================] - 0s 129us/step - loss: 0.0064 - acc: 1.0000\n",
      "Epoch 31/100\n",
      "2466/2466 [==============================] - 0s 142us/step - loss: 0.0060 - acc: 1.0000\n",
      "Epoch 32/100\n",
      "2466/2466 [==============================] - 0s 121us/step - loss: 0.0056 - acc: 1.0000\n",
      "Epoch 33/100\n",
      "2466/2466 [==============================] - 0s 123us/step - loss: 0.0053 - acc: 1.0000\n",
      "Epoch 34/100\n",
      "2466/2466 [==============================] - 0s 126us/step - loss: 0.0050 - acc: 1.0000\n",
      "Epoch 35/100\n",
      "2466/2466 [==============================] - 0s 128us/step - loss: 0.0047 - acc: 1.0000\n",
      "Epoch 36/100\n",
      "2466/2466 [==============================] - 0s 125us/step - loss: 0.0044 - acc: 1.0000\n",
      "Epoch 37/100\n",
      "2466/2466 [==============================] - 0s 129us/step - loss: 0.0042 - acc: 1.0000\n",
      "Epoch 38/100\n",
      "2466/2466 [==============================] - 0s 126us/step - loss: 0.0040 - acc: 1.0000\n",
      "Epoch 39/100\n",
      "2466/2466 [==============================] - 0s 133us/step - loss: 0.0037 - acc: 1.0000\n",
      "Epoch 40/100\n",
      "2466/2466 [==============================] - 0s 134us/step - loss: 0.0035 - acc: 1.0000\n",
      "Epoch 41/100\n",
      "2466/2466 [==============================] - 0s 126us/step - loss: 0.0034 - acc: 1.0000\n",
      "Epoch 42/100\n",
      "2466/2466 [==============================] - 0s 143us/step - loss: 0.0032 - acc: 1.0000\n",
      "Epoch 43/100\n",
      "2466/2466 [==============================] - 0s 145us/step - loss: 0.0030 - acc: 1.0000\n",
      "Epoch 44/100\n",
      "2466/2466 [==============================] - 0s 145us/step - loss: 0.0029 - acc: 1.0000\n",
      "Epoch 45/100\n",
      "2466/2466 [==============================] - 0s 133us/step - loss: 0.0028 - acc: 1.0000\n",
      "Epoch 46/100\n",
      "2466/2466 [==============================] - 0s 125us/step - loss: 0.0026 - acc: 1.0000\n",
      "Epoch 47/100\n",
      "2466/2466 [==============================] - 0s 149us/step - loss: 0.0025 - acc: 1.0000\n",
      "Epoch 48/100\n",
      "2466/2466 [==============================] - 0s 129us/step - loss: 0.0024 - acc: 1.0000\n",
      "Epoch 49/100\n",
      "2466/2466 [==============================] - 0s 127us/step - loss: 0.0023 - acc: 1.0000\n",
      "Epoch 50/100\n",
      "2466/2466 [==============================] - 0s 126us/step - loss: 0.0022 - acc: 1.0000\n",
      "Epoch 51/100\n",
      "2466/2466 [==============================] - 0s 140us/step - loss: 0.0021 - acc: 1.0000\n",
      "Epoch 52/100\n",
      "2466/2466 [==============================] - 0s 134us/step - loss: 0.0020 - acc: 1.0000 0s - loss: 0.0021 - acc: 1.\n",
      "Epoch 53/100\n",
      "2466/2466 [==============================] - 0s 127us/step - loss: 0.0019 - acc: 1.0000\n",
      "Epoch 54/100\n",
      "2466/2466 [==============================] - 0s 132us/step - loss: 0.0018 - acc: 1.0000\n",
      "Epoch 55/100\n",
      "2466/2466 [==============================] - 0s 128us/step - loss: 0.0017 - acc: 1.0000\n",
      "Epoch 56/100\n",
      "2466/2466 [==============================] - 0s 123us/step - loss: 0.0017 - acc: 1.0000\n",
      "Epoch 57/100\n",
      "2466/2466 [==============================] - 0s 133us/step - loss: 0.0016 - acc: 1.0000\n",
      "Epoch 58/100\n",
      "2466/2466 [==============================] - 0s 124us/step - loss: 0.0015 - acc: 1.0000\n",
      "Epoch 59/100\n",
      "2466/2466 [==============================] - 0s 131us/step - loss: 0.0015 - acc: 1.0000\n",
      "Epoch 60/100\n",
      "2466/2466 [==============================] - 0s 125us/step - loss: 0.0014 - acc: 1.0000\n",
      "Epoch 61/100\n",
      "2466/2466 [==============================] - 0s 138us/step - loss: 0.0014 - acc: 1.0000\n",
      "Epoch 62/100\n",
      "2466/2466 [==============================] - 0s 132us/step - loss: 0.0013 - acc: 1.0000\n",
      "Epoch 63/100\n",
      "2466/2466 [==============================] - 0s 124us/step - loss: 0.0013 - acc: 1.0000\n",
      "Epoch 64/100\n",
      "2466/2466 [==============================] - 0s 123us/step - loss: 0.0012 - acc: 1.0000\n",
      "Epoch 65/100\n",
      "2466/2466 [==============================] - 0s 130us/step - loss: 0.0012 - acc: 1.0000\n",
      "Epoch 66/100\n",
      "2466/2466 [==============================] - 0s 132us/step - loss: 0.0011 - acc: 1.0000\n",
      "Epoch 67/100\n",
      "2466/2466 [==============================] - 0s 129us/step - loss: 0.0011 - acc: 1.0000\n",
      "Epoch 68/100\n",
      "2466/2466 [==============================] - 0s 126us/step - loss: 0.0010 - acc: 1.0000\n",
      "Epoch 69/100\n",
      "2466/2466 [==============================] - 0s 135us/step - loss: 9.9883e-04 - acc: 1.0000\n",
      "Epoch 70/100\n",
      "2466/2466 [==============================] - 0s 127us/step - loss: 9.6116e-04 - acc: 1.0000\n",
      "Epoch 71/100\n",
      "2466/2466 [==============================] - 0s 137us/step - loss: 9.2762e-04 - acc: 1.0000\n",
      "Epoch 72/100\n",
      "2466/2466 [==============================] - 0s 135us/step - loss: 8.9601e-04 - acc: 1.0000\n",
      "Epoch 73/100\n",
      "2466/2466 [==============================] - 0s 131us/step - loss: 8.6243e-04 - acc: 1.0000\n",
      "Epoch 74/100\n",
      "2466/2466 [==============================] - 0s 134us/step - loss: 8.3231e-04 - acc: 1.0000\n",
      "Epoch 75/100\n",
      "2466/2466 [==============================] - 0s 125us/step - loss: 8.0441e-04 - acc: 1.0000\n",
      "Epoch 76/100\n",
      "2466/2466 [==============================] - 0s 138us/step - loss: 7.7439e-04 - acc: 1.0000\n",
      "Epoch 77/100\n",
      "2466/2466 [==============================] - 0s 130us/step - loss: 7.4527e-04 - acc: 1.0000\n",
      "Epoch 78/100\n",
      "2466/2466 [==============================] - 0s 134us/step - loss: 7.2287e-04 - acc: 1.0000\n",
      "Epoch 79/100\n",
      "2466/2466 [==============================] - 0s 132us/step - loss: 6.9958e-04 - acc: 1.0000\n",
      "Epoch 80/100\n",
      "2466/2466 [==============================] - 0s 134us/step - loss: 6.7228e-04 - acc: 1.0000\n",
      "Epoch 81/100\n"
     ]
    },
    {
     "name": "stdout",
     "output_type": "stream",
     "text": [
      "2466/2466 [==============================] - 0s 150us/step - loss: 6.5137e-04 - acc: 1.0000\n",
      "Epoch 82/100\n",
      "2466/2466 [==============================] - 0s 142us/step - loss: 6.3002e-04 - acc: 1.0000\n",
      "Epoch 83/100\n",
      "2466/2466 [==============================] - 0s 144us/step - loss: 6.0851e-04 - acc: 1.0000\n",
      "Epoch 84/100\n",
      "2466/2466 [==============================] - 0s 133us/step - loss: 5.8589e-04 - acc: 1.0000\n",
      "Epoch 85/100\n",
      "2466/2466 [==============================] - 0s 139us/step - loss: 5.7441e-04 - acc: 1.0000\n",
      "Epoch 86/100\n",
      "2466/2466 [==============================] - 0s 121us/step - loss: 5.4830e-04 - acc: 1.0000\n",
      "Epoch 87/100\n",
      "2466/2466 [==============================] - 0s 136us/step - loss: 5.2826e-04 - acc: 1.0000\n",
      "Epoch 88/100\n",
      "2466/2466 [==============================] - 0s 128us/step - loss: 5.1178e-04 - acc: 1.0000\n",
      "Epoch 89/100\n",
      "2466/2466 [==============================] - 0s 140us/step - loss: 4.9805e-04 - acc: 1.0000\n",
      "Epoch 90/100\n",
      "2466/2466 [==============================] - 0s 124us/step - loss: 4.7876e-04 - acc: 1.0000\n",
      "Epoch 91/100\n",
      "2466/2466 [==============================] - 0s 141us/step - loss: 4.6269e-04 - acc: 1.0000\n",
      "Epoch 92/100\n",
      "2466/2466 [==============================] - 0s 125us/step - loss: 4.4802e-04 - acc: 1.0000\n",
      "Epoch 93/100\n",
      "2466/2466 [==============================] - 0s 130us/step - loss: 4.3181e-04 - acc: 1.0000\n",
      "Epoch 94/100\n",
      "2466/2466 [==============================] - 0s 134us/step - loss: 4.1998e-04 - acc: 1.0000\n",
      "Epoch 95/100\n",
      "2466/2466 [==============================] - 0s 124us/step - loss: 4.0728e-04 - acc: 1.0000\n",
      "Epoch 96/100\n",
      "2466/2466 [==============================] - 0s 130us/step - loss: 3.9181e-04 - acc: 1.0000\n",
      "Epoch 97/100\n",
      "2466/2466 [==============================] - 0s 130us/step - loss: 3.8128e-04 - acc: 1.0000\n",
      "Epoch 98/100\n",
      "2466/2466 [==============================] - 0s 132us/step - loss: 3.6996e-04 - acc: 1.0000\n",
      "Epoch 99/100\n",
      "2466/2466 [==============================] - 0s 129us/step - loss: 3.5642e-04 - acc: 1.0000\n",
      "Epoch 100/100\n",
      "2466/2466 [==============================] - 0s 141us/step - loss: 3.4636e-04 - acc: 1.0000\n"
     ]
    }
   ],
   "source": [
    "network = model1.fit(fusion_layer, train_labels, batch_size=50, epochs=100, verbose=1)"
   ]
  },
  {
   "cell_type": "code",
   "execution_count": 60,
   "metadata": {
    "collapsed": true
   },
   "outputs": [
    {
     "name": "stdout",
     "output_type": "stream",
     "text": [
      "Overall Accuracy:100.0000%\n",
      "Kappa:  1.0\n",
      "              precision    recall  f1-score   support\n",
      "\n",
      "           1     1.0000    1.0000    1.0000        33\n",
      "           2     1.0000    1.0000    1.0000       200\n",
      "           3     1.0000    1.0000    1.0000       200\n",
      "           4     1.0000    1.0000    1.0000       181\n",
      "           5     1.0000    1.0000    1.0000       200\n",
      "           6     1.0000    1.0000    1.0000       200\n",
      "           7     1.0000    1.0000    1.0000        20\n",
      "           8     1.0000    1.0000    1.0000       200\n",
      "           9     1.0000    1.0000    1.0000        14\n",
      "          10     1.0000    1.0000    1.0000       200\n",
      "          11     1.0000    1.0000    1.0000       200\n",
      "          12     1.0000    1.0000    1.0000       200\n",
      "          13     1.0000    1.0000    1.0000       143\n",
      "          14     1.0000    1.0000    1.0000       200\n",
      "          15     1.0000    1.0000    1.0000       200\n",
      "          16     1.0000    1.0000    1.0000        75\n",
      "\n",
      "   micro avg     1.0000    1.0000    1.0000      2466\n",
      "   macro avg     1.0000    1.0000    1.0000      2466\n",
      "weighted avg     1.0000    1.0000    1.0000      2466\n",
      "\n"
     ]
    },
    {
     "data": {
      "image/png": "[encoded data removed]",
      "text/plain": [
       "<Figure size 720x504 with 2 Axes>"
      ]
     },
     "metadata": {
      "needs_background": "light"
     },
     "output_type": "display_data"
    }
   ],
   "source": [
    "predic = model.predict(fusion_layer)\n",
    "print_plot_cm(train_labels, predic)"
   ]
  },
  {
   "cell_type": "code",
   "execution_count": 61,
   "metadata": {},
   "outputs": [],
   "source": [
    "bands_data, is_train, training_labels = get_prep_data(data_path=MAIN_FOLDER+DATA_PATH[i], \n",
    "                                                      train_data_path=MAIN_FOLDER+TRAIN_PATH[i])"
   ]
  },
  {
   "cell_type": "code",
   "execution_count": 62,
   "metadata": {},
   "outputs": [],
   "source": [
    "_, x_test_index, _, y_test = custom_train_index(is_train, training_labels, c=c[i], \n",
    "                                                lists=lists[i])"
   ]
  },
  {
   "cell_type": "code",
   "execution_count": 63,
   "metadata": {},
   "outputs": [],
   "source": [
    "samples = []\n",
    "for j in x_test_index:\n",
    "    sample = bands_data[j[0], j[1]]\n",
    "    samples.append(sample)\n",
    "samples = np.stack(samples)\n",
    "samples = samples.reshape((samples.shape[0], samples.shape[1], -1))"
   ]
  },
  {
   "cell_type": "code",
   "execution_count": 64,
   "metadata": {},
   "outputs": [
    {
     "name": "stdout",
     "output_type": "stream",
     "text": [
      "(7783, 200, 1)\n"
     ]
    }
   ],
   "source": [
    "print(samples.shape)"
   ]
  },
  {
   "cell_type": "code",
   "execution_count": 65,
   "metadata": {},
   "outputs": [],
   "source": [
    "featurs_1 = cnn_1d_feature([samples])[0]"
   ]
  },
  {
   "cell_type": "code",
   "execution_count": 66,
   "metadata": {},
   "outputs": [
    {
     "name": "stdout",
     "output_type": "stream",
     "text": [
      "(7783, 864)\n"
     ]
    }
   ],
   "source": [
    "print(featurs_1.shape)"
   ]
  },
  {
   "cell_type": "code",
   "execution_count": 67,
   "metadata": {},
   "outputs": [
    {
     "name": "stdout",
     "output_type": "stream",
     "text": [
      "Batches Features...\n",
      "Batches Features...\n",
      "Batches Features...\n"
     ]
    }
   ],
   "source": [
    "samples_1 = []\n",
    "features = []\n",
    "n = int((m - 1) / 2)\n",
    "x_test_nindex = x_test_index + n\n",
    "bands_data = np.pad(bands_data, ((n, n), (n, n), (0, 0)), 'constant', constant_values=0)\n",
    "for i, j in enumerate(x_test_nindex):\n",
    "    k1 = j[0] - n\n",
    "    k2 = j[0] + n + 1\n",
    "    k3 = j[1] - n\n",
    "    k4 = j[1] + n + 1\n",
    "    block = bands_data[k1:k2, k3:k4]\n",
    "    samples_1.append(block)\n",
    "    if len(samples_1) == 3200 or i == x_test_nindex.shape[0] - 1:\n",
    "        print(\"Batches Features...\")\n",
    "        pre = np.stack(samples_1)\n",
    "        feature = cnn_2d_feature([pre])[0]\n",
    "        features.append(feature)\n",
    "        samples_1 = []\n",
    "features = np.concatenate(features)"
   ]
  },
  {
   "cell_type": "code",
   "execution_count": 68,
   "metadata": {},
   "outputs": [
    {
     "name": "stdout",
     "output_type": "stream",
     "text": [
      "(7783, 432)\n"
     ]
    }
   ],
   "source": [
    "print(features.shape)"
   ]
  },
  {
   "cell_type": "code",
   "execution_count": 69,
   "metadata": {},
   "outputs": [
    {
     "name": "stdout",
     "output_type": "stream",
     "text": [
      "(7783, 1296)\n"
     ]
    }
   ],
   "source": [
    "fea = np.concatenate([featurs_1, features], axis=1)\n",
    "print(fea.shape)"
   ]
  },
  {
   "cell_type": "code",
   "execution_count": 133,
   "metadata": {},
   "outputs": [],
   "source": [
    "pred = model1.predict(fea)"
   ]
  },
  {
   "cell_type": "code",
   "execution_count": 134,
   "metadata": {},
   "outputs": [
    {
     "name": "stdout",
     "output_type": "stream",
     "text": [
      "Overall Accuracy:99.0107%\n",
      "Kappa:  0.9883143433849298\n",
      "              precision    recall  f1-score   support\n",
      "\n",
      "         1.0     1.0000    1.0000    1.0000        13\n",
      "         2.0     0.9918    0.9821    0.9869      1228\n",
      "         3.0     0.9752    0.9968    0.9859       630\n",
      "         4.0     0.9655    1.0000    0.9825        56\n",
      "         5.0     0.9859    0.9894    0.9877       283\n",
      "         6.0     0.9925    0.9981    0.9953       530\n",
      "         7.0     1.0000    1.0000    1.0000         8\n",
      "         8.0     1.0000    1.0000    1.0000       278\n",
      "         9.0     1.0000    1.0000    1.0000         6\n",
      "        10.0     0.9821    0.9935    0.9878       772\n",
      "        11.0     0.9973    0.9831    0.9902      2255\n",
      "        12.0     0.9703    0.9975    0.9837       393\n",
      "        13.0     1.0000    1.0000    1.0000        62\n",
      "        14.0     0.9962    0.9962    0.9962      1065\n",
      "        15.0     0.9788    0.9946    0.9867       186\n",
      "        16.0     0.9474    1.0000    0.9730        18\n",
      "\n",
      "   micro avg     0.9901    0.9901    0.9901      7783\n",
      "   macro avg     0.9864    0.9957    0.9910      7783\n",
      "weighted avg     0.9902    0.9901    0.9901      7783\n",
      "\n"
     ]
    },
    {
     "data": {
      "image/png": "[encoded data removed]",
      "text/plain": [
       "<Figure size 720x504 with 2 Axes>"
      ]
     },
     "metadata": {
      "needs_background": "light"
     },
     "output_type": "display_data"
    }
   ],
   "source": [
    "print_plot_cm(y_test, pred)"
   ]
  },
  {
   "cell_type": "code",
   "execution_count": 114,
   "metadata": {},
   "outputs": [],
   "source": [
    "bands_data_dict = sio.loadmat(MAIN_FOLDER+DATA_PATH[0])\n",
    "bands_data_1 = bands_data_dict[list(bands_data_dict.keys())[-1]]\n",
    "bands_data_1 = norma_data(bands_data_1)"
   ]
  },
  {
   "cell_type": "code",
   "execution_count": 79,
   "metadata": {},
   "outputs": [
    {
     "name": "stdout",
     "output_type": "stream",
     "text": [
      "E:/HSI/IP/Indian_pines_corrected\n"
     ]
    }
   ],
   "source": [
    "print(MAIN_FOLDER+DATA_PATH[0])"
   ]
  },
  {
   "cell_type": "code",
   "execution_count": 107,
   "metadata": {},
   "outputs": [],
   "source": [
    "pre = bands_data_1.reshape((bands_data_1.shape[0]*bands_data_1.shape[1], bands_data_1.shape[2], -1))"
   ]
  },
  {
   "cell_type": "code",
   "execution_count": 108,
   "metadata": {},
   "outputs": [
    {
     "name": "stdout",
     "output_type": "stream",
     "text": [
      "(21025, 200, 1)\n"
     ]
    }
   ],
   "source": [
    "print(pre.shape)"
   ]
  },
  {
   "cell_type": "code",
   "execution_count": 109,
   "metadata": {},
   "outputs": [],
   "source": [
    "f1 = cnn_1d_feature([pre])[0]"
   ]
  },
  {
   "cell_type": "code",
   "execution_count": 110,
   "metadata": {},
   "outputs": [
    {
     "name": "stdout",
     "output_type": "stream",
     "text": [
      "(21025, 864)\n"
     ]
    }
   ],
   "source": [
    "print(f1.shape)"
   ]
  },
  {
   "cell_type": "code",
   "execution_count": 111,
   "metadata": {},
   "outputs": [
    {
     "name": "stdout",
     "output_type": "stream",
     "text": [
      "(145, 145, 200)\n"
     ]
    }
   ],
   "source": [
    "print(bands_data_1.shape)"
   ]
  },
  {
   "cell_type": "code",
   "execution_count": 115,
   "metadata": {
    "collapsed": true
   },
   "outputs": [
    {
     "name": "stdout",
     "output_type": "stream",
     "text": [
      "Batches Features...\n",
      "Batches Features...\n",
      "Batches Features...\n",
      "Batches Features...\n",
      "Batches Features...\n",
      "Batches Features...\n",
      "Batches Features...\n",
      "Batches Features...\n",
      "Batches Features...\n",
      "Batches Features...\n",
      "Batches Features...\n",
      "Batches Features...\n",
      "Batches Features...\n",
      "Batches Features...\n",
      "Batches Features...\n",
      "Batches Features...\n",
      "Batches Features...\n",
      "Batches Features...\n",
      "Batches Features...\n",
      "Batches Features...\n",
      "Batches Features...\n",
      "Batches Features...\n",
      "Batches Features...\n",
      "Batches Features...\n",
      "Batches Features...\n",
      "Batches Features...\n",
      "Batches Features...\n",
      "Batches Features...\n",
      "Batches Features...\n",
      "Batches Features...\n",
      "Batches Features...\n",
      "Batches Features...\n",
      "Batches Features...\n",
      "Batches Features...\n",
      "Batches Features...\n",
      "Batches Features...\n",
      "Batches Features...\n",
      "Batches Features...\n",
      "Batches Features...\n",
      "Batches Features...\n",
      "Batches Features...\n",
      "Batches Features...\n",
      "Batches Features...\n",
      "Batches Features...\n",
      "Batches Features...\n",
      "Batches Features...\n",
      "Batches Features...\n",
      "Batches Features...\n",
      "Batches Features...\n",
      "Batches Features...\n",
      "Batches Features...\n",
      "Batches Features...\n",
      "Batches Features...\n",
      "Batches Features...\n",
      "Batches Features...\n",
      "Batches Features...\n",
      "Batches Features...\n",
      "Batches Features...\n",
      "Batches Features...\n",
      "Batches Features...\n",
      "Batches Features...\n",
      "Batches Features...\n",
      "Batches Features...\n",
      "Batches Features...\n",
      "Batches Features...\n",
      "Batches Features...\n",
      "Batches Features...\n",
      "Batches Features...\n",
      "Batches Features...\n",
      "Batches Features...\n",
      "Batches Features...\n",
      "Batches Features...\n",
      "Batches Features...\n",
      "Batches Features...\n",
      "Batches Features...\n",
      "Batches Features...\n",
      "Batches Features...\n",
      "Batches Features...\n",
      "Batches Features...\n",
      "Batches Features...\n",
      "Batches Features...\n",
      "Batches Features...\n",
      "Batches Features...\n",
      "Batches Features...\n",
      "Batches Features...\n",
      "Batches Features...\n",
      "Batches Features...\n",
      "Batches Features...\n",
      "Batches Features...\n",
      "Batches Features...\n",
      "Batches Features...\n",
      "Batches Features...\n",
      "Batches Features...\n",
      "Batches Features...\n",
      "Batches Features...\n",
      "Batches Features...\n",
      "Batches Features...\n",
      "Batches Features...\n",
      "Batches Features...\n",
      "Batches Features...\n",
      "Batches Features...\n",
      "Batches Features...\n",
      "Batches Features...\n",
      "Batches Features...\n",
      "Batches Features...\n",
      "Batches Features...\n",
      "Batches Features...\n",
      "Batches Features...\n",
      "Batches Features...\n",
      "Batches Features...\n",
      "Batches Features...\n",
      "Batches Features...\n",
      "Batches Features...\n",
      "Batches Features...\n",
      "Batches Features...\n",
      "Batches Features...\n",
      "Batches Features...\n",
      "Batches Features...\n",
      "Batches Features...\n",
      "Batches Features...\n",
      "Batches Features...\n",
      "Batches Features...\n",
      "Batches Features...\n",
      "Batches Features...\n",
      "Batches Features...\n",
      "Batches Features...\n",
      "Batches Features...\n",
      "Batches Features...\n",
      "Batches Features...\n",
      "Batches Features...\n",
      "Batches Features...\n",
      "Batches Features...\n",
      "Batches Features...\n",
      "Batches Features...\n",
      "Batches Features...\n",
      "Batches Features...\n",
      "Batches Features...\n",
      "Batches Features...\n",
      "Batches Features...\n",
      "Batches Features...\n",
      "Batches Features...\n",
      "Batches Features...\n",
      "Batches Features...\n",
      "Batches Features...\n",
      "Batches Features...\n",
      "Batches Features...\n",
      "Batches Features...\n",
      "Batches Features...\n",
      "Batches Features...\n",
      "Batches Features...\n",
      "Batches Features...\n"
     ]
    }
   ],
   "source": [
    "n = int((m - 1) / 2)\n",
    "bands_data_1 = np.pad(bands_data_1, ((n, n), (n, n), (0, 0)), 'constant', constant_values=0)\n",
    "cols = bands_data_1.shape[1]-2*n\n",
    "rows = bands_data_1.shape[0]-2*n\n",
    "result1 = []\n",
    "f2 = []\n",
    "for g in range(0, rows, 1):\n",
    "    for h in range(0, cols, 1):\n",
    "        data = bands_data_1[g: g + m, h: h + m, :]\n",
    "        result1.append(data)\n",
    "        if len(result1) == 3200 or g == int(rows-1):\n",
    "            print(\"Batches Features...\")\n",
    "            pre1 = np.stack(result1)\n",
    "            fe = cnn_2d_feature([pre1])[0]\n",
    "            f2.append(fe)\n",
    "            result1 = []\n",
    "f2 = np.concatenate(f2)"
   ]
  },
  {
   "cell_type": "code",
   "execution_count": 116,
   "metadata": {},
   "outputs": [
    {
     "name": "stdout",
     "output_type": "stream",
     "text": [
      "(21025, 432)\n"
     ]
    }
   ],
   "source": [
    "print(f2.shape)"
   ]
  },
  {
   "cell_type": "code",
   "execution_count": 117,
   "metadata": {},
   "outputs": [],
   "source": [
    "f3 = np.concatenate([f1, f2], axis=1)"
   ]
  },
  {
   "cell_type": "code",
   "execution_count": 136,
   "metadata": {},
   "outputs": [],
   "source": [
    "p = model1.predict(f3)"
   ]
  },
  {
   "cell_type": "code",
   "execution_count": 178,
   "metadata": {},
   "outputs": [
    {
     "data": {
      "image/png": "[encoded data removed]",
      "text/plain": [
       "<Figure size 432x288 with 1 Axes>"
      ]
     },
     "metadata": {
      "needs_background": "light"
     },
     "output_type": "display_data"
    },
    {
     "name": "stdout",
     "output_type": "stream",
     "text": [
      "Confidence < 0.5:  0.15386444708680141\n"
     ]
    },
    {
     "data": {
      "image/png": "[encoded data removed]",
      "text/plain": [
       "<Figure size 432x288 with 3 Axes>"
      ]
     },
     "metadata": {
      "needs_background": "light"
     },
     "output_type": "display_data"
    }
   ],
   "source": [
    "write_whole_image_classification_result(p, shape=(145, 145))\n",
    "\n",
    "write_whole_image_predicts_prob(p, shape=(145, 145))"
   ]
  },
  {
   "cell_type": "code",
   "execution_count": null,
   "metadata": {},
   "outputs": [],
   "source": [
    "pf = open(log, 'w')\n",
    "pf.write(\"\")"
   ]
  },
  {
   "cell_type": "code",
   "execution_count": null,
   "metadata": {},
   "outputs": [],
   "source": []
  },
  {
   "cell_type": "code",
   "execution_count": null,
   "metadata": {},
   "outputs": [],
   "source": []
  },
  {
   "cell_type": "code",
   "execution_count": null,
   "metadata": {},
   "outputs": [],
   "source": []
  }
 ],
 "metadata": {
  "kernelspec": {
   "display_name": "Python 3",
   "language": "python",
   "name": "python3"
  },
  "language_info": {
   "codemirror_mode": {
    "name": "ipython",
    "version": 3
   },
   "file_extension": ".py",
   "mimetype": "text/x-python",
   "name": "python",
   "nbconvert_exporter": "python",
   "pygments_lexer": "ipython3",
   "version": "3.6.1rc1"
  }
 },
 "nbformat": 4,
 "nbformat_minor": 2
}
