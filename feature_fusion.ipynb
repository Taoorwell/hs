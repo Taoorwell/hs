{
 "cells": [
  {
   "cell_type": "code",
   "execution_count": 1,
   "metadata": {},
   "outputs": [
    {
     "name": "stderr",
     "output_type": "stream",
     "text": [
      "Using TensorFlow backend.\n"
     ]
    }
   ],
   "source": [
    "from python_gdal import *\n",
    "from models_keras import *\n",
    "import time\n",
    "from keras import backend as K"
   ]
  },
  {
   "cell_type": "code",
   "execution_count": 2,
   "metadata": {},
   "outputs": [],
   "source": [
    "MAIN_FOLDER = r'E:/HSI/'\n",
    "IP_DATA_PATH = 'IP/Indian_pines_corrected'\n",
    "IP_TRAIN_PATH = 'IP/Indian_pines_gt'\n",
    "PAVIA_DATA_PATH = \"Pavia/Pavia\"\n",
    "PAVIA_TRAIN_PATH = \"Pavia/Pavia_gt\"\n",
    "PAVIA_U_DATA_PATH = \"Pavia/PaviaU\"\n",
    "PAVIA_U_TRAIN_PATH = \"Pavia/PaviaU_gt\"\n",
    "SALINAS_DATA_PATH = \"Salinas/Salinas\"\n",
    "SALINAS_TRAIN_PATH = 'Salinas/Salinas_gt'\n",
    "KSC_DATA_PATH = \"KSC/KSC\"\n",
    "KSC_TRAIN_PATH = \"KSC/KSC_gt\"\n",
    "IEEEHSI_2018_DATA_PATH = \"2018IEEEHSI/FullHSIDataset/20170218_UH_CASI_S4_NAD83.pix\"\n",
    "IEEEHSI_2018_TRAIN_PATH = \"2018IEEEHSI/GT\""
   ]
  },
  {
   "cell_type": "code",
   "execution_count": 3,
   "metadata": {},
   "outputs": [],
   "source": [
    "c = [16, 9, 9, 13]\n",
    "input_shape1 = [(200,), (102,), (103,), (176,)]\n",
    "input_shape2 = [(200, 1), (102, 1), (103, 1), (176, 1)]\n",
    "lists2 = [200, 200, 200, 200, 200, 200, 200, 200, 200]\n",
    "lists1 = [33, 200, 200, 181, 200, 200, 20, 200, 14, 200, 200, 200, 143, 200, 200, 75]\n",
    "lists3 = [200, 150, 150, 150, 100, 150, 50, 200, 200, 200, 200, 200, 200]\n",
    "lists = [lists1, lists2, lists2, lists3]\n",
    "image_shape = [(145, 145), (1096, 715), (610, 340), (512, 614)]\n",
    "DATA_PATH = [IP_DATA_PATH, PAVIA_DATA_PATH, PAVIA_U_DATA_PATH, KSC_DATA_PATH]\n",
    "TRAIN_PATH = [IP_TRAIN_PATH, PAVIA_TRAIN_PATH, PAVIA_U_TRAIN_PATH, KSC_TRAIN_PATH]"
   ]
  },
  {
   "cell_type": "code",
   "execution_count": 4,
   "metadata": {},
   "outputs": [],
   "source": [
    "i = 2\n",
    "m = 41"
   ]
  },
  {
   "cell_type": "markdown",
   "metadata": {},
   "source": [
    "# data prep"
   ]
  },
  {
   "cell_type": "code",
   "execution_count": 22,
   "metadata": {},
   "outputs": [],
   "source": [
    "train_samples_1, train_labels_1 = get_train_sample(data_path=MAIN_FOLDER+DATA_PATH[i],\n",
    "                                               train_data_path=MAIN_FOLDER+TRAIN_PATH[i],\n",
    "                                               c=c[i], m=m, lists=lists[i], d=4)"
   ]
  },
  {
   "cell_type": "code",
   "execution_count": 23,
   "metadata": {},
   "outputs": [
    {
     "name": "stdout",
     "output_type": "stream",
     "text": [
      "(1800, 17, 17, 103)\n"
     ]
    }
   ],
   "source": [
    "print(train_samples_1.shape)"
   ]
  },
  {
   "cell_type": "code",
   "execution_count": 24,
   "metadata": {},
   "outputs": [
    {
     "name": "stdout",
     "output_type": "stream",
     "text": [
      "(1800, 103, 1)\n"
     ]
    }
   ],
   "source": [
    "t = train_samples_1[:, 8, 8, :]\n",
    "t1= np.expand_dims(t, axis=-1)\n",
    "print(t1.shape)"
   ]
  },
  {
   "cell_type": "code",
   "execution_count": 25,
   "metadata": {},
   "outputs": [],
   "source": [
    "train_samples_2, train_labels_2 = get_train_sample(data_path=MAIN_FOLDER+DATA_PATH[i],\n",
    "                                               train_data_path=MAIN_FOLDER+TRAIN_PATH[i],\n",
    "                                               c=c[i], m=1, lists=lists[i], d=3)"
   ]
  },
  {
   "cell_type": "code",
   "execution_count": 26,
   "metadata": {},
   "outputs": [
    {
     "name": "stdout",
     "output_type": "stream",
     "text": [
      "(1800, 103, 1)\n"
     ]
    }
   ],
   "source": [
    "print(train_samples_2.shape)"
   ]
  },
  {
   "cell_type": "code",
   "execution_count": 27,
   "metadata": {},
   "outputs": [],
   "source": [
    "train_labels = one_hot_encode(c=c[i], labels=train_labels_1)"
   ]
  },
  {
   "cell_type": "code",
   "execution_count": 28,
   "metadata": {},
   "outputs": [
    {
     "name": "stdout",
     "output_type": "stream",
     "text": [
      "[2. 7. 6. 3. 1. 5. 4. 7. 8. 6.]\n",
      "[2. 7. 6. 3. 1. 5. 4. 7. 8. 6.]\n"
     ]
    }
   ],
   "source": [
    "print(train_labels_1[:10])\n",
    "print(train_labels_2[:10])"
   ]
  },
  {
   "cell_type": "markdown",
   "metadata": {},
   "source": [
    "# model prep"
   ]
  },
  {
   "cell_type": "code",
   "execution_count": 44,
   "metadata": {},
   "outputs": [],
   "source": [
    "input_1 = (200, 1)\n",
    "input_2 = (17, 17, 200)"
   ]
  },
  {
   "cell_type": "code",
   "execution_count": 47,
   "metadata": {},
   "outputs": [],
   "source": [
    "def combined_1d_2d(input_1, input_2, c, lr):\n",
    "    inputs_1 = Input(shape=input_1)\n",
    "    inputs_2 = Input(shape=input_2)\n",
    "    x_1 = Conv1D(24, 3, padding='same')(inputs_1)\n",
    "    x_1 = BatchNormalization()(x_1)\n",
    "    x_1 = Activation(activation='relu')(x_1)\n",
    "    x_1 = MaxPool1D(2, padding='same')(x_1)\n",
    "\n",
    "    x_1 = Conv1D(36, 3, padding='same')(x_1)\n",
    "    x_1 = BatchNormalization()(x_1)\n",
    "    x_1 = Activation(activation='relu')(x_1)\n",
    "    x_1 = MaxPool1D(3, padding='same')(x_1)\n",
    "    x_1 = Dropout(rate=0.1)(x_1)\n",
    "\n",
    "    x_1 = Conv1D(48, 3, padding='same')(x_1)\n",
    "    x_1 = BatchNormalization()(x_1)\n",
    "    x_1 = Activation(activation='relu')(x_1)\n",
    "    x_1 = MaxPool1D(2, padding='same')(x_1)\n",
    "    x_1= Dropout(rate=0.1)(x_1)\n",
    "\n",
    "    x_1 = Conv1D(96, 4, padding='same')(x_1)\n",
    "    x_1 = BatchNormalization()(x_1)\n",
    "    x_1 = Activation(activation='relu')(x_1)\n",
    "    x_1 = MaxPool1D(2, padding='same')(x_1)\n",
    "    x_1 = Dropout(rate=0.1)(x_1)\n",
    "\n",
    "    x_1 = Flatten()(x_1)\n",
    "\n",
    "    x_2 = Conv2D(12, (3, 3), padding='same')(inputs_2)\n",
    "    x_2 = BatchNormalization()(x_2)\n",
    "    x_2 = Activation(activation='relu')(x_2)\n",
    "    x_2 = MaxPool2D(pool_size=2, padding='same')(x_2)\n",
    "\n",
    "    x_2 = Conv2D(24, (3, 3), padding='same')(x_2)\n",
    "    x_2 = BatchNormalization()(x_2)\n",
    "    x_2 = Activation(activation='relu')(x_2)\n",
    "    x_2 = MaxPool2D(pool_size=2, padding='same')(x_2)\n",
    "\n",
    "    x_2 = Conv2D(48, (3, 3), padding='same')(x_2)\n",
    "    x_2 = BatchNormalization()(x_2)\n",
    "    x_2 = Activation(activation='relu')(x_2)\n",
    "    x_2 = MaxPool2D(pool_size=2, padding='same')(x_2)\n",
    "    x_2 = Dropout(rate=0.2)(x_2)\n",
    "\n",
    "    x_2 = Flatten()(x_2)\n",
    "\n",
    "    combine_layer = concatenate([x_1, x_2], axis=1)\n",
    "\n",
    "    y = Dense(256, activation='relu')(combine_layer)\n",
    "\n",
    "    output = Dense(c, activation='softmax')(y)\n",
    "\n",
    "    model = Model(inputs=[inputs_1, inputs_2], outputs=output)\n",
    "    model.compile(optimizer=Adam(lr=lr), loss=\"categorical_crossentropy\", metrics=[\"accuracy\"])\n",
    "    return model"
   ]
  },
  {
   "cell_type": "code",
   "execution_count": 48,
   "metadata": {},
   "outputs": [],
   "source": [
    "combine_model = combined_1d_2d(input_1, input_2, c=16, lr=0.0001)"
   ]
  },
  {
   "cell_type": "code",
   "execution_count": 49,
   "metadata": {},
   "outputs": [
    {
     "name": "stdout",
     "output_type": "stream",
     "text": [
      "__________________________________________________________________________________________________\n",
      "Layer (type)                    Output Shape         Param #     Connected to                     \n",
      "==================================================================================================\n",
      "input_9 (InputLayer)            (None, 200, 1)       0                                            \n",
      "__________________________________________________________________________________________________\n",
      "conv1d_5 (Conv1D)               (None, 200, 24)      96          input_9[0][0]                    \n",
      "__________________________________________________________________________________________________\n",
      "batch_normalization_8 (BatchNor (None, 200, 24)      96          conv1d_5[0][0]                   \n",
      "__________________________________________________________________________________________________\n",
      "activation_8 (Activation)       (None, 200, 24)      0           batch_normalization_8[0][0]      \n",
      "__________________________________________________________________________________________________\n",
      "max_pooling1d_5 (MaxPooling1D)  (None, 100, 24)      0           activation_8[0][0]               \n",
      "__________________________________________________________________________________________________\n",
      "conv1d_6 (Conv1D)               (None, 100, 36)      2628        max_pooling1d_5[0][0]            \n",
      "__________________________________________________________________________________________________\n",
      "batch_normalization_9 (BatchNor (None, 100, 36)      144         conv1d_6[0][0]                   \n",
      "__________________________________________________________________________________________________\n",
      "input_10 (InputLayer)           (None, 17, 17, 200)  0                                            \n",
      "__________________________________________________________________________________________________\n",
      "activation_9 (Activation)       (None, 100, 36)      0           batch_normalization_9[0][0]      \n",
      "__________________________________________________________________________________________________\n",
      "conv2d_4 (Conv2D)               (None, 17, 17, 12)   21612       input_10[0][0]                   \n",
      "__________________________________________________________________________________________________\n",
      "max_pooling1d_6 (MaxPooling1D)  (None, 34, 36)       0           activation_9[0][0]               \n",
      "__________________________________________________________________________________________________\n",
      "batch_normalization_12 (BatchNo (None, 17, 17, 12)   48          conv2d_4[0][0]                   \n",
      "__________________________________________________________________________________________________\n",
      "dropout_4 (Dropout)             (None, 34, 36)       0           max_pooling1d_6[0][0]            \n",
      "__________________________________________________________________________________________________\n",
      "activation_12 (Activation)      (None, 17, 17, 12)   0           batch_normalization_12[0][0]     \n",
      "__________________________________________________________________________________________________\n",
      "conv1d_7 (Conv1D)               (None, 34, 48)       5232        dropout_4[0][0]                  \n",
      "__________________________________________________________________________________________________\n",
      "max_pooling2d_4 (MaxPooling2D)  (None, 9, 9, 12)     0           activation_12[0][0]              \n",
      "__________________________________________________________________________________________________\n",
      "batch_normalization_10 (BatchNo (None, 34, 48)       192         conv1d_7[0][0]                   \n",
      "__________________________________________________________________________________________________\n",
      "conv2d_5 (Conv2D)               (None, 9, 9, 24)     2616        max_pooling2d_4[0][0]            \n",
      "__________________________________________________________________________________________________\n",
      "activation_10 (Activation)      (None, 34, 48)       0           batch_normalization_10[0][0]     \n",
      "__________________________________________________________________________________________________\n",
      "batch_normalization_13 (BatchNo (None, 9, 9, 24)     96          conv2d_5[0][0]                   \n",
      "__________________________________________________________________________________________________\n",
      "max_pooling1d_7 (MaxPooling1D)  (None, 17, 48)       0           activation_10[0][0]              \n",
      "__________________________________________________________________________________________________\n",
      "activation_13 (Activation)      (None, 9, 9, 24)     0           batch_normalization_13[0][0]     \n",
      "__________________________________________________________________________________________________\n",
      "dropout_5 (Dropout)             (None, 17, 48)       0           max_pooling1d_7[0][0]            \n",
      "__________________________________________________________________________________________________\n",
      "max_pooling2d_5 (MaxPooling2D)  (None, 5, 5, 24)     0           activation_13[0][0]              \n",
      "__________________________________________________________________________________________________\n",
      "conv1d_8 (Conv1D)               (None, 17, 96)       18528       dropout_5[0][0]                  \n",
      "__________________________________________________________________________________________________\n",
      "conv2d_6 (Conv2D)               (None, 5, 5, 48)     10416       max_pooling2d_5[0][0]            \n",
      "__________________________________________________________________________________________________\n",
      "batch_normalization_11 (BatchNo (None, 17, 96)       384         conv1d_8[0][0]                   \n",
      "__________________________________________________________________________________________________\n",
      "batch_normalization_14 (BatchNo (None, 5, 5, 48)     192         conv2d_6[0][0]                   \n",
      "__________________________________________________________________________________________________\n",
      "activation_11 (Activation)      (None, 17, 96)       0           batch_normalization_11[0][0]     \n",
      "__________________________________________________________________________________________________\n",
      "activation_14 (Activation)      (None, 5, 5, 48)     0           batch_normalization_14[0][0]     \n",
      "__________________________________________________________________________________________________\n",
      "max_pooling1d_8 (MaxPooling1D)  (None, 9, 96)        0           activation_11[0][0]              \n",
      "__________________________________________________________________________________________________\n",
      "max_pooling2d_6 (MaxPooling2D)  (None, 3, 3, 48)     0           activation_14[0][0]              \n",
      "__________________________________________________________________________________________________\n",
      "dropout_6 (Dropout)             (None, 9, 96)        0           max_pooling1d_8[0][0]            \n",
      "__________________________________________________________________________________________________\n",
      "dropout_7 (Dropout)             (None, 3, 3, 48)     0           max_pooling2d_6[0][0]            \n",
      "__________________________________________________________________________________________________\n",
      "flatten_2 (Flatten)             (None, 864)          0           dropout_6[0][0]                  \n",
      "__________________________________________________________________________________________________\n",
      "flatten_3 (Flatten)             (None, 432)          0           dropout_7[0][0]                  \n",
      "__________________________________________________________________________________________________\n",
      "concatenate_2 (Concatenate)     (None, 1296)         0           flatten_2[0][0]                  \n",
      "                                                                 flatten_3[0][0]                  \n",
      "__________________________________________________________________________________________________\n",
      "dense_4 (Dense)                 (None, 256)          332032      concatenate_2[0][0]              \n",
      "__________________________________________________________________________________________________\n",
      "dense_5 (Dense)                 (None, 16)           4112        dense_4[0][0]                    \n",
      "==================================================================================================\n",
      "Total params: 398,424\n",
      "Trainable params: 397,848\n",
      "Non-trainable params: 576\n",
      "__________________________________________________________________________________________________\n"
     ]
    }
   ],
   "source": [
    "combine_model.summary()"
   ]
  },
  {
   "cell_type": "code",
   "execution_count": 57,
   "metadata": {},
   "outputs": [
    {
     "name": "stdout",
     "output_type": "stream",
     "text": [
      "(2466, 200, 1)\n"
     ]
    }
   ],
   "source": [
    "print(train_samples_2.shape)"
   ]
  },
  {
   "cell_type": "code",
   "execution_count": 58,
   "metadata": {},
   "outputs": [],
   "source": [
    "train_samples_2 = np.expand_dims(train_samples_1[:, 8, 8, :], axis=-1)"
   ]
  },
  {
   "cell_type": "code",
   "execution_count": 59,
   "metadata": {},
   "outputs": [
    {
     "name": "stdout",
     "output_type": "stream",
     "text": [
      "Epoch 1/20\n",
      "2466/2466 [==============================] - 7s 3ms/step - loss: 0.1086 - acc: 0.9688\n",
      "Epoch 2/20\n",
      "2466/2466 [==============================] - 7s 3ms/step - loss: 0.0632 - acc: 0.9878\n",
      "Epoch 3/20\n",
      "2466/2466 [==============================] - 7s 3ms/step - loss: 0.0950 - acc: 0.9708\n",
      "Epoch 4/20\n",
      "2466/2466 [==============================] - 7s 3ms/step - loss: 0.0573 - acc: 0.9886\n",
      "Epoch 5/20\n",
      "2466/2466 [==============================] - 7s 3ms/step - loss: 0.0571 - acc: 0.9866A: 1s - loss\n",
      "Epoch 6/20\n",
      "2466/2466 [==============================] - 7s 3ms/step - loss: 0.0494 - acc: 0.9891\n",
      "Epoch 7/20\n",
      "2466/2466 [==============================] - 7s 3ms/step - loss: 0.0512 - acc: 0.9874\n",
      "Epoch 8/20\n",
      "2466/2466 [==============================] - 7s 3ms/step - loss: 0.1056 - acc: 0.9639\n",
      "Epoch 9/20\n",
      "2466/2466 [==============================] - 7s 3ms/step - loss: 0.0429 - acc: 0.9915\n",
      "Epoch 10/20\n",
      "2466/2466 [==============================] - 7s 3ms/step - loss: 0.0785 - acc: 0.9765\n",
      "Epoch 11/20\n",
      "2466/2466 [==============================] - 7s 3ms/step - loss: 0.0752 - acc: 0.9753\n",
      "Epoch 12/20\n",
      "2466/2466 [==============================] - 7s 3ms/step - loss: 0.0367 - acc: 0.9907A: 0s - loss: 0.0374 - acc: 0\n",
      "Epoch 13/20\n",
      "2466/2466 [==============================] - 7s 3ms/step - loss: 0.0520 - acc: 0.9874\n",
      "Epoch 14/20\n",
      "2466/2466 [==============================] - 7s 3ms/step - loss: 0.0286 - acc: 0.9947\n",
      "Epoch 15/20\n",
      "2466/2466 [==============================] - 7s 3ms/step - loss: 0.0268 - acc: 0.9947\n",
      "Epoch 16/20\n",
      "2466/2466 [==============================] - 7s 3ms/step - loss: 0.0200 - acc: 0.9980A: 0s - loss: 0.0205 - acc: \n",
      "Epoch 17/20\n",
      "2466/2466 [==============================] - 7s 3ms/step - loss: 0.0202 - acc: 0.9984\n",
      "Epoch 18/20\n",
      "2466/2466 [==============================] - 7s 3ms/step - loss: 0.0205 - acc: 0.9976\n",
      "Epoch 19/20\n",
      "2466/2466 [==============================] - 7s 3ms/step - loss: 0.0179 - acc: 0.9972\n",
      "Epoch 20/20\n",
      "2466/2466 [==============================] - 7s 3ms/step - loss: 0.0175 - acc: 0.9980\n"
     ]
    }
   ],
   "source": [
    "network = combine_model.fit(x=[train_samples_2, train_samples_1],\n",
    "                            y = train_labels, epochs=20, verbose=1)"
   ]
  },
  {
   "cell_type": "code",
   "execution_count": 60,
   "metadata": {},
   "outputs": [],
   "source": [
    "save_model(combine_model, \"cnn_1d_2d_17.h5\")"
   ]
  },
  {
   "cell_type": "code",
   "execution_count": 63,
   "metadata": {},
   "outputs": [],
   "source": [
    "def get_test_predict(model, data_path, train_data_path, c, lists, bsize, norma_methods='z-score', pca=False, m=1, n=3):\n",
    "    bands_data, is_train, training_labels = get_prep_data(data_path, train_data_path,\n",
    "                                                          norma_method=norma_methods,\n",
    "                                                          pca=pca, n=n)\n",
    "    _, x_test_index, _, y_test = custom_train_index(is_train, training_labels, c=c, lists=lists)\n",
    "    samples = []\n",
    "    predicts = []\n",
    "    if m == 1:\n",
    "        for i in x_test_index:\n",
    "            sample = bands_data[i[0], i[1]]\n",
    "            samples.append(sample)\n",
    "        samples = np.stack(samples)\n",
    "        if len(model.input.shape) == 3:\n",
    "            samples = samples.reshape((samples.shape[0], samples.shape[1], -1))\n",
    "        predicts = model.predict(samples)\n",
    "\n",
    "    else:\n",
    "        n = int((m - 1) / 2)\n",
    "        x_test_nindex = x_test_index + n\n",
    "        bands_data = np.pad(bands_data, ((n, n), (n, n), (0, 0)), 'constant', constant_values=0)\n",
    "        for i, j in enumerate(x_test_nindex):\n",
    "            k1 = j[0] - n\n",
    "            k2 = j[0] + n + 1\n",
    "            k3 = j[1] - n\n",
    "            k4 = j[1] + n + 1\n",
    "            block = bands_data[k1:k2, k3:k4]\n",
    "            samples.append(block)\n",
    "            if len(samples) == bsize or i == x_test_nindex.shape[0] - 1:\n",
    "                # print(\"Batches Predictions...\")\n",
    "                pre = np.stack(samples)\n",
    "#                 if len(model.input.shape) == 5:\n",
    "#                     pre = pre.reshape((pre.shape[0], pre.shape[1], pre.shape[2], pre.shape[3], -1))\n",
    "                pre1 = np.expand_dims(pre[:, n, n, :], axis=-1) \n",
    "                predict = model.predict([pre1, pre])\n",
    "                predicts.append(predict)\n",
    "                samples = []\n",
    "        predicts = np.concatenate(predicts)\n",
    "    print(\"Batches Predictions Finish!!!\")\n",
    "    OA, KAPPA = print_plot_cm(y_test, predicts)\n",
    "    return OA, KAPPA"
   ]
  },
  {
   "cell_type": "code",
   "execution_count": 64,
   "metadata": {},
   "outputs": [
    {
     "name": "stdout",
     "output_type": "stream",
     "text": [
      "Batches Predictions Finish!!!\n"
     ]
    }
   ],
   "source": [
    "OA, KAPPA = get_test_predict(model=combine_model, data_path=MAIN_FOLDER+DATA_PATH[i],\n",
    "                             train_data_path=MAIN_FOLDER+TRAIN_PATH[i], c=16,\n",
    "                             lists=lists[i], bsize=3200, norma_methods='z-score',m=17)"
   ]
  },
  {
   "cell_type": "code",
   "execution_count": 65,
   "metadata": {},
   "outputs": [
    {
     "name": "stdout",
     "output_type": "stream",
     "text": [
      "0.9614544520107927 0.9546723210077922\n"
     ]
    }
   ],
   "source": [
    "print(OA, KAPPA)"
   ]
  },
  {
   "cell_type": "code",
   "execution_count": null,
   "metadata": {},
   "outputs": [],
   "source": []
  },
  {
   "cell_type": "code",
   "execution_count": null,
   "metadata": {},
   "outputs": [],
   "source": []
  },
  {
   "cell_type": "code",
   "execution_count": null,
   "metadata": {},
   "outputs": [],
   "source": []
  },
  {
   "cell_type": "code",
   "execution_count": null,
   "metadata": {},
   "outputs": [],
   "source": []
  },
  {
   "cell_type": "code",
   "execution_count": null,
   "metadata": {},
   "outputs": [],
   "source": []
  },
  {
   "cell_type": "code",
   "execution_count": null,
   "metadata": {},
   "outputs": [],
   "source": []
  },
  {
   "cell_type": "code",
   "execution_count": null,
   "metadata": {},
   "outputs": [],
   "source": []
  },
  {
   "cell_type": "code",
   "execution_count": null,
   "metadata": {},
   "outputs": [],
   "source": []
  },
  {
   "cell_type": "code",
   "execution_count": null,
   "metadata": {},
   "outputs": [],
   "source": []
  },
  {
   "cell_type": "markdown",
   "metadata": {},
   "source": [
    "# features prep"
   ]
  },
  {
   "cell_type": "code",
   "execution_count": 15,
   "metadata": {},
   "outputs": [],
   "source": [
    "cnn_1d_path = r\"e:/HSI/code/new_model_0/\"\n",
    "cnn_2d_path = r\"e:/HSI/code/new_model_2/\""
   ]
  },
  {
   "cell_type": "code",
   "execution_count": 17,
   "metadata": {},
   "outputs": [],
   "source": [
    "cnn_1d_model = load_model(cnn_1d_path + \"cnn_1d_P.h5\")\n",
    "cnn_2d_model = load_model(cnn_2d_path + \"41-cnn_2d_P.h5\")"
   ]
  },
  {
   "cell_type": "code",
   "execution_count": 18,
   "metadata": {},
   "outputs": [
    {
     "name": "stdout",
     "output_type": "stream",
     "text": [
      "_________________________________________________________________\n",
      "Layer (type)                 Output Shape              Param #   \n",
      "=================================================================\n",
      "input_1 (InputLayer)         (None, 102, 1)            0         \n",
      "_________________________________________________________________\n",
      "conv1d_1 (Conv1D)            (None, 102, 12)           72        \n",
      "_________________________________________________________________\n",
      "batch_normalization_1 (Batch (None, 102, 12)           48        \n",
      "_________________________________________________________________\n",
      "activation_1 (Activation)    (None, 102, 12)           0         \n",
      "_________________________________________________________________\n",
      "max_pooling1d_1 (MaxPooling1 (None, 51, 12)            0         \n",
      "_________________________________________________________________\n",
      "conv1d_2 (Conv1D)            (None, 51, 24)            1464      \n",
      "_________________________________________________________________\n",
      "batch_normalization_2 (Batch (None, 51, 24)            96        \n",
      "_________________________________________________________________\n",
      "activation_2 (Activation)    (None, 51, 24)            0         \n",
      "_________________________________________________________________\n",
      "max_pooling1d_2 (MaxPooling1 (None, 26, 24)            0         \n",
      "_________________________________________________________________\n",
      "dropout_1 (Dropout)          (None, 26, 24)            0         \n",
      "_________________________________________________________________\n",
      "conv1d_3 (Conv1D)            (None, 26, 48)            5808      \n",
      "_________________________________________________________________\n",
      "batch_normalization_3 (Batch (None, 26, 48)            192       \n",
      "_________________________________________________________________\n",
      "activation_3 (Activation)    (None, 26, 48)            0         \n",
      "_________________________________________________________________\n",
      "max_pooling1d_3 (MaxPooling1 (None, 13, 48)            0         \n",
      "_________________________________________________________________\n",
      "dropout_2 (Dropout)          (None, 13, 48)            0         \n",
      "_________________________________________________________________\n",
      "flatten_1 (Flatten)          (None, 624)               0         \n",
      "_________________________________________________________________\n",
      "dense_1 (Dense)              (None, 512)               320000    \n",
      "_________________________________________________________________\n",
      "dropout_3 (Dropout)          (None, 512)               0         \n",
      "_________________________________________________________________\n",
      "dense_2 (Dense)              (None, 9)                 4617      \n",
      "=================================================================\n",
      "Total params: 332,297\n",
      "Trainable params: 332,129\n",
      "Non-trainable params: 168\n",
      "_________________________________________________________________\n"
     ]
    }
   ],
   "source": [
    "cnn_1d_model.summary()"
   ]
  },
  {
   "cell_type": "code",
   "execution_count": 19,
   "metadata": {},
   "outputs": [
    {
     "name": "stdout",
     "output_type": "stream",
     "text": [
      "_________________________________________________________________\n",
      "Layer (type)                 Output Shape              Param #   \n",
      "=================================================================\n",
      "input_154 (InputLayer)       (None, 41, 41, 102)       0         \n",
      "_________________________________________________________________\n",
      "conv2d_460 (Conv2D)          (None, 41, 41, 12)        11028     \n",
      "_________________________________________________________________\n",
      "batch_normalization_460 (Bat (None, 41, 41, 12)        48        \n",
      "_________________________________________________________________\n",
      "activation_460 (Activation)  (None, 41, 41, 12)        0         \n",
      "_________________________________________________________________\n",
      "max_pooling2d_460 (MaxPoolin (None, 21, 21, 12)        0         \n",
      "_________________________________________________________________\n",
      "conv2d_461 (Conv2D)          (None, 21, 21, 24)        2616      \n",
      "_________________________________________________________________\n",
      "batch_normalization_461 (Bat (None, 21, 21, 24)        96        \n",
      "_________________________________________________________________\n",
      "activation_461 (Activation)  (None, 21, 21, 24)        0         \n",
      "_________________________________________________________________\n",
      "max_pooling2d_461 (MaxPoolin (None, 11, 11, 24)        0         \n",
      "_________________________________________________________________\n",
      "conv2d_462 (Conv2D)          (None, 11, 11, 48)        10416     \n",
      "_________________________________________________________________\n",
      "batch_normalization_462 (Bat (None, 11, 11, 48)        192       \n",
      "_________________________________________________________________\n",
      "activation_462 (Activation)  (None, 11, 11, 48)        0         \n",
      "_________________________________________________________________\n",
      "max_pooling2d_462 (MaxPoolin (None, 6, 6, 48)          0         \n",
      "_________________________________________________________________\n",
      "dropout_307 (Dropout)        (None, 6, 6, 48)          0         \n",
      "_________________________________________________________________\n",
      "flatten_154 (Flatten)        (None, 1728)              0         \n",
      "_________________________________________________________________\n",
      "dense_307 (Dense)            (None, 128)               221312    \n",
      "_________________________________________________________________\n",
      "dropout_308 (Dropout)        (None, 128)               0         \n",
      "_________________________________________________________________\n",
      "dense_308 (Dense)            (None, 9)                 1161      \n",
      "=================================================================\n",
      "Total params: 246,869\n",
      "Trainable params: 246,701\n",
      "Non-trainable params: 168\n",
      "_________________________________________________________________\n"
     ]
    }
   ],
   "source": [
    "cnn_2d_model.summary()"
   ]
  },
  {
   "cell_type": "code",
   "execution_count": 31,
   "metadata": {},
   "outputs": [],
   "source": [
    "cnn_1d_feature = K.function([cnn_1d_model.layers[0].input, K.learning_phase()],\n",
    "                            [cnn_1d_model.layers[-4].output])"
   ]
  },
  {
   "cell_type": "code",
   "execution_count": 32,
   "metadata": {},
   "outputs": [],
   "source": [
    "cnn_2d_feature = K.function([cnn_2d_model.layers[0].input, K.learning_phase()],\n",
    "                            [cnn_2d_model.layers[-4].output])"
   ]
  },
  {
   "cell_type": "code",
   "execution_count": 33,
   "metadata": {},
   "outputs": [],
   "source": [
    "features_1d = cnn_1d_feature([train_samples_2])[0]"
   ]
  },
  {
   "cell_type": "code",
   "execution_count": 34,
   "metadata": {},
   "outputs": [],
   "source": [
    "features_2d = cnn_2d_feature([train_samples_1])[0]"
   ]
  },
  {
   "cell_type": "code",
   "execution_count": 35,
   "metadata": {},
   "outputs": [
    {
     "name": "stdout",
     "output_type": "stream",
     "text": [
      "(1800, 624)\n",
      "(1800, 432)\n"
     ]
    }
   ],
   "source": [
    "print(features_1d.shape)\n",
    "print(features_2d.shape)"
   ]
  },
  {
   "cell_type": "markdown",
   "metadata": {},
   "source": [
    "# features concatenate"
   ]
  },
  {
   "cell_type": "code",
   "execution_count": 36,
   "metadata": {},
   "outputs": [],
   "source": [
    "fusion_layer = np.concatenate([features_1d, features_2d], axis=1)"
   ]
  },
  {
   "cell_type": "code",
   "execution_count": 37,
   "metadata": {},
   "outputs": [
    {
     "name": "stdout",
     "output_type": "stream",
     "text": [
      "(1800, 1056)\n"
     ]
    }
   ],
   "source": [
    "print(fusion_layer.shape)"
   ]
  },
  {
   "cell_type": "code",
   "execution_count": 42,
   "metadata": {},
   "outputs": [],
   "source": [
    "inputs = Input(shape=(fusion_layer.shape[-1],))\n",
    "y = Dense(128, activation='relu')(inputs)\n",
    "y = Dense(128, activation='relu')(y)\n",
    "output = Dense(c[i], activation='softmax')(y)"
   ]
  },
  {
   "cell_type": "code",
   "execution_count": 43,
   "metadata": {},
   "outputs": [],
   "source": [
    "model1 = Model(inputs=inputs, outputs=output)"
   ]
  },
  {
   "cell_type": "code",
   "execution_count": 44,
   "metadata": {},
   "outputs": [],
   "source": [
    "model1.compile(optimizer=Adam(0.0001), loss=\"categorical_crossentropy\", metrics=[\"accuracy\"])"
   ]
  },
  {
   "cell_type": "code",
   "execution_count": 45,
   "metadata": {
    "scrolled": true
   },
   "outputs": [
    {
     "name": "stdout",
     "output_type": "stream",
     "text": [
      "Epoch 1/50\n",
      "1800/1800 [==============================] - 2s 919us/step - loss: 1.6023 - acc: 0.5717\n",
      "Epoch 2/50\n",
      "1800/1800 [==============================] - 0s 68us/step - loss: 0.7929 - acc: 0.9106\n",
      "Epoch 3/50\n",
      "1800/1800 [==============================] - 0s 68us/step - loss: 0.4171 - acc: 0.9683\n",
      "Epoch 4/50\n",
      "1800/1800 [==============================] - 0s 68us/step - loss: 0.2452 - acc: 0.9839\n",
      "Epoch 5/50\n",
      "1800/1800 [==============================] - 0s 69us/step - loss: 0.1583 - acc: 0.9883\n",
      "Epoch 6/50\n",
      "1800/1800 [==============================] - 0s 70us/step - loss: 0.1099 - acc: 0.9922\n",
      "Epoch 7/50\n",
      "1800/1800 [==============================] - 0s 70us/step - loss: 0.0812 - acc: 0.9933\n",
      "Epoch 8/50\n",
      "1800/1800 [==============================] - 0s 69us/step - loss: 0.0630 - acc: 0.9950\n",
      "Epoch 9/50\n",
      "1800/1800 [==============================] - 0s 69us/step - loss: 0.0498 - acc: 0.9956\n",
      "Epoch 10/50\n",
      "1800/1800 [==============================] - 0s 69us/step - loss: 0.0399 - acc: 0.9961\n",
      "Epoch 11/50\n",
      "1800/1800 [==============================] - 0s 70us/step - loss: 0.0331 - acc: 0.9972\n",
      "Epoch 12/50\n",
      "1800/1800 [==============================] - 0s 70us/step - loss: 0.0278 - acc: 0.9989\n",
      "Epoch 13/50\n",
      "1800/1800 [==============================] - 0s 75us/step - loss: 0.0238 - acc: 0.9994\n",
      "Epoch 14/50\n",
      "1800/1800 [==============================] - 0s 94us/step - loss: 0.0205 - acc: 0.9994\n",
      "Epoch 15/50\n",
      "1800/1800 [==============================] - 0s 73us/step - loss: 0.0177 - acc: 0.9994\n",
      "Epoch 16/50\n",
      "1800/1800 [==============================] - 0s 73us/step - loss: 0.0156 - acc: 1.0000\n",
      "Epoch 17/50\n",
      "1800/1800 [==============================] - 0s 73us/step - loss: 0.0136 - acc: 1.0000\n",
      "Epoch 18/50\n",
      "1800/1800 [==============================] - 0s 71us/step - loss: 0.0121 - acc: 1.0000: 0s - loss: 0.0121 - acc: 1.00\n",
      "Epoch 19/50\n",
      "1800/1800 [==============================] - 0s 73us/step - loss: 0.0107 - acc: 1.0000\n",
      "Epoch 20/50\n",
      "1800/1800 [==============================] - 0s 75us/step - loss: 0.0097 - acc: 1.0000\n",
      "Epoch 21/50\n",
      "1800/1800 [==============================] - 0s 73us/step - loss: 0.0086 - acc: 1.0000\n",
      "Epoch 22/50\n",
      "1800/1800 [==============================] - 0s 72us/step - loss: 0.0077 - acc: 1.0000\n",
      "Epoch 23/50\n",
      "1800/1800 [==============================] - 0s 72us/step - loss: 0.0070 - acc: 1.0000\n",
      "Epoch 24/50\n",
      "1800/1800 [==============================] - 0s 73us/step - loss: 0.0063 - acc: 1.0000\n",
      "Epoch 25/50\n",
      "1800/1800 [==============================] - 0s 83us/step - loss: 0.0057 - acc: 1.0000\n",
      "Epoch 26/50\n",
      "1800/1800 [==============================] - 0s 70us/step - loss: 0.0053 - acc: 1.0000\n",
      "Epoch 27/50\n",
      "1800/1800 [==============================] - 0s 73us/step - loss: 0.0048 - acc: 1.0000\n",
      "Epoch 28/50\n",
      "1800/1800 [==============================] - 0s 79us/step - loss: 0.0044 - acc: 1.0000\n",
      "Epoch 29/50\n",
      "1800/1800 [==============================] - 0s 80us/step - loss: 0.0040 - acc: 1.0000\n",
      "Epoch 30/50\n",
      "1800/1800 [==============================] - 0s 70us/step - loss: 0.0037 - acc: 1.0000\n",
      "Epoch 31/50\n",
      "1800/1800 [==============================] - 0s 70us/step - loss: 0.0034 - acc: 1.0000\n",
      "Epoch 32/50\n",
      "1800/1800 [==============================] - 0s 72us/step - loss: 0.0032 - acc: 1.0000\n",
      "Epoch 33/50\n",
      "1800/1800 [==============================] - 0s 79us/step - loss: 0.0029 - acc: 1.0000\n",
      "Epoch 34/50\n",
      "1800/1800 [==============================] - 0s 79us/step - loss: 0.0028 - acc: 1.0000\n",
      "Epoch 35/50\n",
      "1800/1800 [==============================] - 0s 71us/step - loss: 0.0026 - acc: 1.0000\n",
      "Epoch 36/50\n",
      "1800/1800 [==============================] - 0s 81us/step - loss: 0.0024 - acc: 1.0000\n",
      "Epoch 37/50\n",
      "1800/1800 [==============================] - 0s 73us/step - loss: 0.0022 - acc: 1.0000\n",
      "Epoch 38/50\n",
      "1800/1800 [==============================] - 0s 71us/step - loss: 0.0021 - acc: 1.0000\n",
      "Epoch 39/50\n",
      "1800/1800 [==============================] - 0s 75us/step - loss: 0.0020 - acc: 1.0000\n",
      "Epoch 40/50\n",
      "1800/1800 [==============================] - 0s 65us/step - loss: 0.0019 - acc: 1.0000\n",
      "Epoch 41/50\n",
      "1800/1800 [==============================] - 0s 74us/step - loss: 0.0018 - acc: 1.0000\n",
      "Epoch 42/50\n",
      "1800/1800 [==============================] - 0s 79us/step - loss: 0.0017 - acc: 1.0000\n",
      "Epoch 43/50\n",
      "1800/1800 [==============================] - 0s 68us/step - loss: 0.0016 - acc: 1.0000\n",
      "Epoch 44/50\n",
      "1800/1800 [==============================] - 0s 75us/step - loss: 0.0015 - acc: 1.0000\n",
      "Epoch 45/50\n",
      "1800/1800 [==============================] - 0s 76us/step - loss: 0.0014 - acc: 1.0000\n",
      "Epoch 46/50\n",
      "1800/1800 [==============================] - 0s 68us/step - loss: 0.0013 - acc: 1.0000: 0s - loss: 0.0013 - acc: 1.000\n",
      "Epoch 47/50\n",
      "1800/1800 [==============================] - 0s 70us/step - loss: 0.0013 - acc: 1.0000\n",
      "Epoch 48/50\n",
      "1800/1800 [==============================] - 0s 70us/step - loss: 0.0012 - acc: 1.0000\n",
      "Epoch 49/50\n",
      "1800/1800 [==============================] - 0s 76us/step - loss: 0.0011 - acc: 1.0000\n",
      "Epoch 50/50\n",
      "1800/1800 [==============================] - 0s 74us/step - loss: 0.0011 - acc: 1.0000\n"
     ]
    }
   ],
   "source": [
    "network = model1.fit(fusion_layer, train_labels, batch_size=50, epochs=50, verbose=1)"
   ]
  },
  {
   "cell_type": "code",
   "execution_count": 46,
   "metadata": {
    "collapsed": true
   },
   "outputs": [
    {
     "ename": "NameError",
     "evalue": "name 'model' is not defined",
     "output_type": "error",
     "traceback": [
      "\u001b[1;31m---------------------------------------------------------------------------\u001b[0m",
      "\u001b[1;31mNameError\u001b[0m                                 Traceback (most recent call last)",
      "\u001b[1;32m<ipython-input-46-03d46825f228>\u001b[0m in \u001b[0;36m<module>\u001b[1;34m\u001b[0m\n\u001b[1;32m----> 1\u001b[1;33m \u001b[0mpredic\u001b[0m \u001b[1;33m=\u001b[0m \u001b[0mmodel\u001b[0m\u001b[1;33m.\u001b[0m\u001b[0mpredict\u001b[0m\u001b[1;33m(\u001b[0m\u001b[0mfusion_layer\u001b[0m\u001b[1;33m)\u001b[0m\u001b[1;33m\u001b[0m\u001b[0m\n\u001b[0m\u001b[0;32m      2\u001b[0m \u001b[0mprint_plot_cm\u001b[0m\u001b[1;33m(\u001b[0m\u001b[0mtrain_labels\u001b[0m\u001b[1;33m,\u001b[0m \u001b[0mpredic\u001b[0m\u001b[1;33m)\u001b[0m\u001b[1;33m\u001b[0m\u001b[0m\n",
      "\u001b[1;31mNameError\u001b[0m: name 'model' is not defined"
     ]
    }
   ],
   "source": [
    "predic = model.predict(fusion_layer)\n",
    "print_plot_cm(train_labels, predic)"
   ]
  },
  {
   "cell_type": "code",
   "execution_count": 47,
   "metadata": {},
   "outputs": [],
   "source": [
    "bands_data, is_train, training_labels = get_prep_data(data_path=MAIN_FOLDER+DATA_PATH[i], \n",
    "                                                      train_data_path=MAIN_FOLDER+TRAIN_PATH[i])"
   ]
  },
  {
   "cell_type": "code",
   "execution_count": 48,
   "metadata": {},
   "outputs": [],
   "source": [
    "_, x_test_index, _, y_test = custom_train_index(is_train, training_labels, c=c[i], \n",
    "                                                lists=lists[i])"
   ]
  },
  {
   "cell_type": "code",
   "execution_count": 49,
   "metadata": {},
   "outputs": [],
   "source": [
    "samples = []\n",
    "for j in x_test_index:\n",
    "    sample = bands_data[j[0], j[1]]\n",
    "    samples.append(sample)\n",
    "samples = np.stack(samples)\n",
    "samples = samples.reshape((samples.shape[0], samples.shape[1], -1))"
   ]
  },
  {
   "cell_type": "code",
   "execution_count": 50,
   "metadata": {},
   "outputs": [
    {
     "name": "stdout",
     "output_type": "stream",
     "text": [
      "(40976, 103, 1)\n"
     ]
    }
   ],
   "source": [
    "print(samples.shape)"
   ]
  },
  {
   "cell_type": "code",
   "execution_count": 51,
   "metadata": {},
   "outputs": [],
   "source": [
    "featurs_1 = cnn_1d_feature([samples])[0]"
   ]
  },
  {
   "cell_type": "code",
   "execution_count": 52,
   "metadata": {},
   "outputs": [
    {
     "name": "stdout",
     "output_type": "stream",
     "text": [
      "(40976, 624)\n"
     ]
    }
   ],
   "source": [
    "print(featurs_1.shape)"
   ]
  },
  {
   "cell_type": "code",
   "execution_count": 53,
   "metadata": {},
   "outputs": [
    {
     "name": "stdout",
     "output_type": "stream",
     "text": [
      "Batches Features...\n",
      "Batches Features...\n",
      "Batches Features...\n",
      "Batches Features...\n",
      "Batches Features...\n",
      "Batches Features...\n",
      "Batches Features...\n",
      "Batches Features...\n",
      "Batches Features...\n",
      "Batches Features...\n",
      "Batches Features...\n",
      "Batches Features...\n",
      "Batches Features...\n"
     ]
    }
   ],
   "source": [
    "samples_1 = []\n",
    "features = []\n",
    "n = int((m - 1) / 2)\n",
    "x_test_nindex = x_test_index + n\n",
    "bands_data = np.pad(bands_data, ((n, n), (n, n), (0, 0)), 'constant', constant_values=0)\n",
    "for i, j in enumerate(x_test_nindex):\n",
    "    k1 = j[0] - n\n",
    "    k2 = j[0] + n + 1\n",
    "    k3 = j[1] - n\n",
    "    k4 = j[1] + n + 1\n",
    "    block = bands_data[k1:k2, k3:k4]\n",
    "    samples_1.append(block)\n",
    "    if len(samples_1) == 3200 or i == x_test_nindex.shape[0] - 1:\n",
    "        print(\"Batches Features...\")\n",
    "        pre = np.stack(samples_1)\n",
    "        feature = cnn_2d_feature([pre])[0]\n",
    "        features.append(feature)\n",
    "        samples_1 = []\n",
    "features = np.concatenate(features)"
   ]
  },
  {
   "cell_type": "code",
   "execution_count": 54,
   "metadata": {},
   "outputs": [
    {
     "name": "stdout",
     "output_type": "stream",
     "text": [
      "(40976, 432)\n"
     ]
    }
   ],
   "source": [
    "print(features.shape)"
   ]
  },
  {
   "cell_type": "code",
   "execution_count": 55,
   "metadata": {},
   "outputs": [
    {
     "name": "stdout",
     "output_type": "stream",
     "text": [
      "(40976, 1056)\n"
     ]
    }
   ],
   "source": [
    "fea = np.concatenate([featurs_1, features], axis=1)\n",
    "print(fea.shape)"
   ]
  },
  {
   "cell_type": "code",
   "execution_count": 56,
   "metadata": {},
   "outputs": [],
   "source": [
    "pred = model1.predict(fea)"
   ]
  },
  {
   "cell_type": "code",
   "execution_count": 57,
   "metadata": {},
   "outputs": [
    {
     "name": "stdout",
     "output_type": "stream",
     "text": [
      "              precision    recall  f1-score   support\n",
      "\n",
      "         1.0     0.9984    0.9784    0.9883      6431\n",
      "         2.0     0.9992    0.9966    0.9979     18449\n",
      "         3.0     0.9968    0.9979    0.9974      1899\n",
      "         4.0     0.9882    0.9937    0.9909      2864\n",
      "         5.0     1.0000    1.0000    1.0000      1145\n",
      "         6.0     0.9930    0.9996    0.9963      4829\n",
      "         7.0     0.9560    0.9991    0.9771      1130\n",
      "         8.0     0.9747    0.9957    0.9851      3482\n",
      "         9.0     0.9987    1.0000    0.9993       747\n",
      "\n",
      "   micro avg     0.9941    0.9941    0.9941     40976\n",
      "   macro avg     0.9894    0.9957    0.9925     40976\n",
      "weighted avg     0.9942    0.9941    0.9941     40976\n",
      "\n"
     ]
    },
    {
     "data": {
      "image/png": "[encoded data removed]",
      "text/plain": [
       "<Figure size 864x432 with 2 Axes>"
      ]
     },
     "metadata": {
      "needs_background": "light"
     },
     "output_type": "display_data"
    },
    {
     "data": {
      "text/plain": [
       "(0.9941185083951581, 0.9920878164547403)"
      ]
     },
     "execution_count": 57,
     "metadata": {},
     "output_type": "execute_result"
    }
   ],
   "source": [
    "print_plot_cm(y_test, pred)"
   ]
  },
  {
   "cell_type": "code",
   "execution_count": 59,
   "metadata": {},
   "outputs": [],
   "source": [
    "bands_data_dict = sio.loadmat(MAIN_FOLDER+DATA_PATH[2])\n",
    "bands_data_1 = bands_data_dict[list(bands_data_dict.keys())[-1]]\n",
    "bands_data_1 = norma_data(bands_data_1)"
   ]
  },
  {
   "cell_type": "code",
   "execution_count": 60,
   "metadata": {},
   "outputs": [
    {
     "name": "stdout",
     "output_type": "stream",
     "text": [
      "E:/HSI/Pavia/PaviaU\n"
     ]
    }
   ],
   "source": [
    "print(MAIN_FOLDER+DATA_PATH[2])"
   ]
  },
  {
   "cell_type": "code",
   "execution_count": 61,
   "metadata": {},
   "outputs": [],
   "source": [
    "pre = bands_data_1.reshape((bands_data_1.shape[0]*bands_data_1.shape[1], bands_data_1.shape[2], -1))"
   ]
  },
  {
   "cell_type": "code",
   "execution_count": 62,
   "metadata": {},
   "outputs": [
    {
     "name": "stdout",
     "output_type": "stream",
     "text": [
      "(207400, 103, 1)\n"
     ]
    }
   ],
   "source": [
    "print(pre.shape)"
   ]
  },
  {
   "cell_type": "code",
   "execution_count": 63,
   "metadata": {},
   "outputs": [],
   "source": [
    "f1 = cnn_1d_feature([pre])[0]"
   ]
  },
  {
   "cell_type": "code",
   "execution_count": 64,
   "metadata": {},
   "outputs": [
    {
     "name": "stdout",
     "output_type": "stream",
     "text": [
      "(207400, 624)\n"
     ]
    }
   ],
   "source": [
    "print(f1.shape)"
   ]
  },
  {
   "cell_type": "code",
   "execution_count": 65,
   "metadata": {},
   "outputs": [
    {
     "name": "stdout",
     "output_type": "stream",
     "text": [
      "(610, 340, 103)\n"
     ]
    }
   ],
   "source": [
    "print(bands_data_1.shape)"
   ]
  },
  {
   "cell_type": "code",
   "execution_count": 66,
   "metadata": {},
   "outputs": [
    {
     "name": "stdout",
     "output_type": "stream",
     "text": [
      "Batches Features...\n",
      "Batches Features...\n",
      "Batches Features...\n",
      "Batches Features...\n",
      "Batches Features...\n",
      "Batches Features...\n",
      "Batches Features...\n",
      "Batches Features...\n",
      "Batches Features...\n",
      "Batches Features...\n",
      "Batches Features...\n",
      "Batches Features...\n",
      "Batches Features...\n",
      "Batches Features...\n",
      "Batches Features...\n",
      "Batches Features...\n",
      "Batches Features...\n",
      "Batches Features...\n",
      "Batches Features...\n",
      "Batches Features...\n",
      "Batches Features...\n",
      "Batches Features...\n",
      "Batches Features...\n",
      "Batches Features...\n",
      "Batches Features...\n",
      "Batches Features...\n",
      "Batches Features...\n",
      "Batches Features...\n",
      "Batches Features...\n",
      "Batches Features...\n",
      "Batches Features...\n",
      "Batches Features...\n",
      "Batches Features...\n",
      "Batches Features...\n",
      "Batches Features...\n",
      "Batches Features...\n",
      "Batches Features...\n",
      "Batches Features...\n",
      "Batches Features...\n",
      "Batches Features...\n",
      "Batches Features...\n",
      "Batches Features...\n",
      "Batches Features...\n",
      "Batches Features...\n",
      "Batches Features...\n",
      "Batches Features...\n",
      "Batches Features...\n",
      "Batches Features...\n",
      "Batches Features...\n",
      "Batches Features...\n",
      "Batches Features...\n",
      "Batches Features...\n",
      "Batches Features...\n",
      "Batches Features...\n",
      "Batches Features...\n",
      "Batches Features...\n",
      "Batches Features...\n",
      "Batches Features...\n",
      "Batches Features...\n",
      "Batches Features...\n",
      "Batches Features...\n",
      "Batches Features...\n",
      "Batches Features...\n",
      "Batches Features...\n",
      "Batches Features...\n",
      "Batches Features...\n",
      "Batches Features...\n",
      "Batches Features...\n",
      "Batches Features...\n",
      "Batches Features...\n",
      "Batches Features...\n",
      "Batches Features...\n",
      "Batches Features...\n",
      "Batches Features...\n",
      "Batches Features...\n",
      "Batches Features...\n",
      "Batches Features...\n",
      "Batches Features...\n",
      "Batches Features...\n",
      "Batches Features...\n",
      "Batches Features...\n",
      "Batches Features...\n",
      "Batches Features...\n",
      "Batches Features...\n",
      "Batches Features...\n",
      "Batches Features...\n",
      "Batches Features...\n",
      "Batches Features...\n",
      "Batches Features...\n",
      "Batches Features...\n",
      "Batches Features...\n",
      "Batches Features...\n",
      "Batches Features...\n",
      "Batches Features...\n",
      "Batches Features...\n",
      "Batches Features...\n",
      "Batches Features...\n",
      "Batches Features...\n",
      "Batches Features...\n",
      "Batches Features...\n",
      "Batches Features...\n",
      "Batches Features...\n",
      "Batches Features...\n",
      "Batches Features...\n",
      "Batches Features...\n",
      "Batches Features...\n",
      "Batches Features...\n",
      "Batches Features...\n",
      "Batches Features...\n",
      "Batches Features...\n",
      "Batches Features...\n",
      "Batches Features...\n",
      "Batches Features...\n",
      "Batches Features...\n",
      "Batches Features...\n",
      "Batches Features...\n",
      "Batches Features...\n",
      "Batches Features...\n",
      "Batches Features...\n",
      "Batches Features...\n",
      "Batches Features...\n",
      "Batches Features...\n",
      "Batches Features...\n",
      "Batches Features...\n",
      "Batches Features...\n",
      "Batches Features...\n",
      "Batches Features...\n",
      "Batches Features...\n",
      "Batches Features...\n",
      "Batches Features...\n",
      "Batches Features...\n",
      "Batches Features...\n",
      "Batches Features...\n",
      "Batches Features...\n",
      "Batches Features...\n",
      "Batches Features...\n",
      "Batches Features...\n",
      "Batches Features...\n",
      "Batches Features...\n",
      "Batches Features...\n",
      "Batches Features...\n",
      "Batches Features...\n",
      "Batches Features...\n",
      "Batches Features...\n",
      "Batches Features...\n",
      "Batches Features...\n",
      "Batches Features...\n",
      "Batches Features...\n",
      "Batches Features...\n",
      "Batches Features...\n",
      "Batches Features...\n",
      "Batches Features...\n",
      "Batches Features...\n",
      "Batches Features...\n",
      "Batches Features...\n",
      "Batches Features...\n",
      "Batches Features...\n",
      "Batches Features...\n",
      "Batches Features...\n",
      "Batches Features...\n",
      "Batches Features...\n",
      "Batches Features...\n",
      "Batches Features...\n",
      "Batches Features...\n",
      "Batches Features...\n",
      "Batches Features...\n",
      "Batches Features...\n",
      "Batches Features...\n",
      "Batches Features...\n",
      "Batches Features...\n",
      "Batches Features...\n",
      "Batches Features...\n",
      "Batches Features...\n",
      "Batches Features...\n",
      "Batches Features...\n",
      "Batches Features...\n",
      "Batches Features...\n",
      "Batches Features...\n",
      "Batches Features...\n",
      "Batches Features...\n",
      "Batches Features...\n",
      "Batches Features...\n",
      "Batches Features...\n",
      "Batches Features...\n",
      "Batches Features...\n",
      "Batches Features...\n",
      "Batches Features...\n",
      "Batches Features...\n",
      "Batches Features...\n",
      "Batches Features...\n",
      "Batches Features...\n",
      "Batches Features...\n",
      "Batches Features...\n",
      "Batches Features...\n",
      "Batches Features...\n",
      "Batches Features...\n",
      "Batches Features...\n",
      "Batches Features...\n",
      "Batches Features...\n",
      "Batches Features...\n",
      "Batches Features...\n",
      "Batches Features...\n",
      "Batches Features...\n",
      "Batches Features...\n",
      "Batches Features...\n",
      "Batches Features...\n",
      "Batches Features...\n",
      "Batches Features...\n",
      "Batches Features...\n",
      "Batches Features...\n",
      "Batches Features...\n",
      "Batches Features...\n",
      "Batches Features...\n",
      "Batches Features...\n",
      "Batches Features...\n",
      "Batches Features...\n",
      "Batches Features...\n",
      "Batches Features...\n",
      "Batches Features...\n",
      "Batches Features...\n",
      "Batches Features...\n",
      "Batches Features...\n",
      "Batches Features...\n",
      "Batches Features...\n",
      "Batches Features...\n",
      "Batches Features...\n",
      "Batches Features...\n",
      "Batches Features...\n",
      "Batches Features...\n",
      "Batches Features...\n",
      "Batches Features...\n",
      "Batches Features...\n",
      "Batches Features...\n",
      "Batches Features...\n",
      "Batches Features...\n",
      "Batches Features...\n",
      "Batches Features...\n",
      "Batches Features...\n",
      "Batches Features...\n",
      "Batches Features...\n",
      "Batches Features...\n",
      "Batches Features...\n",
      "Batches Features...\n",
      "Batches Features...\n",
      "Batches Features...\n",
      "Batches Features...\n",
      "Batches Features...\n",
      "Batches Features...\n",
      "Batches Features...\n",
      "Batches Features...\n",
      "Batches Features...\n",
      "Batches Features...\n",
      "Batches Features...\n",
      "Batches Features...\n",
      "Batches Features...\n",
      "Batches Features...\n",
      "Batches Features...\n",
      "Batches Features...\n",
      "Batches Features...\n",
      "Batches Features...\n",
      "Batches Features...\n",
      "Batches Features...\n",
      "Batches Features...\n",
      "Batches Features...\n",
      "Batches Features...\n",
      "Batches Features...\n",
      "Batches Features...\n",
      "Batches Features...\n",
      "Batches Features...\n",
      "Batches Features...\n",
      "Batches Features...\n",
      "Batches Features...\n",
      "Batches Features...\n",
      "Batches Features...\n",
      "Batches Features...\n",
      "Batches Features...\n",
      "Batches Features...\n",
      "Batches Features...\n",
      "Batches Features...\n",
      "Batches Features...\n",
      "Batches Features...\n",
      "Batches Features...\n",
      "Batches Features...\n",
      "Batches Features...\n",
      "Batches Features...\n",
      "Batches Features...\n",
      "Batches Features...\n",
      "Batches Features...\n",
      "Batches Features...\n",
      "Batches Features...\n",
      "Batches Features...\n",
      "Batches Features...\n",
      "Batches Features...\n",
      "Batches Features...\n",
      "Batches Features...\n",
      "Batches Features...\n",
      "Batches Features...\n",
      "Batches Features...\n",
      "Batches Features...\n",
      "Batches Features...\n",
      "Batches Features...\n",
      "Batches Features...\n",
      "Batches Features...\n",
      "Batches Features...\n",
      "Batches Features...\n",
      "Batches Features...\n",
      "Batches Features...\n",
      "Batches Features...\n",
      "Batches Features...\n",
      "Batches Features...\n",
      "Batches Features...\n",
      "Batches Features...\n",
      "Batches Features...\n",
      "Batches Features...\n",
      "Batches Features...\n",
      "Batches Features...\n",
      "Batches Features...\n",
      "Batches Features...\n",
      "Batches Features...\n",
      "Batches Features...\n",
      "Batches Features...\n",
      "Batches Features...\n",
      "Batches Features...\n",
      "Batches Features...\n",
      "Batches Features...\n",
      "Batches Features...\n",
      "Batches Features...\n",
      "Batches Features...\n",
      "Batches Features...\n",
      "Batches Features...\n",
      "Batches Features...\n",
      "Batches Features...\n",
      "Batches Features...\n",
      "Batches Features...\n",
      "Batches Features...\n",
      "Batches Features...\n",
      "Batches Features...\n",
      "Batches Features...\n",
      "Batches Features...\n",
      "Batches Features...\n",
      "Batches Features...\n",
      "Batches Features...\n",
      "Batches Features...\n",
      "Batches Features...\n",
      "Batches Features...\n",
      "Batches Features...\n",
      "Batches Features...\n",
      "Batches Features...\n",
      "Batches Features...\n",
      "Batches Features...\n",
      "Batches Features...\n",
      "Batches Features...\n",
      "Batches Features...\n",
      "Batches Features...\n",
      "Batches Features...\n",
      "Batches Features...\n",
      "Batches Features...\n",
      "Batches Features...\n",
      "Batches Features...\n",
      "Batches Features...\n",
      "Batches Features...\n",
      "Batches Features...\n",
      "Batches Features...\n",
      "Batches Features...\n",
      "Batches Features...\n",
      "Batches Features...\n",
      "Batches Features...\n",
      "Batches Features...\n",
      "Batches Features...\n",
      "Batches Features...\n",
      "Batches Features...\n",
      "Batches Features...\n",
      "Batches Features...\n",
      "Batches Features...\n",
      "Batches Features...\n",
      "Batches Features...\n",
      "Batches Features...\n",
      "Batches Features...\n",
      "Batches Features...\n",
      "Batches Features...\n",
      "Batches Features...\n",
      "Batches Features...\n",
      "Batches Features...\n",
      "Batches Features...\n",
      "Batches Features...\n",
      "Batches Features...\n",
      "Batches Features...\n",
      "Batches Features...\n",
      "Batches Features...\n",
      "Batches Features...\n",
      "Batches Features...\n",
      "Batches Features...\n",
      "Batches Features...\n",
      "Batches Features...\n",
      "Batches Features...\n",
      "Batches Features...\n",
      "Batches Features...\n",
      "Batches Features...\n",
      "Batches Features...\n",
      "Batches Features...\n",
      "Batches Features...\n",
      "Batches Features...\n",
      "Batches Features...\n",
      "Batches Features...\n"
     ]
    }
   ],
   "source": [
    "n = int((m - 1) / 2)\n",
    "bands_data_1 = np.pad(bands_data_1, ((n, n), (n, n), (0, 0)), 'constant', constant_values=0)\n",
    "cols = bands_data_1.shape[1]-2*n\n",
    "rows = bands_data_1.shape[0]-2*n\n",
    "result1 = []\n",
    "f2 = []\n",
    "for g in range(0, rows, 1):\n",
    "    for h in range(0, cols, 1):\n",
    "        data = bands_data_1[g: g + m, h: h + m, :]\n",
    "        result1.append(data)\n",
    "        if len(result1) == 3200 or g == int(rows-1):\n",
    "            print(\"Batches Features...\")\n",
    "            pre1 = np.stack(result1)\n",
    "            fe = cnn_2d_feature([pre1])[0]\n",
    "            f2.append(fe)\n",
    "            result1 = []\n",
    "f2 = np.concatenate(f2)"
   ]
  },
  {
   "cell_type": "code",
   "execution_count": 67,
   "metadata": {},
   "outputs": [
    {
     "name": "stdout",
     "output_type": "stream",
     "text": [
      "(207400, 432)\n"
     ]
    }
   ],
   "source": [
    "print(f2.shape)"
   ]
  },
  {
   "cell_type": "code",
   "execution_count": 68,
   "metadata": {},
   "outputs": [],
   "source": [
    "f3 = np.concatenate([f1, f2], axis=1)"
   ]
  },
  {
   "cell_type": "code",
   "execution_count": 69,
   "metadata": {},
   "outputs": [],
   "source": [
    "p = model1.predict(f3)"
   ]
  },
  {
   "cell_type": "code",
   "execution_count": 71,
   "metadata": {},
   "outputs": [
    {
     "data": {
      "image/png": "[encoded data removed]",
      "text/plain": [
       "<Figure size 432x288 with 1 Axes>"
      ]
     },
     "metadata": {},
     "output_type": "display_data"
    }
   ],
   "source": [
    "write_whole_image_classification_result(p, shape=(610, 340))\n",
    "\n"
   ]
  },
  {
   "cell_type": "code",
   "execution_count": 72,
   "metadata": {},
   "outputs": [
    {
     "data": {
      "image/png": "[encoded data removed]",
      "text/plain": [
       "<Figure size 432x288 with 2 Axes>"
      ]
     },
     "metadata": {
      "needs_background": "light"
     },
     "output_type": "display_data"
    }
   ],
   "source": [
    "write_whole_image_predicts_prob(p, shape=(610, 340))"
   ]
  },
  {
   "cell_type": "code",
   "execution_count": 73,
   "metadata": {},
   "outputs": [
    {
     "name": "stdout",
     "output_type": "stream",
     "text": [
      "0.03688042430086789\n"
     ]
    },
    {
     "data": {
      "image/png": "[encoded data removed]",
      "text/plain": [
       "<Figure size 432x288 with 1 Axes>"
      ]
     },
     "metadata": {
      "needs_background": "light"
     },
     "output_type": "display_data"
    }
   ],
   "source": [
    "cof = write_whole_image_predicts_prob1(p, shape=(610, 340))\n",
    "print(cof)"
   ]
  },
  {
   "cell_type": "code",
   "execution_count": null,
   "metadata": {},
   "outputs": [],
   "source": []
  },
  {
   "cell_type": "code",
   "execution_count": null,
   "metadata": {},
   "outputs": [],
   "source": []
  },
  {
   "cell_type": "code",
   "execution_count": null,
   "metadata": {},
   "outputs": [],
   "source": []
  },
  {
   "cell_type": "code",
   "execution_count": null,
   "metadata": {},
   "outputs": [],
   "source": []
  },
  {
   "cell_type": "code",
   "execution_count": null,
   "metadata": {},
   "outputs": [],
   "source": []
  },
  {
   "cell_type": "code",
   "execution_count": null,
   "metadata": {},
   "outputs": [],
   "source": []
  }
 ],
 "metadata": {
  "kernelspec": {
   "display_name": "Python 3",
   "language": "python",
   "name": "python3"
  },
  "language_info": {
   "codemirror_mode": {
    "name": "ipython",
    "version": 3
   },
   "file_extension": ".py",
   "mimetype": "text/x-python",
   "name": "python",
   "nbconvert_exporter": "python",
   "pygments_lexer": "ipython3",
   "version": "3.6.1rc1"
  }
 },
 "nbformat": 4,
 "nbformat_minor": 2
}
