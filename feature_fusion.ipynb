{
 "cells": [
  {
   "cell_type": "code",
   "execution_count": 1,
   "metadata": {},
   "outputs": [
    {
     "name": "stderr",
     "output_type": "stream",
     "text": [
      "Using TensorFlow backend.\n"
     ]
    }
   ],
   "source": [
    "from python_gdal import *\n",
    "from models_keras import *\n",
    "import time\n",
    "from keras import backend as K"
   ]
  },
  {
   "cell_type": "code",
   "execution_count": 2,
   "metadata": {},
   "outputs": [],
   "source": [
    "MAIN_FOLDER = r'E:/HSI/'\n",
    "IP_DATA_PATH = 'IP/Indian_pines_corrected'\n",
    "IP_TRAIN_PATH = 'IP/Indian_pines_gt'\n",
    "PAVIA_DATA_PATH = \"Pavia/Pavia\"\n",
    "PAVIA_TRAIN_PATH = \"Pavia/Pavia_gt\"\n",
    "PAVIA_U_DATA_PATH = \"Pavia/PaviaU\"\n",
    "PAVIA_U_TRAIN_PATH = \"Pavia/PaviaU_gt\"\n",
    "SALINAS_DATA_PATH = \"Salinas/Salinas\"\n",
    "SALINAS_TRAIN_PATH = 'Salinas/Salinas_gt'\n",
    "KSC_DATA_PATH = \"KSC/KSC\"\n",
    "KSC_TRAIN_PATH = \"KSC/KSC_gt\"\n",
    "IEEEHSI_2018_DATA_PATH = \"2018IEEEHSI/FullHSIDataset/20170218_UH_CASI_S4_NAD83.pix\"\n",
    "IEEEHSI_2018_TRAIN_PATH = \"2018IEEEHSI/GT\""
   ]
  },
  {
   "cell_type": "code",
   "execution_count": 3,
   "metadata": {},
   "outputs": [],
   "source": [
    "c = [16, 9, 9, 13]\n",
    "input_shape1 = [(200,), (102,), (103,), (176,)]\n",
    "input_shape2 = [(200, 1), (102, 1), (103, 1), (176, 1)]\n",
    "lists2 = [200, 200, 200, 200, 200, 200, 200, 200, 200]\n",
    "lists1 = [33, 200, 200, 181, 200, 200, 20, 200, 14, 200, 200, 200, 143, 200, 200, 75]\n",
    "lists3 = [200, 150, 150, 150, 100, 150, 50, 200, 200, 200, 200, 200, 200]\n",
    "lists = [lists1, lists2, lists2, lists3]\n",
    "image_shape = [(145, 145), (1096, 715), (610, 340), (512, 614)]\n",
    "DATA_PATH = [IP_DATA_PATH, PAVIA_DATA_PATH, PAVIA_U_DATA_PATH, KSC_DATA_PATH]\n",
    "TRAIN_PATH = [IP_TRAIN_PATH, PAVIA_TRAIN_PATH, PAVIA_U_TRAIN_PATH, KSC_TRAIN_PATH]"
   ]
  },
  {
   "cell_type": "code",
   "execution_count": 16,
   "metadata": {},
   "outputs": [],
   "source": [
    "i = 0\n",
    "m = 17"
   ]
  },
  {
   "cell_type": "markdown",
   "metadata": {},
   "source": [
    "# data prep"
   ]
  },
  {
   "cell_type": "code",
   "execution_count": 17,
   "metadata": {},
   "outputs": [],
   "source": [
    "train_samples_1, train_labels_1 = get_train_sample(data_path=MAIN_FOLDER+DATA_PATH[i],\n",
    "                                               train_data_path=MAIN_FOLDER+TRAIN_PATH[i],\n",
    "                                               c=c[i], m=m, lists=lists[i], d=4)"
   ]
  },
  {
   "cell_type": "code",
   "execution_count": 18,
   "metadata": {},
   "outputs": [
    {
     "name": "stdout",
     "output_type": "stream",
     "text": [
      "(2466, 17, 17, 200)\n"
     ]
    }
   ],
   "source": [
    "print(train_samples_1.shape)"
   ]
  },
  {
   "cell_type": "code",
   "execution_count": 55,
   "metadata": {},
   "outputs": [
    {
     "name": "stdout",
     "output_type": "stream",
     "text": [
      "(2466, 200, 1)\n"
     ]
    }
   ],
   "source": [
    "t = train_samples_1[:, 8, 8, :]\n",
    "t1= np.expand_dims(t, axis=-1)\n",
    "print(t1.shape)"
   ]
  },
  {
   "cell_type": "code",
   "execution_count": 19,
   "metadata": {},
   "outputs": [],
   "source": [
    "train_samples_2, train_labels_2 = get_train_sample(data_path=MAIN_FOLDER+DATA_PATH[i],\n",
    "                                               train_data_path=MAIN_FOLDER+TRAIN_PATH[i],\n",
    "                                               c=c[i], m=1, lists=lists[i], d=3)"
   ]
  },
  {
   "cell_type": "code",
   "execution_count": 20,
   "metadata": {},
   "outputs": [
    {
     "name": "stdout",
     "output_type": "stream",
     "text": [
      "(2466, 200, 1)\n"
     ]
    }
   ],
   "source": [
    "print(train_samples_2.shape)"
   ]
  },
  {
   "cell_type": "code",
   "execution_count": 21,
   "metadata": {},
   "outputs": [],
   "source": [
    "train_labels = one_hot_encode(c=c[i], labels=train_labels_1)"
   ]
  },
  {
   "cell_type": "code",
   "execution_count": 22,
   "metadata": {},
   "outputs": [
    {
     "name": "stdout",
     "output_type": "stream",
     "text": [
      "[12.  4.  4. 10. 14. 14. 14.  8.  8.  8.]\n",
      "[12.  4.  4. 10. 14. 14. 14.  8.  8.  8.]\n"
     ]
    }
   ],
   "source": [
    "print(train_labels_1[:10])\n",
    "print(train_labels_2[:10])"
   ]
  },
  {
   "cell_type": "markdown",
   "metadata": {},
   "source": [
    "# model prep"
   ]
  },
  {
   "cell_type": "code",
   "execution_count": 44,
   "metadata": {},
   "outputs": [],
   "source": [
    "input_1 = (200, 1)\n",
    "input_2 = (17, 17, 200)"
   ]
  },
  {
   "cell_type": "code",
   "execution_count": 47,
   "metadata": {},
   "outputs": [],
   "source": [
    "def combined_1d_2d(input_1, input_2, c, lr):\n",
    "    inputs_1 = Input(shape=input_1)\n",
    "    inputs_2 = Input(shape=input_2)\n",
    "    x_1 = Conv1D(24, 3, padding='same')(inputs_1)\n",
    "    x_1 = BatchNormalization()(x_1)\n",
    "    x_1 = Activation(activation='relu')(x_1)\n",
    "    x_1 = MaxPool1D(2, padding='same')(x_1)\n",
    "\n",
    "    x_1 = Conv1D(36, 3, padding='same')(x_1)\n",
    "    x_1 = BatchNormalization()(x_1)\n",
    "    x_1 = Activation(activation='relu')(x_1)\n",
    "    x_1 = MaxPool1D(3, padding='same')(x_1)\n",
    "    x_1 = Dropout(rate=0.1)(x_1)\n",
    "\n",
    "    x_1 = Conv1D(48, 3, padding='same')(x_1)\n",
    "    x_1 = BatchNormalization()(x_1)\n",
    "    x_1 = Activation(activation='relu')(x_1)\n",
    "    x_1 = MaxPool1D(2, padding='same')(x_1)\n",
    "    x_1= Dropout(rate=0.1)(x_1)\n",
    "\n",
    "    x_1 = Conv1D(96, 4, padding='same')(x_1)\n",
    "    x_1 = BatchNormalization()(x_1)\n",
    "    x_1 = Activation(activation='relu')(x_1)\n",
    "    x_1 = MaxPool1D(2, padding='same')(x_1)\n",
    "    x_1 = Dropout(rate=0.1)(x_1)\n",
    "\n",
    "    x_1 = Flatten()(x_1)\n",
    "\n",
    "    x_2 = Conv2D(12, (3, 3), padding='same')(inputs_2)\n",
    "    x_2 = BatchNormalization()(x_2)\n",
    "    x_2 = Activation(activation='relu')(x_2)\n",
    "    x_2 = MaxPool2D(pool_size=2, padding='same')(x_2)\n",
    "\n",
    "    x_2 = Conv2D(24, (3, 3), padding='same')(x_2)\n",
    "    x_2 = BatchNormalization()(x_2)\n",
    "    x_2 = Activation(activation='relu')(x_2)\n",
    "    x_2 = MaxPool2D(pool_size=2, padding='same')(x_2)\n",
    "\n",
    "    x_2 = Conv2D(48, (3, 3), padding='same')(x_2)\n",
    "    x_2 = BatchNormalization()(x_2)\n",
    "    x_2 = Activation(activation='relu')(x_2)\n",
    "    x_2 = MaxPool2D(pool_size=2, padding='same')(x_2)\n",
    "    x_2 = Dropout(rate=0.2)(x_2)\n",
    "\n",
    "    x_2 = Flatten()(x_2)\n",
    "\n",
    "    combine_layer = concatenate([x_1, x_2], axis=1)\n",
    "\n",
    "    y = Dense(256, activation='relu')(combine_layer)\n",
    "\n",
    "    output = Dense(c, activation='softmax')(y)\n",
    "\n",
    "    model = Model(inputs=[inputs_1, inputs_2], outputs=output)\n",
    "    model.compile(optimizer=Adam(lr=lr), loss=\"categorical_crossentropy\", metrics=[\"accuracy\"])\n",
    "    return model"
   ]
  },
  {
   "cell_type": "code",
   "execution_count": 48,
   "metadata": {},
   "outputs": [],
   "source": [
    "combine_model = combined_1d_2d(input_1, input_2, c=16, lr=0.0001)"
   ]
  },
  {
   "cell_type": "code",
   "execution_count": 49,
   "metadata": {},
   "outputs": [
    {
     "name": "stdout",
     "output_type": "stream",
     "text": [
      "__________________________________________________________________________________________________\n",
      "Layer (type)                    Output Shape         Param #     Connected to                     \n",
      "==================================================================================================\n",
      "input_9 (InputLayer)            (None, 200, 1)       0                                            \n",
      "__________________________________________________________________________________________________\n",
      "conv1d_5 (Conv1D)               (None, 200, 24)      96          input_9[0][0]                    \n",
      "__________________________________________________________________________________________________\n",
      "batch_normalization_8 (BatchNor (None, 200, 24)      96          conv1d_5[0][0]                   \n",
      "__________________________________________________________________________________________________\n",
      "activation_8 (Activation)       (None, 200, 24)      0           batch_normalization_8[0][0]      \n",
      "__________________________________________________________________________________________________\n",
      "max_pooling1d_5 (MaxPooling1D)  (None, 100, 24)      0           activation_8[0][0]               \n",
      "__________________________________________________________________________________________________\n",
      "conv1d_6 (Conv1D)               (None, 100, 36)      2628        max_pooling1d_5[0][0]            \n",
      "__________________________________________________________________________________________________\n",
      "batch_normalization_9 (BatchNor (None, 100, 36)      144         conv1d_6[0][0]                   \n",
      "__________________________________________________________________________________________________\n",
      "input_10 (InputLayer)           (None, 17, 17, 200)  0                                            \n",
      "__________________________________________________________________________________________________\n",
      "activation_9 (Activation)       (None, 100, 36)      0           batch_normalization_9[0][0]      \n",
      "__________________________________________________________________________________________________\n",
      "conv2d_4 (Conv2D)               (None, 17, 17, 12)   21612       input_10[0][0]                   \n",
      "__________________________________________________________________________________________________\n",
      "max_pooling1d_6 (MaxPooling1D)  (None, 34, 36)       0           activation_9[0][0]               \n",
      "__________________________________________________________________________________________________\n",
      "batch_normalization_12 (BatchNo (None, 17, 17, 12)   48          conv2d_4[0][0]                   \n",
      "__________________________________________________________________________________________________\n",
      "dropout_4 (Dropout)             (None, 34, 36)       0           max_pooling1d_6[0][0]            \n",
      "__________________________________________________________________________________________________\n",
      "activation_12 (Activation)      (None, 17, 17, 12)   0           batch_normalization_12[0][0]     \n",
      "__________________________________________________________________________________________________\n",
      "conv1d_7 (Conv1D)               (None, 34, 48)       5232        dropout_4[0][0]                  \n",
      "__________________________________________________________________________________________________\n",
      "max_pooling2d_4 (MaxPooling2D)  (None, 9, 9, 12)     0           activation_12[0][0]              \n",
      "__________________________________________________________________________________________________\n",
      "batch_normalization_10 (BatchNo (None, 34, 48)       192         conv1d_7[0][0]                   \n",
      "__________________________________________________________________________________________________\n",
      "conv2d_5 (Conv2D)               (None, 9, 9, 24)     2616        max_pooling2d_4[0][0]            \n",
      "__________________________________________________________________________________________________\n",
      "activation_10 (Activation)      (None, 34, 48)       0           batch_normalization_10[0][0]     \n",
      "__________________________________________________________________________________________________\n",
      "batch_normalization_13 (BatchNo (None, 9, 9, 24)     96          conv2d_5[0][0]                   \n",
      "__________________________________________________________________________________________________\n",
      "max_pooling1d_7 (MaxPooling1D)  (None, 17, 48)       0           activation_10[0][0]              \n",
      "__________________________________________________________________________________________________\n",
      "activation_13 (Activation)      (None, 9, 9, 24)     0           batch_normalization_13[0][0]     \n",
      "__________________________________________________________________________________________________\n",
      "dropout_5 (Dropout)             (None, 17, 48)       0           max_pooling1d_7[0][0]            \n",
      "__________________________________________________________________________________________________\n",
      "max_pooling2d_5 (MaxPooling2D)  (None, 5, 5, 24)     0           activation_13[0][0]              \n",
      "__________________________________________________________________________________________________\n",
      "conv1d_8 (Conv1D)               (None, 17, 96)       18528       dropout_5[0][0]                  \n",
      "__________________________________________________________________________________________________\n",
      "conv2d_6 (Conv2D)               (None, 5, 5, 48)     10416       max_pooling2d_5[0][0]            \n",
      "__________________________________________________________________________________________________\n",
      "batch_normalization_11 (BatchNo (None, 17, 96)       384         conv1d_8[0][0]                   \n",
      "__________________________________________________________________________________________________\n",
      "batch_normalization_14 (BatchNo (None, 5, 5, 48)     192         conv2d_6[0][0]                   \n",
      "__________________________________________________________________________________________________\n",
      "activation_11 (Activation)      (None, 17, 96)       0           batch_normalization_11[0][0]     \n",
      "__________________________________________________________________________________________________\n",
      "activation_14 (Activation)      (None, 5, 5, 48)     0           batch_normalization_14[0][0]     \n",
      "__________________________________________________________________________________________________\n",
      "max_pooling1d_8 (MaxPooling1D)  (None, 9, 96)        0           activation_11[0][0]              \n",
      "__________________________________________________________________________________________________\n",
      "max_pooling2d_6 (MaxPooling2D)  (None, 3, 3, 48)     0           activation_14[0][0]              \n",
      "__________________________________________________________________________________________________\n",
      "dropout_6 (Dropout)             (None, 9, 96)        0           max_pooling1d_8[0][0]            \n",
      "__________________________________________________________________________________________________\n",
      "dropout_7 (Dropout)             (None, 3, 3, 48)     0           max_pooling2d_6[0][0]            \n",
      "__________________________________________________________________________________________________\n",
      "flatten_2 (Flatten)             (None, 864)          0           dropout_6[0][0]                  \n",
      "__________________________________________________________________________________________________\n",
      "flatten_3 (Flatten)             (None, 432)          0           dropout_7[0][0]                  \n",
      "__________________________________________________________________________________________________\n",
      "concatenate_2 (Concatenate)     (None, 1296)         0           flatten_2[0][0]                  \n",
      "                                                                 flatten_3[0][0]                  \n",
      "__________________________________________________________________________________________________\n",
      "dense_4 (Dense)                 (None, 256)          332032      concatenate_2[0][0]              \n",
      "__________________________________________________________________________________________________\n",
      "dense_5 (Dense)                 (None, 16)           4112        dense_4[0][0]                    \n",
      "==================================================================================================\n",
      "Total params: 398,424\n",
      "Trainable params: 397,848\n",
      "Non-trainable params: 576\n",
      "__________________________________________________________________________________________________\n"
     ]
    }
   ],
   "source": [
    "combine_model.summary()"
   ]
  },
  {
   "cell_type": "code",
   "execution_count": 57,
   "metadata": {},
   "outputs": [
    {
     "name": "stdout",
     "output_type": "stream",
     "text": [
      "(2466, 200, 1)\n"
     ]
    }
   ],
   "source": [
    "print(train_samples_2.shape)"
   ]
  },
  {
   "cell_type": "code",
   "execution_count": 58,
   "metadata": {},
   "outputs": [],
   "source": [
    "train_samples_2 = np.expand_dims(train_samples_1[:, 8, 8, :], axis=-1)"
   ]
  },
  {
   "cell_type": "code",
   "execution_count": 59,
   "metadata": {},
   "outputs": [
    {
     "name": "stdout",
     "output_type": "stream",
     "text": [
      "Epoch 1/20\n",
      "2466/2466 [==============================] - 7s 3ms/step - loss: 0.1086 - acc: 0.9688\n",
      "Epoch 2/20\n",
      "2466/2466 [==============================] - 7s 3ms/step - loss: 0.0632 - acc: 0.9878\n",
      "Epoch 3/20\n",
      "2466/2466 [==============================] - 7s 3ms/step - loss: 0.0950 - acc: 0.9708\n",
      "Epoch 4/20\n",
      "2466/2466 [==============================] - 7s 3ms/step - loss: 0.0573 - acc: 0.9886\n",
      "Epoch 5/20\n",
      "2466/2466 [==============================] - 7s 3ms/step - loss: 0.0571 - acc: 0.9866A: 1s - loss\n",
      "Epoch 6/20\n",
      "2466/2466 [==============================] - 7s 3ms/step - loss: 0.0494 - acc: 0.9891\n",
      "Epoch 7/20\n",
      "2466/2466 [==============================] - 7s 3ms/step - loss: 0.0512 - acc: 0.9874\n",
      "Epoch 8/20\n",
      "2466/2466 [==============================] - 7s 3ms/step - loss: 0.1056 - acc: 0.9639\n",
      "Epoch 9/20\n",
      "2466/2466 [==============================] - 7s 3ms/step - loss: 0.0429 - acc: 0.9915\n",
      "Epoch 10/20\n",
      "2466/2466 [==============================] - 7s 3ms/step - loss: 0.0785 - acc: 0.9765\n",
      "Epoch 11/20\n",
      "2466/2466 [==============================] - 7s 3ms/step - loss: 0.0752 - acc: 0.9753\n",
      "Epoch 12/20\n",
      "2466/2466 [==============================] - 7s 3ms/step - loss: 0.0367 - acc: 0.9907A: 0s - loss: 0.0374 - acc: 0\n",
      "Epoch 13/20\n",
      "2466/2466 [==============================] - 7s 3ms/step - loss: 0.0520 - acc: 0.9874\n",
      "Epoch 14/20\n",
      "2466/2466 [==============================] - 7s 3ms/step - loss: 0.0286 - acc: 0.9947\n",
      "Epoch 15/20\n",
      "2466/2466 [==============================] - 7s 3ms/step - loss: 0.0268 - acc: 0.9947\n",
      "Epoch 16/20\n",
      "2466/2466 [==============================] - 7s 3ms/step - loss: 0.0200 - acc: 0.9980A: 0s - loss: 0.0205 - acc: \n",
      "Epoch 17/20\n",
      "2466/2466 [==============================] - 7s 3ms/step - loss: 0.0202 - acc: 0.9984\n",
      "Epoch 18/20\n",
      "2466/2466 [==============================] - 7s 3ms/step - loss: 0.0205 - acc: 0.9976\n",
      "Epoch 19/20\n",
      "2466/2466 [==============================] - 7s 3ms/step - loss: 0.0179 - acc: 0.9972\n",
      "Epoch 20/20\n",
      "2466/2466 [==============================] - 7s 3ms/step - loss: 0.0175 - acc: 0.9980\n"
     ]
    }
   ],
   "source": [
    "network = combine_model.fit(x=[train_samples_2, train_samples_1],\n",
    "                            y = train_labels, epochs=20, verbose=1)"
   ]
  },
  {
   "cell_type": "code",
   "execution_count": 60,
   "metadata": {},
   "outputs": [],
   "source": [
    "save_model(combine_model, \"cnn_1d_2d_17.h5\")"
   ]
  },
  {
   "cell_type": "code",
   "execution_count": 63,
   "metadata": {},
   "outputs": [],
   "source": [
    "def get_test_predict(model, data_path, train_data_path, c, lists, bsize, norma_methods='z-score', pca=False, m=1, n=3):\n",
    "    bands_data, is_train, training_labels = get_prep_data(data_path, train_data_path,\n",
    "                                                          norma_method=norma_methods,\n",
    "                                                          pca=pca, n=n)\n",
    "    _, x_test_index, _, y_test = custom_train_index(is_train, training_labels, c=c, lists=lists)\n",
    "    samples = []\n",
    "    predicts = []\n",
    "    if m == 1:\n",
    "        for i in x_test_index:\n",
    "            sample = bands_data[i[0], i[1]]\n",
    "            samples.append(sample)\n",
    "        samples = np.stack(samples)\n",
    "        if len(model.input.shape) == 3:\n",
    "            samples = samples.reshape((samples.shape[0], samples.shape[1], -1))\n",
    "        predicts = model.predict(samples)\n",
    "\n",
    "    else:\n",
    "        n = int((m - 1) / 2)\n",
    "        x_test_nindex = x_test_index + n\n",
    "        bands_data = np.pad(bands_data, ((n, n), (n, n), (0, 0)), 'constant', constant_values=0)\n",
    "        for i, j in enumerate(x_test_nindex):\n",
    "            k1 = j[0] - n\n",
    "            k2 = j[0] + n + 1\n",
    "            k3 = j[1] - n\n",
    "            k4 = j[1] + n + 1\n",
    "            block = bands_data[k1:k2, k3:k4]\n",
    "            samples.append(block)\n",
    "            if len(samples) == bsize or i == x_test_nindex.shape[0] - 1:\n",
    "                # print(\"Batches Predictions...\")\n",
    "                pre = np.stack(samples)\n",
    "#                 if len(model.input.shape) == 5:\n",
    "#                     pre = pre.reshape((pre.shape[0], pre.shape[1], pre.shape[2], pre.shape[3], -1))\n",
    "                pre1 = np.expand_dims(pre[:, n, n, :], axis=-1) \n",
    "                predict = model.predict([pre1, pre])\n",
    "                predicts.append(predict)\n",
    "                samples = []\n",
    "        predicts = np.concatenate(predicts)\n",
    "    print(\"Batches Predictions Finish!!!\")\n",
    "    OA, KAPPA = print_plot_cm(y_test, predicts)\n",
    "    return OA, KAPPA"
   ]
  },
  {
   "cell_type": "code",
   "execution_count": 64,
   "metadata": {},
   "outputs": [
    {
     "name": "stdout",
     "output_type": "stream",
     "text": [
      "Batches Predictions Finish!!!\n"
     ]
    }
   ],
   "source": [
    "OA, KAPPA = get_test_predict(model=combine_model, data_path=MAIN_FOLDER+DATA_PATH[i],\n",
    "                             train_data_path=MAIN_FOLDER+TRAIN_PATH[i], c=16,\n",
    "                             lists=lists[i], bsize=3200, norma_methods='z-score',m=17)"
   ]
  },
  {
   "cell_type": "code",
   "execution_count": 65,
   "metadata": {},
   "outputs": [
    {
     "name": "stdout",
     "output_type": "stream",
     "text": [
      "0.9614544520107927 0.9546723210077922\n"
     ]
    }
   ],
   "source": [
    "print(OA, KAPPA)"
   ]
  },
  {
   "cell_type": "code",
   "execution_count": null,
   "metadata": {},
   "outputs": [],
   "source": []
  },
  {
   "cell_type": "code",
   "execution_count": null,
   "metadata": {},
   "outputs": [],
   "source": []
  },
  {
   "cell_type": "code",
   "execution_count": null,
   "metadata": {},
   "outputs": [],
   "source": []
  },
  {
   "cell_type": "code",
   "execution_count": null,
   "metadata": {},
   "outputs": [],
   "source": []
  },
  {
   "cell_type": "code",
   "execution_count": null,
   "metadata": {},
   "outputs": [],
   "source": []
  },
  {
   "cell_type": "code",
   "execution_count": null,
   "metadata": {},
   "outputs": [],
   "source": []
  },
  {
   "cell_type": "code",
   "execution_count": null,
   "metadata": {},
   "outputs": [],
   "source": []
  },
  {
   "cell_type": "code",
   "execution_count": null,
   "metadata": {},
   "outputs": [],
   "source": []
  },
  {
   "cell_type": "code",
   "execution_count": null,
   "metadata": {},
   "outputs": [],
   "source": []
  },
  {
   "cell_type": "markdown",
   "metadata": {},
   "source": [
    "# features prep"
   ]
  },
  {
   "cell_type": "code",
   "execution_count": 23,
   "metadata": {},
   "outputs": [],
   "source": [
    "cnn_1d_path = r\"e:/HSI/code/new_model_0/\"\n",
    "cnn_2d_path = r\"e:/HSI/code/new_model_2/\""
   ]
  },
  {
   "cell_type": "code",
   "execution_count": 25,
   "metadata": {},
   "outputs": [],
   "source": [
    "cnn_1d_model = load_model(cnn_1d_path + \"cnn_1d_IP.h5\")\n",
    "cnn_2d_model = load_model(cnn_2d_path + \"17-cnn_2d_IP.h5\")"
   ]
  },
  {
   "cell_type": "code",
   "execution_count": 66,
   "metadata": {},
   "outputs": [],
   "source": [
    "cnn_1d_feature = K.function([cnn_1d_model.layers[0].input, K.learning_phase()],\n",
    "                            [cnn_1d_model.layers[-4].output])"
   ]
  },
  {
   "cell_type": "code",
   "execution_count": 67,
   "metadata": {},
   "outputs": [],
   "source": [
    "cnn_2d_feature = K.function([cnn_2d_model.layers[0].input, K.learning_phase()],\n",
    "                            [cnn_2d_model.layers[-4].output])"
   ]
  },
  {
   "cell_type": "code",
   "execution_count": 80,
   "metadata": {},
   "outputs": [],
   "source": [
    "features_1d = cnn_1d_feature([train_samples_2])[0]"
   ]
  },
  {
   "cell_type": "code",
   "execution_count": 81,
   "metadata": {},
   "outputs": [],
   "source": [
    "features_2d = cnn_2d_feature([train_samples_1])[0]"
   ]
  },
  {
   "cell_type": "code",
   "execution_count": 82,
   "metadata": {},
   "outputs": [
    {
     "name": "stdout",
     "output_type": "stream",
     "text": [
      "(2466, 864)\n",
      "(2466, 432)\n"
     ]
    }
   ],
   "source": [
    "print(features_1d.shape)\n",
    "print(features_2d.shape)"
   ]
  },
  {
   "cell_type": "markdown",
   "metadata": {},
   "source": [
    "# features concatenate"
   ]
  },
  {
   "cell_type": "code",
   "execution_count": 83,
   "metadata": {},
   "outputs": [],
   "source": [
    "fusion_layer = np.concatenate([features_1d, features_2d], axis=1)"
   ]
  },
  {
   "cell_type": "code",
   "execution_count": 84,
   "metadata": {},
   "outputs": [
    {
     "name": "stdout",
     "output_type": "stream",
     "text": [
      "(2466, 1296)\n"
     ]
    }
   ],
   "source": [
    "print(fusion_layer.shape)"
   ]
  },
  {
   "cell_type": "code",
   "execution_count": 113,
   "metadata": {},
   "outputs": [],
   "source": [
    "inputs = Input(shape=(fusion_layer.shape[-1],))\n",
    "y = Dense(128, activation='relu')(inputs)\n",
    "y = Dense(128, activation='relu')(y)\n",
    "output = Dense(c[0], activation='softmax')(y)"
   ]
  },
  {
   "cell_type": "code",
   "execution_count": 114,
   "metadata": {},
   "outputs": [],
   "source": [
    "model1 = Model(inputs=inputs, outputs=output)"
   ]
  },
  {
   "cell_type": "code",
   "execution_count": 115,
   "metadata": {},
   "outputs": [],
   "source": [
    "model1.compile(optimizer=Adam(0.0001), loss=\"categorical_crossentropy\", metrics=[\"accuracy\"])"
   ]
  },
  {
   "cell_type": "code",
   "execution_count": 116,
   "metadata": {
    "scrolled": true
   },
   "outputs": [
    {
     "name": "stdout",
     "output_type": "stream",
     "text": [
      "Epoch 1/50\n",
      "2466/2466 [==============================] - 1s 532us/step - loss: 2.2279 - acc: 0.4270\n",
      "Epoch 2/50\n",
      "2466/2466 [==============================] - 0s 80us/step - loss: 1.1876 - acc: 0.7713\n",
      "Epoch 3/50\n",
      "2466/2466 [==============================] - 0s 80us/step - loss: 0.6754 - acc: 0.8865\n",
      "Epoch 4/50\n",
      "2466/2466 [==============================] - 0s 80us/step - loss: 0.4230 - acc: 0.9343\n",
      "Epoch 5/50\n",
      "2466/2466 [==============================] - 0s 80us/step - loss: 0.2869 - acc: 0.9590\n",
      "Epoch 6/50\n",
      "2466/2466 [==============================] - 0s 78us/step - loss: 0.2047 - acc: 0.9704\n",
      "Epoch 7/50\n",
      "2466/2466 [==============================] - 0s 80us/step - loss: 0.1517 - acc: 0.9797\n",
      "Epoch 8/50\n",
      "2466/2466 [==============================] - 0s 80us/step - loss: 0.1178 - acc: 0.9895\n",
      "Epoch 9/50\n",
      "2466/2466 [==============================] - 0s 82us/step - loss: 0.0927 - acc: 0.9943\n",
      "Epoch 10/50\n",
      "2466/2466 [==============================] - 0s 81us/step - loss: 0.0760 - acc: 0.9955\n",
      "Epoch 11/50\n",
      "2466/2466 [==============================] - 0s 81us/step - loss: 0.0617 - acc: 0.9964\n",
      "Epoch 12/50\n",
      "2466/2466 [==============================] - 0s 81us/step - loss: 0.0519 - acc: 0.9964\n",
      "Epoch 13/50\n",
      "2466/2466 [==============================] - 0s 84us/step - loss: 0.0443 - acc: 0.9976\n",
      "Epoch 14/50\n",
      "2466/2466 [==============================] - 0s 81us/step - loss: 0.0377 - acc: 0.9984\n",
      "Epoch 15/50\n",
      "2466/2466 [==============================] - 0s 81us/step - loss: 0.0325 - acc: 0.9988\n",
      "Epoch 16/50\n",
      "2466/2466 [==============================] - 0s 81us/step - loss: 0.0283 - acc: 0.9992\n",
      "Epoch 17/50\n",
      "2466/2466 [==============================] - 0s 81us/step - loss: 0.0251 - acc: 0.9992\n",
      "Epoch 18/50\n",
      "2466/2466 [==============================] - 0s 81us/step - loss: 0.0217 - acc: 0.9992\n",
      "Epoch 19/50\n",
      "2466/2466 [==============================] - 0s 80us/step - loss: 0.0193 - acc: 0.9996\n",
      "Epoch 20/50\n",
      "2466/2466 [==============================] - 0s 80us/step - loss: 0.0170 - acc: 1.0000\n",
      "Epoch 21/50\n",
      "2466/2466 [==============================] - 0s 80us/step - loss: 0.0153 - acc: 1.0000\n",
      "Epoch 22/50\n",
      "2466/2466 [==============================] - 0s 81us/step - loss: 0.0138 - acc: 1.0000\n",
      "Epoch 23/50\n",
      "2466/2466 [==============================] - 0s 82us/step - loss: 0.0125 - acc: 1.0000\n",
      "Epoch 24/50\n",
      "2466/2466 [==============================] - 0s 81us/step - loss: 0.0113 - acc: 1.0000\n",
      "Epoch 25/50\n",
      "2466/2466 [==============================] - 0s 81us/step - loss: 0.0101 - acc: 1.0000\n",
      "Epoch 26/50\n",
      "2466/2466 [==============================] - 0s 80us/step - loss: 0.0092 - acc: 1.0000\n",
      "Epoch 27/50\n",
      "2466/2466 [==============================] - 0s 82us/step - loss: 0.0084 - acc: 1.0000\n",
      "Epoch 28/50\n",
      "2466/2466 [==============================] - 0s 81us/step - loss: 0.0079 - acc: 1.0000\n",
      "Epoch 29/50\n",
      "2466/2466 [==============================] - 0s 81us/step - loss: 0.0072 - acc: 1.0000\n",
      "Epoch 30/50\n",
      "2466/2466 [==============================] - 0s 81us/step - loss: 0.0065 - acc: 1.0000\n",
      "Epoch 31/50\n",
      "2466/2466 [==============================] - 0s 80us/step - loss: 0.0061 - acc: 1.0000\n",
      "Epoch 32/50\n",
      "2466/2466 [==============================] - 0s 81us/step - loss: 0.0057 - acc: 1.0000\n",
      "Epoch 33/50\n",
      "2466/2466 [==============================] - 0s 84us/step - loss: 0.0053 - acc: 1.0000\n",
      "Epoch 34/50\n",
      "2466/2466 [==============================] - 0s 81us/step - loss: 0.0050 - acc: 1.0000\n",
      "Epoch 35/50\n",
      "2466/2466 [==============================] - 0s 81us/step - loss: 0.0046 - acc: 1.0000\n",
      "Epoch 36/50\n",
      "2466/2466 [==============================] - 0s 79us/step - loss: 0.0043 - acc: 1.0000\n",
      "Epoch 37/50\n",
      "2466/2466 [==============================] - 0s 81us/step - loss: 0.0040 - acc: 1.0000\n",
      "Epoch 38/50\n",
      "2466/2466 [==============================] - 0s 80us/step - loss: 0.0038 - acc: 1.0000\n",
      "Epoch 39/50\n",
      "2466/2466 [==============================] - 0s 81us/step - loss: 0.0035 - acc: 1.0000\n",
      "Epoch 40/50\n",
      "2466/2466 [==============================] - 0s 80us/step - loss: 0.0033 - acc: 1.0000\n",
      "Epoch 41/50\n",
      "2466/2466 [==============================] - 0s 83us/step - loss: 0.0031 - acc: 1.0000\n",
      "Epoch 42/50\n",
      "2466/2466 [==============================] - 0s 83us/step - loss: 0.0030 - acc: 1.0000\n",
      "Epoch 43/50\n",
      "2466/2466 [==============================] - 0s 84us/step - loss: 0.0028 - acc: 1.0000\n",
      "Epoch 44/50\n",
      "2466/2466 [==============================] - 0s 83us/step - loss: 0.0026 - acc: 1.0000\n",
      "Epoch 45/50\n",
      "2466/2466 [==============================] - 0s 79us/step - loss: 0.0025 - acc: 1.0000\n",
      "Epoch 46/50\n",
      "2466/2466 [==============================] - 0s 82us/step - loss: 0.0024 - acc: 1.0000\n",
      "Epoch 47/50\n",
      "2466/2466 [==============================] - 0s 82us/step - loss: 0.0022 - acc: 1.0000\n",
      "Epoch 48/50\n",
      "2466/2466 [==============================] - 0s 81us/step - loss: 0.0021 - acc: 1.0000\n",
      "Epoch 49/50\n",
      "2466/2466 [==============================] - 0s 83us/step - loss: 0.0020 - acc: 1.0000\n",
      "Epoch 50/50\n",
      "2466/2466 [==============================] - 0s 83us/step - loss: 0.0019 - acc: 1.0000\n"
     ]
    }
   ],
   "source": [
    "network = model1.fit(fusion_layer, train_labels, batch_size=50, epochs=50, verbose=1)"
   ]
  },
  {
   "cell_type": "code",
   "execution_count": 60,
   "metadata": {
    "collapsed": true
   },
   "outputs": [
    {
     "name": "stdout",
     "output_type": "stream",
     "text": [
      "Overall Accuracy:100.0000%\n",
      "Kappa:  1.0\n",
      "              precision    recall  f1-score   support\n",
      "\n",
      "           1     1.0000    1.0000    1.0000        33\n",
      "           2     1.0000    1.0000    1.0000       200\n",
      "           3     1.0000    1.0000    1.0000       200\n",
      "           4     1.0000    1.0000    1.0000       181\n",
      "           5     1.0000    1.0000    1.0000       200\n",
      "           6     1.0000    1.0000    1.0000       200\n",
      "           7     1.0000    1.0000    1.0000        20\n",
      "           8     1.0000    1.0000    1.0000       200\n",
      "           9     1.0000    1.0000    1.0000        14\n",
      "          10     1.0000    1.0000    1.0000       200\n",
      "          11     1.0000    1.0000    1.0000       200\n",
      "          12     1.0000    1.0000    1.0000       200\n",
      "          13     1.0000    1.0000    1.0000       143\n",
      "          14     1.0000    1.0000    1.0000       200\n",
      "          15     1.0000    1.0000    1.0000       200\n",
      "          16     1.0000    1.0000    1.0000        75\n",
      "\n",
      "   micro avg     1.0000    1.0000    1.0000      2466\n",
      "   macro avg     1.0000    1.0000    1.0000      2466\n",
      "weighted avg     1.0000    1.0000    1.0000      2466\n",
      "\n"
     ]
    },
    {
     "data": {
      "image/png": "[encoded data removed]",
      "text/plain": [
       "<Figure size 720x504 with 2 Axes>"
      ]
     },
     "metadata": {
      "needs_background": "light"
     },
     "output_type": "display_data"
    }
   ],
   "source": [
    "predic = model.predict(fusion_layer)\n",
    "print_plot_cm(train_labels, predic)"
   ]
  },
  {
   "cell_type": "code",
   "execution_count": 90,
   "metadata": {},
   "outputs": [],
   "source": [
    "bands_data, is_train, training_labels = get_prep_data(data_path=MAIN_FOLDER+DATA_PATH[i], \n",
    "                                                      train_data_path=MAIN_FOLDER+TRAIN_PATH[i])"
   ]
  },
  {
   "cell_type": "code",
   "execution_count": 91,
   "metadata": {},
   "outputs": [],
   "source": [
    "_, x_test_index, _, y_test = custom_train_index(is_train, training_labels, c=c[i], \n",
    "                                                lists=lists[i])"
   ]
  },
  {
   "cell_type": "code",
   "execution_count": 92,
   "metadata": {},
   "outputs": [],
   "source": [
    "samples = []\n",
    "for j in x_test_index:\n",
    "    sample = bands_data[j[0], j[1]]\n",
    "    samples.append(sample)\n",
    "samples = np.stack(samples)\n",
    "samples = samples.reshape((samples.shape[0], samples.shape[1], -1))"
   ]
  },
  {
   "cell_type": "code",
   "execution_count": 93,
   "metadata": {},
   "outputs": [
    {
     "name": "stdout",
     "output_type": "stream",
     "text": [
      "(7783, 200, 1)\n"
     ]
    }
   ],
   "source": [
    "print(samples.shape)"
   ]
  },
  {
   "cell_type": "code",
   "execution_count": 94,
   "metadata": {},
   "outputs": [],
   "source": [
    "featurs_1 = cnn_1d_feature([samples])[0]"
   ]
  },
  {
   "cell_type": "code",
   "execution_count": 95,
   "metadata": {},
   "outputs": [
    {
     "name": "stdout",
     "output_type": "stream",
     "text": [
      "(7783, 864)\n"
     ]
    }
   ],
   "source": [
    "print(featurs_1.shape)"
   ]
  },
  {
   "cell_type": "code",
   "execution_count": 96,
   "metadata": {},
   "outputs": [
    {
     "name": "stdout",
     "output_type": "stream",
     "text": [
      "Batches Features...\n",
      "Batches Features...\n",
      "Batches Features...\n"
     ]
    }
   ],
   "source": [
    "samples_1 = []\n",
    "features = []\n",
    "n = int((m - 1) / 2)\n",
    "x_test_nindex = x_test_index + n\n",
    "bands_data = np.pad(bands_data, ((n, n), (n, n), (0, 0)), 'constant', constant_values=0)\n",
    "for i, j in enumerate(x_test_nindex):\n",
    "    k1 = j[0] - n\n",
    "    k2 = j[0] + n + 1\n",
    "    k3 = j[1] - n\n",
    "    k4 = j[1] + n + 1\n",
    "    block = bands_data[k1:k2, k3:k4]\n",
    "    samples_1.append(block)\n",
    "    if len(samples_1) == 3200 or i == x_test_nindex.shape[0] - 1:\n",
    "        print(\"Batches Features...\")\n",
    "        pre = np.stack(samples_1)\n",
    "        feature = cnn_2d_feature([pre])[0]\n",
    "        features.append(feature)\n",
    "        samples_1 = []\n",
    "features = np.concatenate(features)"
   ]
  },
  {
   "cell_type": "code",
   "execution_count": 97,
   "metadata": {},
   "outputs": [
    {
     "name": "stdout",
     "output_type": "stream",
     "text": [
      "(7783, 432)\n"
     ]
    }
   ],
   "source": [
    "print(features.shape)"
   ]
  },
  {
   "cell_type": "code",
   "execution_count": 98,
   "metadata": {},
   "outputs": [
    {
     "name": "stdout",
     "output_type": "stream",
     "text": [
      "(7783, 1296)\n"
     ]
    }
   ],
   "source": [
    "fea = np.concatenate([featurs_1, features], axis=1)\n",
    "print(fea.shape)"
   ]
  },
  {
   "cell_type": "code",
   "execution_count": 99,
   "metadata": {},
   "outputs": [],
   "source": [
    "pred = model1.predict(fea)"
   ]
  },
  {
   "cell_type": "code",
   "execution_count": 100,
   "metadata": {},
   "outputs": [
    {
     "data": {
      "text/plain": [
       "(0.9838108698445329, 0.9808960761057184)"
      ]
     },
     "execution_count": 100,
     "metadata": {},
     "output_type": "execute_result"
    }
   ],
   "source": [
    "print_plot_cm(y_test, pred)"
   ]
  },
  {
   "cell_type": "code",
   "execution_count": 127,
   "metadata": {},
   "outputs": [],
   "source": [
    "bands_data_dict = sio.loadmat(MAIN_FOLDER+DATA_PATH[0])\n",
    "bands_data_1 = bands_data_dict[list(bands_data_dict.keys())[-1]]\n",
    "bands_data_1 = norma_data(bands_data_1)"
   ]
  },
  {
   "cell_type": "code",
   "execution_count": 128,
   "metadata": {},
   "outputs": [
    {
     "name": "stdout",
     "output_type": "stream",
     "text": [
      "E:/HSI/IP/Indian_pines_corrected\n"
     ]
    }
   ],
   "source": [
    "print(MAIN_FOLDER+DATA_PATH[0])"
   ]
  },
  {
   "cell_type": "code",
   "execution_count": 129,
   "metadata": {},
   "outputs": [],
   "source": [
    "pre = bands_data_1.reshape((bands_data_1.shape[0]*bands_data_1.shape[1], bands_data_1.shape[2], -1))"
   ]
  },
  {
   "cell_type": "code",
   "execution_count": 130,
   "metadata": {},
   "outputs": [
    {
     "name": "stdout",
     "output_type": "stream",
     "text": [
      "(21025, 200, 1)\n"
     ]
    }
   ],
   "source": [
    "print(pre.shape)"
   ]
  },
  {
   "cell_type": "code",
   "execution_count": 131,
   "metadata": {},
   "outputs": [],
   "source": [
    "f1 = cnn_1d_feature([pre])[0]"
   ]
  },
  {
   "cell_type": "code",
   "execution_count": 132,
   "metadata": {},
   "outputs": [
    {
     "name": "stdout",
     "output_type": "stream",
     "text": [
      "(21025, 864)\n"
     ]
    }
   ],
   "source": [
    "print(f1.shape)"
   ]
  },
  {
   "cell_type": "code",
   "execution_count": 133,
   "metadata": {},
   "outputs": [
    {
     "name": "stdout",
     "output_type": "stream",
     "text": [
      "(145, 145, 200)\n"
     ]
    }
   ],
   "source": [
    "print(bands_data_1.shape)"
   ]
  },
  {
   "cell_type": "code",
   "execution_count": 134,
   "metadata": {},
   "outputs": [
    {
     "name": "stdout",
     "output_type": "stream",
     "text": [
      "Batches Features...\n",
      "Batches Features...\n",
      "Batches Features...\n",
      "Batches Features...\n",
      "Batches Features...\n",
      "Batches Features...\n",
      "Batches Features...\n",
      "Batches Features...\n",
      "Batches Features...\n",
      "Batches Features...\n",
      "Batches Features...\n",
      "Batches Features...\n",
      "Batches Features...\n",
      "Batches Features...\n",
      "Batches Features...\n",
      "Batches Features...\n",
      "Batches Features...\n",
      "Batches Features...\n",
      "Batches Features...\n",
      "Batches Features...\n",
      "Batches Features...\n",
      "Batches Features...\n",
      "Batches Features...\n",
      "Batches Features...\n",
      "Batches Features...\n",
      "Batches Features...\n",
      "Batches Features...\n",
      "Batches Features...\n",
      "Batches Features...\n",
      "Batches Features...\n",
      "Batches Features...\n",
      "Batches Features...\n",
      "Batches Features...\n",
      "Batches Features...\n",
      "Batches Features...\n",
      "Batches Features...\n",
      "Batches Features...\n",
      "Batches Features...\n",
      "Batches Features...\n",
      "Batches Features...\n",
      "Batches Features...\n",
      "Batches Features...\n",
      "Batches Features...\n",
      "Batches Features...\n",
      "Batches Features...\n",
      "Batches Features...\n",
      "Batches Features...\n",
      "Batches Features...\n",
      "Batches Features...\n",
      "Batches Features...\n",
      "Batches Features...\n",
      "Batches Features...\n",
      "Batches Features...\n",
      "Batches Features...\n",
      "Batches Features...\n",
      "Batches Features...\n",
      "Batches Features...\n",
      "Batches Features...\n",
      "Batches Features...\n",
      "Batches Features...\n",
      "Batches Features...\n",
      "Batches Features...\n",
      "Batches Features...\n",
      "Batches Features...\n",
      "Batches Features...\n",
      "Batches Features...\n",
      "Batches Features...\n",
      "Batches Features...\n",
      "Batches Features...\n",
      "Batches Features...\n",
      "Batches Features...\n",
      "Batches Features...\n",
      "Batches Features...\n",
      "Batches Features...\n",
      "Batches Features...\n",
      "Batches Features...\n",
      "Batches Features...\n",
      "Batches Features...\n",
      "Batches Features...\n",
      "Batches Features...\n",
      "Batches Features...\n",
      "Batches Features...\n",
      "Batches Features...\n",
      "Batches Features...\n",
      "Batches Features...\n",
      "Batches Features...\n",
      "Batches Features...\n",
      "Batches Features...\n",
      "Batches Features...\n",
      "Batches Features...\n",
      "Batches Features...\n",
      "Batches Features...\n",
      "Batches Features...\n",
      "Batches Features...\n",
      "Batches Features...\n",
      "Batches Features...\n",
      "Batches Features...\n",
      "Batches Features...\n",
      "Batches Features...\n",
      "Batches Features...\n",
      "Batches Features...\n",
      "Batches Features...\n",
      "Batches Features...\n",
      "Batches Features...\n",
      "Batches Features...\n",
      "Batches Features...\n",
      "Batches Features...\n",
      "Batches Features...\n",
      "Batches Features...\n",
      "Batches Features...\n",
      "Batches Features...\n",
      "Batches Features...\n",
      "Batches Features...\n",
      "Batches Features...\n",
      "Batches Features...\n",
      "Batches Features...\n",
      "Batches Features...\n",
      "Batches Features...\n",
      "Batches Features...\n",
      "Batches Features...\n",
      "Batches Features...\n",
      "Batches Features...\n",
      "Batches Features...\n",
      "Batches Features...\n",
      "Batches Features...\n",
      "Batches Features...\n",
      "Batches Features...\n",
      "Batches Features...\n",
      "Batches Features...\n",
      "Batches Features...\n",
      "Batches Features...\n",
      "Batches Features...\n",
      "Batches Features...\n",
      "Batches Features...\n",
      "Batches Features...\n",
      "Batches Features...\n",
      "Batches Features...\n",
      "Batches Features...\n",
      "Batches Features...\n",
      "Batches Features...\n",
      "Batches Features...\n",
      "Batches Features...\n",
      "Batches Features...\n",
      "Batches Features...\n",
      "Batches Features...\n",
      "Batches Features...\n",
      "Batches Features...\n",
      "Batches Features...\n",
      "Batches Features...\n",
      "Batches Features...\n",
      "Batches Features...\n"
     ]
    }
   ],
   "source": [
    "n = int((m - 1) / 2)\n",
    "bands_data_1 = np.pad(bands_data_1, ((n, n), (n, n), (0, 0)), 'constant', constant_values=0)\n",
    "cols = bands_data_1.shape[1]-2*n\n",
    "rows = bands_data_1.shape[0]-2*n\n",
    "result1 = []\n",
    "f2 = []\n",
    "for g in range(0, rows, 1):\n",
    "    for h in range(0, cols, 1):\n",
    "        data = bands_data_1[g: g + m, h: h + m, :]\n",
    "        result1.append(data)\n",
    "        if len(result1) == 3200 or g == int(rows-1):\n",
    "            print(\"Batches Features...\")\n",
    "            pre1 = np.stack(result1)\n",
    "            fe = cnn_2d_feature([pre1])[0]\n",
    "            f2.append(fe)\n",
    "            result1 = []\n",
    "f2 = np.concatenate(f2)"
   ]
  },
  {
   "cell_type": "code",
   "execution_count": 135,
   "metadata": {},
   "outputs": [
    {
     "name": "stdout",
     "output_type": "stream",
     "text": [
      "(21025, 432)\n"
     ]
    }
   ],
   "source": [
    "print(f2.shape)"
   ]
  },
  {
   "cell_type": "code",
   "execution_count": 136,
   "metadata": {},
   "outputs": [],
   "source": [
    "f3 = np.concatenate([f1, f2], axis=1)"
   ]
  },
  {
   "cell_type": "code",
   "execution_count": 137,
   "metadata": {},
   "outputs": [],
   "source": [
    "p = model1.predict(f3)"
   ]
  },
  {
   "cell_type": "code",
   "execution_count": 138,
   "metadata": {},
   "outputs": [
    {
     "data": {
      "image/png": "[encoded data removed]",
      "text/plain": [
       "<Figure size 432x288 with 1 Axes>"
      ]
     },
     "metadata": {
      "needs_background": "light"
     },
     "output_type": "display_data"
    },
    {
     "data": {
      "text/plain": [
       "(0.060975029726516056, 0.16661117717003568, 0.09341260404280619)"
      ]
     },
     "execution_count": 138,
     "metadata": {},
     "output_type": "execute_result"
    }
   ],
   "source": [
    "write_whole_image_classification_result(p, shape=(145, 145))\n",
    "\n",
    "write_whole_image_predicts_prob(p, shape=(145, 145))"
   ]
  },
  {
   "cell_type": "code",
   "execution_count": null,
   "metadata": {},
   "outputs": [],
   "source": []
  },
  {
   "cell_type": "code",
   "execution_count": null,
   "metadata": {},
   "outputs": [],
   "source": []
  },
  {
   "cell_type": "code",
   "execution_count": null,
   "metadata": {},
   "outputs": [],
   "source": []
  }
 ],
 "metadata": {
  "kernelspec": {
   "display_name": "Python 3",
   "language": "python",
   "name": "python3"
  },
  "language_info": {
   "codemirror_mode": {
    "name": "ipython",
    "version": 3
   },
   "file_extension": ".py",
   "mimetype": "text/x-python",
   "name": "python",
   "nbconvert_exporter": "python",
   "pygments_lexer": "ipython3",
   "version": "3.6.1rc1"
  }
 },
 "nbformat": 4,
 "nbformat_minor": 2
}
