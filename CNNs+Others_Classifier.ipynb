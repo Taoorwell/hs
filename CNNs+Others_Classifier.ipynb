{
 "cells": [
  {
   "cell_type": "markdown",
   "metadata": {},
   "source": [
    "# Load packages"
   ]
  },
  {
   "cell_type": "code",
   "execution_count": 1,
   "metadata": {},
   "outputs": [
    {
     "name": "stderr",
     "output_type": "stream",
     "text": [
      "Using TensorFlow backend.\n"
     ]
    }
   ],
   "source": [
    "# %matplotlib notebook\n",
    "from python_gdal import *\n",
    "from models_keras import *\n",
    "import time"
   ]
  },
  {
   "cell_type": "markdown",
   "metadata": {},
   "source": [
    "# Data files"
   ]
  },
  {
   "cell_type": "code",
   "execution_count": 2,
   "metadata": {},
   "outputs": [],
   "source": [
    "MAIN_FOLDER = r'E:/HSI/'\n",
    "IP_DATA_PATH = 'IP/Indian_pines_corrected'\n",
    "IP_TRAIN_PATH = 'IP/Indian_pines_gt'\n",
    "PAVIA_DATA_PATH = \"Pavia/Pavia\"\n",
    "PAVIA_TRAIN_PATH = \"Pavia/Pavia_gt\"\n",
    "PAVIA_U_DATA_PATH = \"Pavia/PaviaU\"\n",
    "PAVIA_U_TRAIN_PATH = \"Pavia/PaviaU_gt\"\n",
    "SALINAS_DATA_PATH = \"Salinas/Salinas\"\n",
    "SALINAS_TRAIN_PATH = 'Salinas/Salinas_gt'"
   ]
  },
  {
   "cell_type": "code",
   "execution_count": 11,
   "metadata": {},
   "outputs": [],
   "source": [
    "# 16, 9\n",
    "# m ,1, 5, 7, 19, 19, 39\n",
    "# input_shape = (200, 1), (103, 1), (102, 1), (224, 1)\n",
    "# image_shape = (145, 145), (610, 340), (1096, 715), (512, 217)\n",
    "c = 9\n",
    "m = 19\n",
    "input_shape = (m, m, 3)\n",
    "image_shape = (610, 340)\n",
    "n = int((m - 1) / 2)\n",
    "lists = [200, 200, 200, 200, 200, 200, 200, 200, 200]\n",
    "bsize = 32000"
   ]
  },
  {
   "cell_type": "code",
   "execution_count": 12,
   "metadata": {},
   "outputs": [],
   "source": [
    "train_samples, train_labels = get_train_sample(data_path=MAIN_FOLDER+PAVIA_U_DATA_PATH,\n",
    "                                               train_data_path=MAIN_FOLDER+PAVIA_U_TRAIN_PATH,\n",
    "                                               c=c, lists=lists, m=m, pca=True)"
   ]
  },
  {
   "cell_type": "code",
   "execution_count": 4,
   "metadata": {
    "collapsed": true
   },
   "outputs": [
    {
     "name": "stdout",
     "output_type": "stream",
     "text": [
      "_________________________________________________________________\n",
      "Layer (type)                 Output Shape              Param #   \n",
      "=================================================================\n",
      "input_2 (InputLayer)         (None, 19, 19, 3)         0         \n",
      "_________________________________________________________________\n",
      "conv2d_4 (Conv2D)            (None, 19, 19, 12)        336       \n",
      "_________________________________________________________________\n",
      "batch_normalization_4 (Batch (None, 19, 19, 12)        48        \n",
      "_________________________________________________________________\n",
      "activation_4 (Activation)    (None, 19, 19, 12)        0         \n",
      "_________________________________________________________________\n",
      "max_pooling2d_4 (MaxPooling2 (None, 10, 10, 12)        0         \n",
      "_________________________________________________________________\n",
      "conv2d_5 (Conv2D)            (None, 10, 10, 24)        2616      \n",
      "_________________________________________________________________\n",
      "batch_normalization_5 (Batch (None, 10, 10, 24)        96        \n",
      "_________________________________________________________________\n",
      "activation_5 (Activation)    (None, 10, 10, 24)        0         \n",
      "_________________________________________________________________\n",
      "max_pooling2d_5 (MaxPooling2 (None, 5, 5, 24)          0         \n",
      "_________________________________________________________________\n",
      "conv2d_6 (Conv2D)            (None, 5, 5, 48)          10416     \n",
      "_________________________________________________________________\n",
      "spatial_dropout2d_2 (Spatial (None, 5, 5, 48)          0         \n",
      "_________________________________________________________________\n",
      "batch_normalization_6 (Batch (None, 5, 5, 48)          192       \n",
      "_________________________________________________________________\n",
      "activation_6 (Activation)    (None, 5, 5, 48)          0         \n",
      "_________________________________________________________________\n",
      "max_pooling2d_6 (MaxPooling2 (None, 3, 3, 48)          0         \n",
      "_________________________________________________________________\n",
      "flatten_2 (Flatten)          (None, 432)               0         \n",
      "_________________________________________________________________\n",
      "dense_3 (Dense)              (None, 128)               55424     \n",
      "_________________________________________________________________\n",
      "dropout_2 (Dropout)          (None, 128)               0         \n",
      "_________________________________________________________________\n",
      "dense_4 (Dense)              (None, 9)                 1161      \n",
      "=================================================================\n",
      "Total params: 70,289\n",
      "Trainable params: 70,121\n",
      "Non-trainable params: 168\n",
      "_________________________________________________________________\n"
     ]
    }
   ],
   "source": [
    "model = load_model('2dpca_modelPU-19.h5')\n",
    "model.summary()"
   ]
  },
  {
   "cell_type": "code",
   "execution_count": 5,
   "metadata": {},
   "outputs": [
    {
     "name": "stdout",
     "output_type": "stream",
     "text": [
      "0 <keras.engine.input_layer.InputLayer object at 0x000001E562078AC8>\n",
      "1 <keras.layers.convolutional.Conv2D object at 0x000001E5620788D0>\n",
      "2 <keras.layers.normalization.BatchNormalization object at 0x000001E5620782E8>\n",
      "3 <keras.layers.core.Activation object at 0x000001E5620786A0>\n",
      "4 <keras.layers.pooling.MaxPooling2D object at 0x000001E56521D240>\n",
      "5 <keras.layers.convolutional.Conv2D object at 0x000001E56521D2E8>\n",
      "6 <keras.layers.normalization.BatchNormalization object at 0x000001E56521D470>\n",
      "7 <keras.layers.core.Activation object at 0x000001E56521D588>\n",
      "8 <keras.layers.pooling.MaxPooling2D object at 0x000001E56521D5C0>\n",
      "9 <keras.layers.convolutional.Conv2D object at 0x000001E56521D668>\n",
      "10 <keras.layers.core.SpatialDropout2D object at 0x000001E56521D7F0>\n",
      "11 <keras.layers.normalization.BatchNormalization object at 0x000001E56521D860>\n",
      "12 <keras.layers.core.Activation object at 0x000001E56521D978>\n",
      "13 <keras.layers.pooling.MaxPooling2D object at 0x000001E56521D9B0>\n",
      "14 <keras.layers.core.Flatten object at 0x000001E56521DA58>\n",
      "15 <keras.layers.core.Dense object at 0x000001E565217F60>\n",
      "16 <keras.layers.core.Dropout object at 0x000001E565217A58>\n",
      "17 <keras.layers.core.Dense object at 0x000001E5652179B0>\n"
     ]
    }
   ],
   "source": [
    "from keras import backend as K\n",
    "for l in range(len(model.layers)):\n",
    "    print(l, model.layers[l])"
   ]
  },
  {
   "cell_type": "code",
   "execution_count": 53,
   "metadata": {},
   "outputs": [],
   "source": [
    "getfeature = K.function([model.layers[0].input, K.learning_phase()],\n",
    "                        [model.layers[14].output])"
   ]
  },
  {
   "cell_type": "code",
   "execution_count": 54,
   "metadata": {},
   "outputs": [],
   "source": [
    "ex_train = getfeature([train_samples])[0]"
   ]
  },
  {
   "cell_type": "code",
   "execution_count": 55,
   "metadata": {},
   "outputs": [
    {
     "name": "stdout",
     "output_type": "stream",
     "text": [
      "[2.8645104e-01 8.6867857e-01 8.3569664e-01 2.7990580e-01 2.8437942e-01\n",
      " 6.6039467e-01 1.6459818e-01 7.0469713e-01 0.0000000e+00 4.0154576e-01\n",
      " 1.4274666e-01 6.8219447e-01 0.0000000e+00 7.2475719e-01 1.0033208e+00\n",
      " 8.4656543e-01 0.0000000e+00 5.6292993e-01 9.8222941e-01 2.0959646e-02\n",
      " 6.9951057e-01 1.0773001e+00 8.0041677e-01 4.1345146e-01 9.4412208e-01\n",
      " 8.3146799e-01 8.2799870e-01 0.0000000e+00 0.0000000e+00 7.7928454e-01\n",
      " 1.0511650e+00 2.0331889e-01 0.0000000e+00 8.2018030e-01 4.9523342e-01\n",
      " 4.8858088e-01 3.2719380e-01 0.0000000e+00 7.4196434e-01 1.4989328e-01\n",
      " 6.2611508e-01 3.3507234e-01 0.0000000e+00 0.0000000e+00 1.7565078e-01\n",
      " 3.4842220e-01 1.0092347e+00 7.3298168e-01 7.4020028e-01 7.8671694e-01\n",
      " 7.3720670e-01 5.7596749e-01 7.4281687e-01 1.1983104e+00 4.6617830e-01\n",
      " 5.4306835e-01 2.9467588e-02 3.0338335e-01 1.1837912e+00 1.0060320e+00\n",
      " 0.0000000e+00 2.4738228e-01 1.3171954e+00 4.7475305e-01 6.1529350e-01\n",
      " 5.6891400e-01 1.9065499e-01 8.1451643e-01 4.2457959e-01 5.5702293e-01\n",
      " 8.2734787e-01 0.0000000e+00 8.2484686e-01 4.3444127e-01 3.3063525e-01\n",
      " 0.0000000e+00 0.0000000e+00 0.0000000e+00 1.8312027e-01 2.9659930e-01\n",
      " 0.0000000e+00 2.0234513e-01 9.1210341e-01 0.0000000e+00 2.7589148e-01\n",
      " 0.0000000e+00 3.4021842e-01 1.2061482e-01 0.0000000e+00 2.7058747e-01\n",
      " 2.7986509e-01 9.0123200e-01 4.8122814e-01 3.8621458e-01 6.1346251e-01\n",
      " 4.3884087e-01 6.0596377e-01 3.8426787e-01 1.7555052e-01 0.0000000e+00\n",
      " 8.0144703e-01 1.6453061e-01 1.9751669e-01 5.1962078e-01 7.0709193e-01\n",
      " 0.0000000e+00 5.9828037e-01 4.6115428e-01 0.0000000e+00 1.3054237e-03\n",
      " 6.8361342e-01 5.1035178e-01 0.0000000e+00 5.7220411e-01 1.1406726e+00\n",
      " 0.0000000e+00 0.0000000e+00 0.0000000e+00 1.5011578e+00 0.0000000e+00\n",
      " 6.6755170e-01 1.2725371e-01 8.0681920e-02 2.3428570e-01 0.0000000e+00\n",
      " 0.0000000e+00 5.2782446e-01 0.0000000e+00 0.0000000e+00 4.4420663e-01\n",
      " 0.0000000e+00 5.3081954e-01 3.2561868e-01 6.5730351e-01 0.0000000e+00\n",
      " 0.0000000e+00 0.0000000e+00 9.6701407e-01 0.0000000e+00 0.0000000e+00\n",
      " 0.0000000e+00 0.0000000e+00 0.0000000e+00 7.3949909e-01 1.0058434e-01\n",
      " 6.8601835e-01 0.0000000e+00 1.8770364e-01 1.4882100e+00 1.0570326e+00\n",
      " 0.0000000e+00 1.2921903e-01 2.8571865e-01 0.0000000e+00 5.6215227e-01\n",
      " 7.9015589e-01 0.0000000e+00 1.0249559e+00 1.5552011e+00 8.6794233e-01\n",
      " 7.5596309e-01 5.8814883e-01 7.1879357e-01 1.0068443e+00 0.0000000e+00\n",
      " 5.8616263e-01 1.4825691e-02 0.0000000e+00 3.4491503e-01 5.1295018e-01\n",
      " 4.1976440e-01 0.0000000e+00 0.0000000e+00 1.1103127e+00 6.9432378e-01\n",
      " 0.0000000e+00 6.9719207e-01 1.2636094e-01 0.0000000e+00 4.6762198e-01\n",
      " 0.0000000e+00 0.0000000e+00 3.5368913e-01 0.0000000e+00 9.3997622e-01\n",
      " 3.4372985e-01 0.0000000e+00 1.2285349e-01 0.0000000e+00 2.5357980e-01\n",
      " 1.7429167e+00 6.4928269e-01 0.0000000e+00 5.8647849e-02 3.2289660e-01\n",
      " 9.4519228e-01 3.8235962e-01 6.0247183e-02 0.0000000e+00 1.0617472e+00\n",
      " 4.6034443e-01 0.0000000e+00 9.7709262e-01 1.4246210e+00 0.0000000e+00\n",
      " 1.1127466e+00 2.4570486e-02 0.0000000e+00 0.0000000e+00 9.7672802e-01\n",
      " 7.3597431e-01 1.2107496e-01 8.4951127e-01 0.0000000e+00 3.3963773e-01\n",
      " 0.0000000e+00 9.9916816e-01 0.0000000e+00 5.4877266e-02 0.0000000e+00\n",
      " 0.0000000e+00 6.1744410e-01 0.0000000e+00 9.1203648e-01 0.0000000e+00\n",
      " 2.8174767e-01 7.6719815e-01 1.9274710e-01 6.9775695e-01 0.0000000e+00\n",
      " 0.0000000e+00 3.7576088e-01 0.0000000e+00 1.0090568e+00 5.3698385e-01\n",
      " 7.1893752e-01 0.0000000e+00 0.0000000e+00 8.5560435e-01 9.1729081e-01\n",
      " 8.2628196e-01 0.0000000e+00 0.0000000e+00 8.1228566e-01 2.1970212e-01\n",
      " 0.0000000e+00 0.0000000e+00 5.0136817e-01 5.4274553e-01 2.6046246e-01\n",
      " 4.1949871e-01 9.0986764e-01 4.4065183e-01 4.7553417e-01 5.5323476e-01\n",
      " 9.8630357e-01 3.9860711e-01 8.5451919e-01 0.0000000e+00 7.4107394e-02\n",
      " 0.0000000e+00 7.1146369e-01 3.9768338e-01 4.4383973e-01 4.5507446e-01\n",
      " 0.0000000e+00 0.0000000e+00 1.7555438e-01 3.6331868e-01 2.8831941e-01\n",
      " 0.0000000e+00 4.3540430e-01 0.0000000e+00 4.4568786e-01 3.6107272e-01\n",
      " 3.2882041e-01 0.0000000e+00 0.0000000e+00 0.0000000e+00 3.9111698e-01\n",
      " 0.0000000e+00 9.2248023e-01 0.0000000e+00 0.0000000e+00 0.0000000e+00\n",
      " 0.0000000e+00 5.7865214e-01 5.6512564e-01 0.0000000e+00 4.7845715e-01\n",
      " 0.0000000e+00 2.6556182e-01 4.7453833e-01 1.7214425e-01 9.6045837e-02\n",
      " 4.3743914e-01 0.0000000e+00 0.0000000e+00 0.0000000e+00 0.0000000e+00\n",
      " 5.9963089e-01 0.0000000e+00 0.0000000e+00 0.0000000e+00 1.9518375e-02\n",
      " 4.8082340e-01 0.0000000e+00 6.4604032e-01 4.2782345e-01 0.0000000e+00\n",
      " 1.5241748e-01 0.0000000e+00 3.6809671e-01 6.5373540e-01 0.0000000e+00\n",
      " 0.0000000e+00 0.0000000e+00 0.0000000e+00 0.0000000e+00 0.0000000e+00\n",
      " 2.3540887e-01 8.5818195e-01 0.0000000e+00 4.3873137e-01 9.4271106e-01\n",
      " 0.0000000e+00 3.0128545e-01 0.0000000e+00 0.0000000e+00 2.7542871e-01\n",
      " 7.2881562e-01 0.0000000e+00 1.0971099e+00 5.9626329e-01 1.1837687e-01\n",
      " 5.4519904e-01 0.0000000e+00 0.0000000e+00 0.0000000e+00 5.7842290e-01\n",
      " 0.0000000e+00 3.5837620e-01 0.0000000e+00 4.2906997e-01 8.2270348e-01\n",
      " 4.0358454e-02 0.0000000e+00 8.1137025e-01 0.0000000e+00 2.8680123e-02\n",
      " 5.6233770e-01 0.0000000e+00 2.0566884e-01 0.0000000e+00 8.8871911e-02\n",
      " 2.1745212e-01 9.6104115e-02 0.0000000e+00 0.0000000e+00 0.0000000e+00\n",
      " 6.6693544e-01 8.4114715e-02 0.0000000e+00 0.0000000e+00 4.0724003e-01\n",
      " 9.5905834e-01 0.0000000e+00 6.1956978e-01 0.0000000e+00 2.3454422e-01\n",
      " 1.2762858e+00 1.2331979e-01 3.4890133e-01 0.0000000e+00 3.0549526e-01\n",
      " 0.0000000e+00 0.0000000e+00 2.3951712e-01 4.2045608e-01 5.4626060e-01\n",
      " 4.8063442e-01 0.0000000e+00 1.0823178e+00 1.3617198e+00 6.1067200e-01\n",
      " 0.0000000e+00 0.0000000e+00 3.0052537e-01 1.9943094e-01 0.0000000e+00\n",
      " 4.9596143e-01 0.0000000e+00 5.1115370e-01 2.1540366e-01 1.3022804e-01\n",
      " 5.4398626e-01 5.8068895e-01 5.0371611e-01 2.2399369e-01 6.1199158e-01\n",
      " 3.4676221e-01 2.2470671e-01 3.9965886e-01 1.8170767e-01 0.0000000e+00\n",
      " 0.0000000e+00 0.0000000e+00 2.5450441e-01 3.0337554e-01 0.0000000e+00\n",
      " 0.0000000e+00 0.0000000e+00 0.0000000e+00 4.1631621e-01 0.0000000e+00\n",
      " 0.0000000e+00 0.0000000e+00 0.0000000e+00 6.9502366e-01 0.0000000e+00\n",
      " 0.0000000e+00 0.0000000e+00 0.0000000e+00 7.2768486e-01 0.0000000e+00\n",
      " 2.3104531e-01 0.0000000e+00 0.0000000e+00 2.4461475e-01 0.0000000e+00\n",
      " 5.9393400e-01 5.8944213e-01]\n"
     ]
    }
   ],
   "source": [
    "print(ex_train[100])"
   ]
  },
  {
   "cell_type": "code",
   "execution_count": null,
   "metadata": {},
   "outputs": [],
   "source": [
    "ex_test = getfeature([])[0]"
   ]
  },
  {
   "cell_type": "code",
   "execution_count": 56,
   "metadata": {},
   "outputs": [],
   "source": [
    "from sklearn.svm import SVC\n",
    "from sklearn.model_selection import GridSearchCV"
   ]
  },
  {
   "cell_type": "code",
   "execution_count": 78,
   "metadata": {},
   "outputs": [],
   "source": [
    "parameters = {'kernel':['rbf'], \n",
    "              'C':[1, 10, 100, 1000],\n",
    "              'gamma':[1e-3, 1e-4]}\n",
    "clf = GridSearchCV(SVC(), parameters)"
   ]
  },
  {
   "cell_type": "code",
   "execution_count": 80,
   "metadata": {},
   "outputs": [
    {
     "name": "stderr",
     "output_type": "stream",
     "text": [
      "c:\\python\\python36\\lib\\site-packages\\sklearn\\model_selection\\_split.py:2053: FutureWarning: You should specify a value for 'cv' instead of relying on the default value. The default value will change from 3 to 5 in version 0.22.\n",
      "  warnings.warn(CV_WARNING, FutureWarning)\n",
      "c:\\python\\python36\\lib\\site-packages\\sklearn\\model_selection\\_search.py:841: DeprecationWarning: The default of the `iid` parameter will change from True to False in version 0.22 and will be removed in 0.24. This will change numeric results when test-set sizes are unequal.\n",
      "  DeprecationWarning)\n"
     ]
    },
    {
     "data": {
      "text/plain": [
       "GridSearchCV(cv='warn', error_score='raise-deprecating',\n",
       "       estimator=SVC(C=1.0, cache_size=200, class_weight=None, coef0=0.0,\n",
       "  decision_function_shape='ovr', degree=3, gamma='auto_deprecated',\n",
       "  kernel='rbf', max_iter=-1, probability=False, random_state=None,\n",
       "  shrinking=True, tol=0.001, verbose=False),\n",
       "       fit_params=None, iid='warn', n_jobs=None,\n",
       "       param_grid={'kernel': ['rbf'], 'C': [1, 10, 100, 1000], 'gamma': [0.001, 0.0001]},\n",
       "       pre_dispatch='2*n_jobs', refit=True, return_train_score='warn',\n",
       "       scoring=None, verbose=0)"
      ]
     },
     "execution_count": 80,
     "metadata": {},
     "output_type": "execute_result"
    }
   ],
   "source": [
    "clf.fit(train_samples.reshape(train_samples.shape[0], -1), train_labels)"
   ]
  },
  {
   "cell_type": "code",
   "execution_count": 90,
   "metadata": {},
   "outputs": [
    {
     "data": {
      "text/plain": [
       "SVC(C=100, cache_size=200, class_weight=None, coef0=0.0,\n",
       "  decision_function_shape='ovr', degree=3, gamma=0.0001, kernel='rbf',\n",
       "  max_iter=-1, probability=False, random_state=None, shrinking=True,\n",
       "  tol=0.001, verbose=False)"
      ]
     },
     "execution_count": 90,
     "metadata": {},
     "output_type": "execute_result"
    }
   ],
   "source": [
    "svmclf1 = clf.best_estimator_\n",
    "svmclf1.fit(train_samples.reshape(train_samples.shape[0], -1), train_labels)"
   ]
  },
  {
   "cell_type": "code",
   "execution_count": 91,
   "metadata": {},
   "outputs": [
    {
     "name": "stdout",
     "output_type": "stream",
     "text": [
      "0.8261111111111111\n"
     ]
    }
   ],
   "source": [
    "print(clf.best_score_)"
   ]
  },
  {
   "cell_type": "code",
   "execution_count": 92,
   "metadata": {},
   "outputs": [],
   "source": [
    "def get_test_pred2(model, data_path, train_data_path, c, lists, bsize, norma_methods='z-score', pca=False, m=1):\n",
    "    bands_data, is_train, training_labels = get_prep_data(data_path, train_data_path,\n",
    "                                                          norma_method=norma_methods,\n",
    "                                                          pca=pca)\n",
    "    _, x_test_index, _, y_test = custom_train_index(is_train, training_labels, c=c, lists=lists)\n",
    "    samples = []\n",
    "    predicts = []\n",
    "    if m == 1:\n",
    "        for i in x_test_index:\n",
    "            sample = bands_data[i[0], i[1]]\n",
    "            samples.append(sample)\n",
    "            # # add somethings for specific model.\n",
    "    else:\n",
    "        n = int((m - 1) / 2)\n",
    "        x_test_nindex = x_test_index + n\n",
    "        bands_data = np.pad(bands_data, ((n, n), (n, n), (0, 0)), 'constant', constant_values=0)\n",
    "        for i, j in enumerate(x_test_nindex):\n",
    "            k1 = j[0] - n\n",
    "            k2 = j[0] + n + 1\n",
    "            k3 = j[1] - n\n",
    "            k4 = j[1] + n + 1\n",
    "            block = bands_data[k1:k2, k3:k4]\n",
    "            samples.append(block)\n",
    "            if len(samples) == bsize or i == x_test_nindex.shape[0] - 1:\n",
    "                print(\"Batches Predictions...\")\n",
    "                pre = np.stack(samples)\n",
    "                pre = np.reshape(pre, (-1, m*m*3))\n",
    "#                 ex_test = getfeature([pre])[0]\n",
    "                pre = model.predict(pre)\n",
    "                samples = []\n",
    "                predicts.append(pre)\n",
    "    predicts = np.concatenate(predicts)\n",
    "    print(\"Batches Predictions Finish!!!\")\n",
    "    print_plot_cm(y_test, predicts)\n"
   ]
  },
  {
   "cell_type": "code",
   "execution_count": null,
   "metadata": {},
   "outputs": [],
   "source": []
  },
  {
   "cell_type": "code",
   "execution_count": 93,
   "metadata": {},
   "outputs": [
    {
     "name": "stdout",
     "output_type": "stream",
     "text": [
      "Batches Predictions...\n",
      "Batches Predictions...\n",
      "Batches Predictions Finish!!!\n",
      "              precision    recall  f1-score   support\n",
      "\n",
      "         1.0       0.98      0.77      0.86      6431\n",
      "         2.0       0.98      0.91      0.94     18449\n",
      "         3.0       0.77      0.81      0.79      1899\n",
      "         4.0       0.97      0.86      0.91      2864\n",
      "         5.0       0.27      1.00      0.43      1145\n",
      "         6.0       0.75      0.85      0.80      4829\n",
      "         7.0       0.75      0.81      0.78      1130\n",
      "         8.0       0.91      0.78      0.84      3482\n",
      "         9.0       1.00      0.78      0.88       747\n",
      "\n",
      "   micro avg       0.86      0.86      0.86     40976\n",
      "   macro avg       0.82      0.84      0.80     40976\n",
      "weighted avg       0.91      0.86      0.88     40976\n",
      "\n"
     ]
    },
    {
     "data": {
      "image/png": "[encoded data removed]",
      "text/plain": [
       "<Figure size 720x504 with 2 Axes>"
      ]
     },
     "metadata": {
      "needs_background": "light"
     },
     "output_type": "display_data"
    }
   ],
   "source": [
    "get_test_pred2(model=svmclf1, data_path=MAIN_FOLDER+PAVIA_U_DATA_PATH,\n",
    "               train_data_path=MAIN_FOLDER+PAVIA_U_TRAIN_PATH,\n",
    "               c=c, lists=lists, bsize=32000, pca=True, m=m)"
   ]
  },
  {
   "cell_type": "code",
   "execution_count": null,
   "metadata": {},
   "outputs": [],
   "source": []
  },
  {
   "cell_type": "code",
   "execution_count": 58,
   "metadata": {},
   "outputs": [
    {
     "name": "stderr",
     "output_type": "stream",
     "text": [
      "c:\\python\\python36\\lib\\site-packages\\sklearn\\model_selection\\_split.py:2053: FutureWarning: You should specify a value for 'cv' instead of relying on the default value. The default value will change from 3 to 5 in version 0.22.\n",
      "  warnings.warn(CV_WARNING, FutureWarning)\n"
     ]
    },
    {
     "data": {
      "text/plain": [
       "GridSearchCV(cv='warn', error_score='raise-deprecating',\n",
       "       estimator=SVC(C=1.0, cache_size=200, class_weight=None, coef0=0.0,\n",
       "  decision_function_shape='ovr', degree=3, gamma='auto_deprecated',\n",
       "  kernel='rbf', max_iter=-1, probability=False, random_state=None,\n",
       "  shrinking=True, tol=0.001, verbose=False),\n",
       "       fit_params=None, iid='warn', n_jobs=None,\n",
       "       param_grid={'kernel': ['rbf'], 'C': [1, 10, 100, 1000], 'gamma': [0.001, 0.0001]},\n",
       "       pre_dispatch='2*n_jobs', refit=True, return_train_score='warn',\n",
       "       scoring=None, verbose=0)"
      ]
     },
     "execution_count": 58,
     "metadata": {},
     "output_type": "execute_result"
    }
   ],
   "source": [
    "clf.fit(ex_train, train_labels)"
   ]
  },
  {
   "cell_type": "code",
   "execution_count": 59,
   "metadata": {},
   "outputs": [
    {
     "data": {
      "text/plain": [
       "SVC(C=1000, cache_size=200, class_weight=None, coef0=0.0,\n",
       "  decision_function_shape='ovr', degree=3, gamma=0.001, kernel='rbf',\n",
       "  max_iter=-1, probability=False, random_state=None, shrinking=True,\n",
       "  tol=0.001, verbose=False)"
      ]
     },
     "execution_count": 59,
     "metadata": {},
     "output_type": "execute_result"
    }
   ],
   "source": [
    "svmclf = clf.best_estimator_\n",
    "svmclf.fit(ex_train, train_labels)"
   ]
  },
  {
   "cell_type": "code",
   "execution_count": 60,
   "metadata": {},
   "outputs": [],
   "source": [
    "def get_test_pred1(model, data_path, train_data_path, c, lists, bsize, norma_methods='z-score', pca=False, m=1):\n",
    "    bands_data, is_train, training_labels = get_prep_data(data_path, train_data_path,\n",
    "                                                          norma_method=norma_methods,\n",
    "                                                          pca=pca)\n",
    "    _, x_test_index, _, y_test = custom_train_index(is_train, training_labels, c=c, lists=lists)\n",
    "    samples = []\n",
    "    predicts = []\n",
    "    if m == 1:\n",
    "        for i in x_test_index:\n",
    "            sample = bands_data[i[0], i[1]]\n",
    "            samples.append(sample)\n",
    "            # # add somethings for specific model.\n",
    "    else:\n",
    "        n = int((m - 1) / 2)\n",
    "        x_test_nindex = x_test_index + n\n",
    "        bands_data = np.pad(bands_data, ((n, n), (n, n), (0, 0)), 'constant', constant_values=0)\n",
    "        for i, j in enumerate(x_test_nindex):\n",
    "            k1 = j[0] - n\n",
    "            k2 = j[0] + n + 1\n",
    "            k3 = j[1] - n\n",
    "            k4 = j[1] + n + 1\n",
    "            block = bands_data[k1:k2, k3:k4]\n",
    "            samples.append(block)\n",
    "            if len(samples) == bsize or i == x_test_nindex.shape[0] - 1:\n",
    "                print(\"Batches Predictions...\")\n",
    "                pre = np.stack(samples)\n",
    "                ex_test = getfeature([pre])[0]\n",
    "                pre = model.predict(ex_test)\n",
    "                samples = []\n",
    "                predicts.append(pre)\n",
    "    predicts = np.concatenate(predicts)\n",
    "    print(\"Batches Predictions Finish!!!\")\n",
    "    print_plot_cm(y_test, predicts)\n"
   ]
  },
  {
   "cell_type": "code",
   "execution_count": 61,
   "metadata": {},
   "outputs": [
    {
     "name": "stdout",
     "output_type": "stream",
     "text": [
      "Batches Predictions...\n",
      "Batches Predictions...\n",
      "Batches Predictions Finish!!!\n",
      "              precision    recall  f1-score   support\n",
      "\n",
      "         1.0       0.99      0.96      0.98      6431\n",
      "         2.0       1.00      0.98      0.99     18449\n",
      "         3.0       0.94      0.97      0.96      1899\n",
      "         4.0       0.98      0.99      0.99      2864\n",
      "         5.0       1.00      1.00      1.00      1145\n",
      "         6.0       0.92      0.99      0.96      4829\n",
      "         7.0       0.94      1.00      0.97      1130\n",
      "         8.0       0.96      0.98      0.97      3482\n",
      "         9.0       0.99      1.00      1.00       747\n",
      "\n",
      "   micro avg       0.98      0.98      0.98     40976\n",
      "   macro avg       0.97      0.99      0.98     40976\n",
      "weighted avg       0.98      0.98      0.98     40976\n",
      "\n"
     ]
    },
    {
     "data": {
      "image/png": "[encoded data removed]",
      "text/plain": [
       "<Figure size 720x504 with 2 Axes>"
      ]
     },
     "metadata": {
      "needs_background": "light"
     },
     "output_type": "display_data"
    }
   ],
   "source": [
    "get_test_pred1(model=svmclf, data_path=MAIN_FOLDER+PAVIA_U_DATA_PATH,\n",
    "               train_data_path=MAIN_FOLDER+PAVIA_U_TRAIN_PATH,\n",
    "               c=c, lists=lists, bsize=32000, pca=True, m=m)"
   ]
  },
  {
   "cell_type": "code",
   "execution_count": 62,
   "metadata": {},
   "outputs": [],
   "source": [
    "def write_out_whole_image1(model, data_path, shape, bsize, norma_methods='z-score', pca=False, m=1):\n",
    "    bands_data_dict = sio.loadmat(data_path)\n",
    "    bands_data = bands_data_dict[list(bands_data_dict.keys())[-1]]\n",
    "    bands_data = norma_data(bands_data, norma_methods=norma_methods)\n",
    "    if pca is True:\n",
    "        bands_data = pca_data(bands_data)\n",
    "    if m == 1:\n",
    "        pre = bands_data.reshape(bands_data.shape[0]*bands_data.shape[1], bands_data.shape[2], 1)\n",
    "        predicts = model.predict(pre)\n",
    "    else:\n",
    "        n = int((m - 1) / 2)\n",
    "        bands_data = np.pad(bands_data, ((n, n), (n, n), (0, 0)), 'constant', constant_values=0)\n",
    "        cols = bands_data.shape[1]-2*n\n",
    "        rows = bands_data.shape[0]-2*n\n",
    "        result = []\n",
    "        predicts = []\n",
    "        for i in range(0, rows, 1):\n",
    "            for j in range(0, cols, 1):\n",
    "                data = bands_data[i: i + m, j: j + m, :]\n",
    "                result.append(data)\n",
    "                if len(result) == bsize or i == int(rows-1):\n",
    "                    print(\"Batches Predictions...\")\n",
    "                    pre = np.stack(result)\n",
    "                    ex_test = getfeature([pre])[0]\n",
    "                    predict = model.predict(ex_test)\n",
    "                    result = []\n",
    "                    predicts.append(predict)\n",
    "        predicts = np.concatenate(predicts)\n",
    "        print(\"Batches Predictions Finish!!!\")\n",
    "    write_classification_result2(predicts, shape)"
   ]
  },
  {
   "cell_type": "code",
   "execution_count": 63,
   "metadata": {},
   "outputs": [
    {
     "name": "stdout",
     "output_type": "stream",
     "text": [
      "Batches Predictions...\n",
      "Batches Predictions...\n",
      "Batches Predictions...\n",
      "Batches Predictions...\n",
      "Batches Predictions...\n",
      "Batches Predictions...\n",
      "Batches Predictions...\n",
      "Batches Predictions...\n",
      "Batches Predictions...\n",
      "Batches Predictions...\n",
      "Batches Predictions...\n",
      "Batches Predictions...\n",
      "Batches Predictions...\n",
      "Batches Predictions...\n",
      "Batches Predictions...\n",
      "Batches Predictions...\n",
      "Batches Predictions...\n",
      "Batches Predictions...\n",
      "Batches Predictions...\n",
      "Batches Predictions...\n",
      "Batches Predictions...\n",
      "Batches Predictions...\n",
      "Batches Predictions...\n",
      "Batches Predictions...\n",
      "Batches Predictions...\n",
      "Batches Predictions...\n",
      "Batches Predictions...\n",
      "Batches Predictions...\n",
      "Batches Predictions...\n",
      "Batches Predictions...\n",
      "Batches Predictions...\n",
      "Batches Predictions...\n",
      "Batches Predictions...\n",
      "Batches Predictions...\n",
      "Batches Predictions...\n",
      "Batches Predictions...\n",
      "Batches Predictions...\n",
      "Batches Predictions...\n",
      "Batches Predictions...\n",
      "Batches Predictions...\n",
      "Batches Predictions...\n",
      "Batches Predictions...\n",
      "Batches Predictions...\n",
      "Batches Predictions...\n",
      "Batches Predictions...\n",
      "Batches Predictions...\n",
      "Batches Predictions...\n",
      "Batches Predictions...\n",
      "Batches Predictions...\n",
      "Batches Predictions...\n",
      "Batches Predictions...\n",
      "Batches Predictions...\n",
      "Batches Predictions...\n",
      "Batches Predictions...\n",
      "Batches Predictions...\n",
      "Batches Predictions...\n",
      "Batches Predictions...\n",
      "Batches Predictions...\n",
      "Batches Predictions...\n",
      "Batches Predictions...\n",
      "Batches Predictions...\n",
      "Batches Predictions...\n",
      "Batches Predictions...\n",
      "Batches Predictions...\n",
      "Batches Predictions...\n",
      "Batches Predictions...\n",
      "Batches Predictions...\n",
      "Batches Predictions...\n",
      "Batches Predictions...\n",
      "Batches Predictions...\n",
      "Batches Predictions...\n",
      "Batches Predictions...\n",
      "Batches Predictions...\n",
      "Batches Predictions...\n",
      "Batches Predictions...\n",
      "Batches Predictions...\n",
      "Batches Predictions...\n",
      "Batches Predictions...\n",
      "Batches Predictions...\n",
      "Batches Predictions...\n",
      "Batches Predictions...\n",
      "Batches Predictions...\n",
      "Batches Predictions...\n",
      "Batches Predictions...\n",
      "Batches Predictions...\n",
      "Batches Predictions...\n",
      "Batches Predictions...\n",
      "Batches Predictions...\n",
      "Batches Predictions...\n",
      "Batches Predictions...\n",
      "Batches Predictions...\n",
      "Batches Predictions...\n",
      "Batches Predictions...\n",
      "Batches Predictions...\n",
      "Batches Predictions...\n",
      "Batches Predictions...\n",
      "Batches Predictions...\n",
      "Batches Predictions...\n",
      "Batches Predictions...\n",
      "Batches Predictions...\n",
      "Batches Predictions...\n",
      "Batches Predictions...\n",
      "Batches Predictions...\n",
      "Batches Predictions...\n",
      "Batches Predictions...\n",
      "Batches Predictions...\n",
      "Batches Predictions...\n",
      "Batches Predictions...\n",
      "Batches Predictions...\n",
      "Batches Predictions...\n",
      "Batches Predictions...\n",
      "Batches Predictions...\n",
      "Batches Predictions...\n",
      "Batches Predictions...\n",
      "Batches Predictions...\n",
      "Batches Predictions...\n",
      "Batches Predictions...\n",
      "Batches Predictions...\n",
      "Batches Predictions...\n",
      "Batches Predictions...\n",
      "Batches Predictions...\n",
      "Batches Predictions...\n",
      "Batches Predictions...\n",
      "Batches Predictions...\n",
      "Batches Predictions...\n",
      "Batches Predictions...\n",
      "Batches Predictions...\n",
      "Batches Predictions...\n",
      "Batches Predictions...\n",
      "Batches Predictions...\n",
      "Batches Predictions...\n",
      "Batches Predictions...\n",
      "Batches Predictions...\n",
      "Batches Predictions...\n",
      "Batches Predictions...\n",
      "Batches Predictions...\n",
      "Batches Predictions...\n",
      "Batches Predictions...\n",
      "Batches Predictions...\n",
      "Batches Predictions...\n",
      "Batches Predictions...\n",
      "Batches Predictions...\n",
      "Batches Predictions...\n",
      "Batches Predictions...\n",
      "Batches Predictions...\n",
      "Batches Predictions...\n",
      "Batches Predictions...\n",
      "Batches Predictions...\n",
      "Batches Predictions...\n",
      "Batches Predictions...\n",
      "Batches Predictions...\n",
      "Batches Predictions...\n",
      "Batches Predictions...\n",
      "Batches Predictions...\n",
      "Batches Predictions...\n",
      "Batches Predictions...\n",
      "Batches Predictions...\n",
      "Batches Predictions...\n",
      "Batches Predictions...\n",
      "Batches Predictions...\n",
      "Batches Predictions...\n",
      "Batches Predictions...\n",
      "Batches Predictions...\n",
      "Batches Predictions...\n",
      "Batches Predictions...\n",
      "Batches Predictions...\n",
      "Batches Predictions...\n",
      "Batches Predictions...\n",
      "Batches Predictions...\n",
      "Batches Predictions...\n",
      "Batches Predictions...\n",
      "Batches Predictions...\n",
      "Batches Predictions...\n",
      "Batches Predictions...\n",
      "Batches Predictions...\n",
      "Batches Predictions...\n",
      "Batches Predictions...\n",
      "Batches Predictions...\n",
      "Batches Predictions...\n",
      "Batches Predictions...\n",
      "Batches Predictions...\n",
      "Batches Predictions...\n",
      "Batches Predictions...\n",
      "Batches Predictions...\n",
      "Batches Predictions...\n",
      "Batches Predictions...\n",
      "Batches Predictions...\n",
      "Batches Predictions...\n",
      "Batches Predictions...\n",
      "Batches Predictions...\n",
      "Batches Predictions...\n",
      "Batches Predictions...\n",
      "Batches Predictions...\n",
      "Batches Predictions...\n",
      "Batches Predictions...\n",
      "Batches Predictions...\n",
      "Batches Predictions...\n",
      "Batches Predictions...\n",
      "Batches Predictions...\n",
      "Batches Predictions...\n",
      "Batches Predictions...\n",
      "Batches Predictions...\n",
      "Batches Predictions...\n",
      "Batches Predictions...\n",
      "Batches Predictions...\n",
      "Batches Predictions...\n",
      "Batches Predictions...\n",
      "Batches Predictions...\n",
      "Batches Predictions...\n",
      "Batches Predictions...\n",
      "Batches Predictions...\n",
      "Batches Predictions...\n",
      "Batches Predictions...\n",
      "Batches Predictions...\n",
      "Batches Predictions...\n",
      "Batches Predictions...\n",
      "Batches Predictions...\n",
      "Batches Predictions...\n",
      "Batches Predictions...\n",
      "Batches Predictions...\n",
      "Batches Predictions...\n",
      "Batches Predictions...\n",
      "Batches Predictions...\n",
      "Batches Predictions...\n",
      "Batches Predictions...\n",
      "Batches Predictions...\n",
      "Batches Predictions...\n",
      "Batches Predictions...\n",
      "Batches Predictions...\n",
      "Batches Predictions...\n",
      "Batches Predictions...\n",
      "Batches Predictions...\n",
      "Batches Predictions...\n",
      "Batches Predictions...\n",
      "Batches Predictions...\n",
      "Batches Predictions...\n",
      "Batches Predictions...\n",
      "Batches Predictions...\n",
      "Batches Predictions...\n",
      "Batches Predictions...\n",
      "Batches Predictions...\n",
      "Batches Predictions...\n",
      "Batches Predictions...\n",
      "Batches Predictions...\n",
      "Batches Predictions...\n",
      "Batches Predictions...\n",
      "Batches Predictions...\n",
      "Batches Predictions...\n",
      "Batches Predictions...\n",
      "Batches Predictions...\n",
      "Batches Predictions...\n",
      "Batches Predictions...\n",
      "Batches Predictions...\n",
      "Batches Predictions...\n",
      "Batches Predictions...\n",
      "Batches Predictions...\n",
      "Batches Predictions...\n",
      "Batches Predictions...\n",
      "Batches Predictions...\n",
      "Batches Predictions...\n",
      "Batches Predictions...\n",
      "Batches Predictions...\n",
      "Batches Predictions...\n",
      "Batches Predictions...\n",
      "Batches Predictions...\n",
      "Batches Predictions...\n",
      "Batches Predictions...\n",
      "Batches Predictions...\n",
      "Batches Predictions...\n",
      "Batches Predictions...\n",
      "Batches Predictions...\n",
      "Batches Predictions...\n",
      "Batches Predictions...\n",
      "Batches Predictions...\n",
      "Batches Predictions...\n",
      "Batches Predictions...\n",
      "Batches Predictions...\n",
      "Batches Predictions...\n",
      "Batches Predictions...\n",
      "Batches Predictions...\n",
      "Batches Predictions...\n",
      "Batches Predictions...\n",
      "Batches Predictions...\n",
      "Batches Predictions...\n",
      "Batches Predictions...\n",
      "Batches Predictions...\n",
      "Batches Predictions...\n",
      "Batches Predictions...\n",
      "Batches Predictions...\n",
      "Batches Predictions...\n",
      "Batches Predictions...\n",
      "Batches Predictions...\n",
      "Batches Predictions...\n",
      "Batches Predictions...\n",
      "Batches Predictions...\n",
      "Batches Predictions...\n",
      "Batches Predictions...\n",
      "Batches Predictions...\n",
      "Batches Predictions...\n",
      "Batches Predictions...\n",
      "Batches Predictions...\n",
      "Batches Predictions...\n",
      "Batches Predictions...\n",
      "Batches Predictions...\n",
      "Batches Predictions...\n",
      "Batches Predictions...\n",
      "Batches Predictions...\n",
      "Batches Predictions...\n",
      "Batches Predictions...\n",
      "Batches Predictions...\n",
      "Batches Predictions...\n",
      "Batches Predictions...\n",
      "Batches Predictions...\n",
      "Batches Predictions...\n",
      "Batches Predictions...\n",
      "Batches Predictions...\n",
      "Batches Predictions...\n",
      "Batches Predictions...\n",
      "Batches Predictions...\n",
      "Batches Predictions...\n",
      "Batches Predictions...\n",
      "Batches Predictions...\n",
      "Batches Predictions...\n",
      "Batches Predictions...\n",
      "Batches Predictions...\n",
      "Batches Predictions...\n",
      "Batches Predictions...\n",
      "Batches Predictions...\n",
      "Batches Predictions...\n",
      "Batches Predictions...\n",
      "Batches Predictions...\n",
      "Batches Predictions...\n",
      "Batches Predictions...\n",
      "Batches Predictions...\n",
      "Batches Predictions...\n",
      "Batches Predictions...\n",
      "Batches Predictions...\n",
      "Batches Predictions...\n",
      "Batches Predictions...\n",
      "Batches Predictions...\n",
      "Batches Predictions...\n",
      "Batches Predictions...\n",
      "Batches Predictions...\n",
      "Batches Predictions...\n",
      "Batches Predictions...\n",
      "Batches Predictions...\n",
      "Batches Predictions Finish!!!\n"
     ]
    },
    {
     "data": {
      "image/png": "[encoded data removed]",
      "text/plain": [
       "<Figure size 432x288 with 1 Axes>"
      ]
     },
     "metadata": {
      "needs_background": "light"
     },
     "output_type": "display_data"
    }
   ],
   "source": [
    "write_out_whole_image1(model=svmclf, data_path=MAIN_FOLDER+PAVIA_U_DATA_PATH,\n",
    "                       shape=image_shape, bsize=32000, pca=True, m=m)"
   ]
  },
  {
   "cell_type": "code",
   "execution_count": null,
   "metadata": {},
   "outputs": [],
   "source": []
  },
  {
   "cell_type": "code",
   "execution_count": 35,
   "metadata": {},
   "outputs": [
    {
     "name": "stdout",
     "output_type": "stream",
     "text": [
      "Batches Predictions...\n",
      "Batches Predictions...\n",
      "Batches Predictions Finish!!!\n",
      "              precision    recall  f1-score   support\n",
      "\n",
      "         1.0       0.99      0.96      0.97      6431\n",
      "         2.0       1.00      0.93      0.97     18449\n",
      "         3.0       0.94      0.96      0.95      1899\n",
      "         4.0       0.98      0.99      0.99      2864\n",
      "         5.0       1.00      1.00      1.00      1145\n",
      "         6.0       0.81      1.00      0.89      4829\n",
      "         7.0       0.92      1.00      0.96      1130\n",
      "         8.0       0.95      0.98      0.96      3482\n",
      "         9.0       0.99      1.00      1.00       747\n",
      "\n",
      "   micro avg       0.96      0.96      0.96     40976\n",
      "   macro avg       0.95      0.98      0.97     40976\n",
      "weighted avg       0.97      0.96      0.96     40976\n",
      "\n"
     ]
    },
    {
     "data": {
      "image/png": "[encoded data removed]",
      "text/plain": [
       "<Figure size 720x504 with 2 Axes>"
      ]
     },
     "metadata": {
      "needs_background": "light"
     },
     "output_type": "display_data"
    }
   ],
   "source": [
    "get_test_pred(model=model, data_path=MAIN_FOLDER+PAVIA_U_DATA_PATH,\n",
    "               train_data_path=MAIN_FOLDER+PAVIA_U_TRAIN_PATH,\n",
    "               c=c, lists=lists, bsize=32000, pca=True, m=m)"
   ]
  },
  {
   "cell_type": "code",
   "execution_count": null,
   "metadata": {},
   "outputs": [],
   "source": []
  },
  {
   "cell_type": "code",
   "execution_count": 64,
   "metadata": {},
   "outputs": [
    {
     "name": "stderr",
     "output_type": "stream",
     "text": [
      "c:\\python\\python36\\lib\\site-packages\\sklearn\\model_selection\\_split.py:2053: FutureWarning: You should specify a value for 'cv' instead of relying on the default value. The default value will change from 3 to 5 in version 0.22.\n",
      "  warnings.warn(CV_WARNING, FutureWarning)\n"
     ]
    },
    {
     "data": {
      "text/plain": [
       "GridSearchCV(cv='warn', error_score='raise-deprecating',\n",
       "       estimator=KNeighborsClassifier(algorithm='auto', leaf_size=30, metric='minkowski',\n",
       "           metric_params=None, n_jobs=None, n_neighbors=5, p=2,\n",
       "           weights='uniform'),\n",
       "       fit_params=None, iid='warn', n_jobs=None,\n",
       "       param_grid={'n_neighbors': [1, 5, 10, 30], 'weights': ['uniform', 'distance'], 'metric': ['minkowski', 'euclidean', 'manhattan'], 'algorithm': ['auto', 'ball_tree', 'kd_tree', 'brute']},\n",
       "       pre_dispatch='2*n_jobs', refit=True, return_train_score='warn',\n",
       "       scoring=None, verbose=0)"
      ]
     },
     "execution_count": 64,
     "metadata": {},
     "output_type": "execute_result"
    }
   ],
   "source": [
    "from sklearn.neighbors import KNeighborsClassifier\n",
    "parameters = {\"n_neighbors\": [1, 5, 10, 30],\n",
    "              \"weights\": ['uniform', 'distance'],\n",
    "              \"metric\": ['minkowski','euclidean','manhattan'],\n",
    "              \"algorithm\": ['auto', 'ball_tree', 'kd_tree', 'brute']}\n",
    "kclf = KNeighborsClassifier()\n",
    "kgclf = GridSearchCV(kclf, param_grid=parameters)\n",
    "kgclf.fit(ex_train, train_labels)"
   ]
  },
  {
   "cell_type": "code",
   "execution_count": 67,
   "metadata": {},
   "outputs": [],
   "source": [
    "kclf = kgclf.best_estimator_"
   ]
  },
  {
   "cell_type": "code",
   "execution_count": 69,
   "metadata": {},
   "outputs": [
    {
     "data": {
      "text/plain": [
       "KNeighborsClassifier(algorithm='auto', leaf_size=30, metric='minkowski',\n",
       "           metric_params=None, n_jobs=None, n_neighbors=1, p=2,\n",
       "           weights='uniform')"
      ]
     },
     "execution_count": 69,
     "metadata": {},
     "output_type": "execute_result"
    }
   ],
   "source": [
    "kclf.fit(ex_train, train_labels)"
   ]
  },
  {
   "cell_type": "code",
   "execution_count": 70,
   "metadata": {},
   "outputs": [
    {
     "name": "stdout",
     "output_type": "stream",
     "text": [
      "Batches Predictions...\n",
      "Batches Predictions...\n",
      "Batches Predictions Finish!!!\n",
      "              precision    recall  f1-score   support\n",
      "\n",
      "         1.0       1.00      0.96      0.98      6431\n",
      "         2.0       1.00      0.97      0.99     18449\n",
      "         3.0       0.96      0.98      0.97      1899\n",
      "         4.0       0.99      0.99      0.99      2864\n",
      "         5.0       1.00      1.00      1.00      1145\n",
      "         6.0       0.91      1.00      0.95      4829\n",
      "         7.0       0.93      1.00      0.97      1130\n",
      "         8.0       0.96      0.98      0.97      3482\n",
      "         9.0       0.99      0.99      0.99       747\n",
      "\n",
      "   micro avg       0.98      0.98      0.98     40976\n",
      "   macro avg       0.97      0.99      0.98     40976\n",
      "weighted avg       0.98      0.98      0.98     40976\n",
      "\n"
     ]
    },
    {
     "data": {
      "image/png": "[encoded data removed]",
      "text/plain": [
       "<Figure size 720x504 with 2 Axes>"
      ]
     },
     "metadata": {
      "needs_background": "light"
     },
     "output_type": "display_data"
    }
   ],
   "source": [
    "get_test_pred1(model=kclf, data_path=MAIN_FOLDER+PAVIA_U_DATA_PATH,\n",
    "               train_data_path=MAIN_FOLDER+PAVIA_U_TRAIN_PATH,\n",
    "               c=c, lists=lists, bsize=32000, pca=True, m=m)"
   ]
  },
  {
   "cell_type": "code",
   "execution_count": 71,
   "metadata": {},
   "outputs": [
    {
     "name": "stdout",
     "output_type": "stream",
     "text": [
      "Batches Predictions...\n",
      "Batches Predictions...\n",
      "Batches Predictions...\n",
      "Batches Predictions...\n",
      "Batches Predictions...\n",
      "Batches Predictions...\n",
      "Batches Predictions...\n",
      "Batches Predictions...\n",
      "Batches Predictions...\n",
      "Batches Predictions...\n",
      "Batches Predictions...\n",
      "Batches Predictions...\n",
      "Batches Predictions...\n",
      "Batches Predictions...\n",
      "Batches Predictions...\n",
      "Batches Predictions...\n",
      "Batches Predictions...\n",
      "Batches Predictions...\n",
      "Batches Predictions...\n",
      "Batches Predictions...\n",
      "Batches Predictions...\n",
      "Batches Predictions...\n",
      "Batches Predictions...\n",
      "Batches Predictions...\n",
      "Batches Predictions...\n",
      "Batches Predictions...\n",
      "Batches Predictions...\n",
      "Batches Predictions...\n",
      "Batches Predictions...\n",
      "Batches Predictions...\n",
      "Batches Predictions...\n",
      "Batches Predictions...\n",
      "Batches Predictions...\n",
      "Batches Predictions...\n",
      "Batches Predictions...\n",
      "Batches Predictions...\n",
      "Batches Predictions...\n",
      "Batches Predictions...\n",
      "Batches Predictions...\n",
      "Batches Predictions...\n",
      "Batches Predictions...\n",
      "Batches Predictions...\n",
      "Batches Predictions...\n",
      "Batches Predictions...\n",
      "Batches Predictions...\n",
      "Batches Predictions...\n",
      "Batches Predictions...\n",
      "Batches Predictions...\n",
      "Batches Predictions...\n",
      "Batches Predictions...\n",
      "Batches Predictions...\n",
      "Batches Predictions...\n",
      "Batches Predictions...\n",
      "Batches Predictions...\n",
      "Batches Predictions...\n",
      "Batches Predictions...\n",
      "Batches Predictions...\n",
      "Batches Predictions...\n",
      "Batches Predictions...\n",
      "Batches Predictions...\n",
      "Batches Predictions...\n",
      "Batches Predictions...\n",
      "Batches Predictions...\n",
      "Batches Predictions...\n",
      "Batches Predictions...\n",
      "Batches Predictions...\n",
      "Batches Predictions...\n",
      "Batches Predictions...\n",
      "Batches Predictions...\n",
      "Batches Predictions...\n",
      "Batches Predictions...\n",
      "Batches Predictions...\n",
      "Batches Predictions...\n",
      "Batches Predictions...\n",
      "Batches Predictions...\n",
      "Batches Predictions...\n",
      "Batches Predictions...\n",
      "Batches Predictions...\n",
      "Batches Predictions...\n",
      "Batches Predictions...\n",
      "Batches Predictions...\n",
      "Batches Predictions...\n",
      "Batches Predictions...\n",
      "Batches Predictions...\n",
      "Batches Predictions...\n",
      "Batches Predictions...\n",
      "Batches Predictions...\n",
      "Batches Predictions...\n",
      "Batches Predictions...\n",
      "Batches Predictions...\n",
      "Batches Predictions...\n",
      "Batches Predictions...\n",
      "Batches Predictions...\n",
      "Batches Predictions...\n",
      "Batches Predictions...\n",
      "Batches Predictions...\n",
      "Batches Predictions...\n",
      "Batches Predictions...\n",
      "Batches Predictions...\n",
      "Batches Predictions...\n",
      "Batches Predictions...\n",
      "Batches Predictions...\n",
      "Batches Predictions...\n",
      "Batches Predictions...\n",
      "Batches Predictions...\n",
      "Batches Predictions...\n",
      "Batches Predictions...\n",
      "Batches Predictions...\n",
      "Batches Predictions...\n",
      "Batches Predictions...\n",
      "Batches Predictions...\n",
      "Batches Predictions...\n",
      "Batches Predictions...\n",
      "Batches Predictions...\n",
      "Batches Predictions...\n",
      "Batches Predictions...\n",
      "Batches Predictions...\n",
      "Batches Predictions...\n",
      "Batches Predictions...\n",
      "Batches Predictions...\n",
      "Batches Predictions...\n",
      "Batches Predictions...\n",
      "Batches Predictions...\n",
      "Batches Predictions...\n",
      "Batches Predictions...\n",
      "Batches Predictions...\n",
      "Batches Predictions...\n",
      "Batches Predictions...\n",
      "Batches Predictions...\n",
      "Batches Predictions...\n",
      "Batches Predictions...\n",
      "Batches Predictions...\n",
      "Batches Predictions...\n",
      "Batches Predictions...\n",
      "Batches Predictions...\n",
      "Batches Predictions...\n",
      "Batches Predictions...\n",
      "Batches Predictions...\n",
      "Batches Predictions...\n",
      "Batches Predictions...\n",
      "Batches Predictions...\n",
      "Batches Predictions...\n",
      "Batches Predictions...\n",
      "Batches Predictions...\n",
      "Batches Predictions...\n",
      "Batches Predictions...\n",
      "Batches Predictions...\n",
      "Batches Predictions...\n",
      "Batches Predictions...\n",
      "Batches Predictions...\n",
      "Batches Predictions...\n",
      "Batches Predictions...\n",
      "Batches Predictions...\n",
      "Batches Predictions...\n",
      "Batches Predictions...\n",
      "Batches Predictions...\n",
      "Batches Predictions...\n",
      "Batches Predictions...\n",
      "Batches Predictions...\n",
      "Batches Predictions...\n",
      "Batches Predictions...\n",
      "Batches Predictions...\n",
      "Batches Predictions...\n",
      "Batches Predictions...\n",
      "Batches Predictions...\n",
      "Batches Predictions...\n",
      "Batches Predictions...\n",
      "Batches Predictions...\n",
      "Batches Predictions...\n",
      "Batches Predictions...\n",
      "Batches Predictions...\n",
      "Batches Predictions...\n",
      "Batches Predictions...\n",
      "Batches Predictions...\n",
      "Batches Predictions...\n",
      "Batches Predictions...\n",
      "Batches Predictions...\n",
      "Batches Predictions...\n",
      "Batches Predictions...\n",
      "Batches Predictions...\n",
      "Batches Predictions...\n",
      "Batches Predictions...\n",
      "Batches Predictions...\n",
      "Batches Predictions...\n",
      "Batches Predictions...\n",
      "Batches Predictions...\n",
      "Batches Predictions...\n",
      "Batches Predictions...\n",
      "Batches Predictions...\n",
      "Batches Predictions...\n",
      "Batches Predictions...\n",
      "Batches Predictions...\n",
      "Batches Predictions...\n",
      "Batches Predictions...\n",
      "Batches Predictions...\n",
      "Batches Predictions...\n",
      "Batches Predictions...\n",
      "Batches Predictions...\n",
      "Batches Predictions...\n",
      "Batches Predictions...\n",
      "Batches Predictions...\n",
      "Batches Predictions...\n",
      "Batches Predictions...\n",
      "Batches Predictions...\n",
      "Batches Predictions...\n",
      "Batches Predictions...\n",
      "Batches Predictions...\n",
      "Batches Predictions...\n",
      "Batches Predictions...\n",
      "Batches Predictions...\n",
      "Batches Predictions...\n",
      "Batches Predictions...\n",
      "Batches Predictions...\n",
      "Batches Predictions...\n",
      "Batches Predictions...\n",
      "Batches Predictions...\n",
      "Batches Predictions...\n",
      "Batches Predictions...\n",
      "Batches Predictions...\n",
      "Batches Predictions...\n",
      "Batches Predictions...\n",
      "Batches Predictions...\n",
      "Batches Predictions...\n",
      "Batches Predictions...\n",
      "Batches Predictions...\n",
      "Batches Predictions...\n",
      "Batches Predictions...\n",
      "Batches Predictions...\n",
      "Batches Predictions...\n",
      "Batches Predictions...\n",
      "Batches Predictions...\n",
      "Batches Predictions...\n",
      "Batches Predictions...\n",
      "Batches Predictions...\n",
      "Batches Predictions...\n",
      "Batches Predictions...\n",
      "Batches Predictions...\n",
      "Batches Predictions...\n",
      "Batches Predictions...\n",
      "Batches Predictions...\n",
      "Batches Predictions...\n",
      "Batches Predictions...\n",
      "Batches Predictions...\n",
      "Batches Predictions...\n",
      "Batches Predictions...\n",
      "Batches Predictions...\n",
      "Batches Predictions...\n",
      "Batches Predictions...\n",
      "Batches Predictions...\n",
      "Batches Predictions...\n",
      "Batches Predictions...\n",
      "Batches Predictions...\n",
      "Batches Predictions...\n",
      "Batches Predictions...\n",
      "Batches Predictions...\n",
      "Batches Predictions...\n",
      "Batches Predictions...\n",
      "Batches Predictions...\n",
      "Batches Predictions...\n",
      "Batches Predictions...\n",
      "Batches Predictions...\n",
      "Batches Predictions...\n",
      "Batches Predictions...\n",
      "Batches Predictions...\n",
      "Batches Predictions...\n",
      "Batches Predictions...\n",
      "Batches Predictions...\n",
      "Batches Predictions...\n",
      "Batches Predictions...\n",
      "Batches Predictions...\n",
      "Batches Predictions...\n",
      "Batches Predictions...\n",
      "Batches Predictions...\n",
      "Batches Predictions...\n",
      "Batches Predictions...\n",
      "Batches Predictions...\n",
      "Batches Predictions...\n",
      "Batches Predictions...\n",
      "Batches Predictions...\n",
      "Batches Predictions...\n",
      "Batches Predictions...\n",
      "Batches Predictions...\n",
      "Batches Predictions...\n",
      "Batches Predictions...\n",
      "Batches Predictions...\n",
      "Batches Predictions...\n",
      "Batches Predictions...\n",
      "Batches Predictions...\n",
      "Batches Predictions...\n",
      "Batches Predictions...\n",
      "Batches Predictions...\n",
      "Batches Predictions...\n",
      "Batches Predictions...\n",
      "Batches Predictions...\n",
      "Batches Predictions...\n",
      "Batches Predictions...\n",
      "Batches Predictions...\n",
      "Batches Predictions...\n",
      "Batches Predictions...\n",
      "Batches Predictions...\n",
      "Batches Predictions...\n",
      "Batches Predictions...\n",
      "Batches Predictions...\n",
      "Batches Predictions...\n",
      "Batches Predictions...\n",
      "Batches Predictions...\n",
      "Batches Predictions...\n",
      "Batches Predictions...\n",
      "Batches Predictions...\n",
      "Batches Predictions...\n",
      "Batches Predictions...\n",
      "Batches Predictions...\n",
      "Batches Predictions...\n",
      "Batches Predictions...\n",
      "Batches Predictions...\n",
      "Batches Predictions...\n",
      "Batches Predictions...\n",
      "Batches Predictions...\n",
      "Batches Predictions...\n",
      "Batches Predictions...\n",
      "Batches Predictions...\n",
      "Batches Predictions...\n",
      "Batches Predictions...\n",
      "Batches Predictions...\n",
      "Batches Predictions...\n",
      "Batches Predictions...\n",
      "Batches Predictions...\n",
      "Batches Predictions...\n",
      "Batches Predictions...\n",
      "Batches Predictions...\n",
      "Batches Predictions...\n",
      "Batches Predictions...\n",
      "Batches Predictions...\n",
      "Batches Predictions...\n",
      "Batches Predictions...\n",
      "Batches Predictions...\n",
      "Batches Predictions...\n",
      "Batches Predictions...\n",
      "Batches Predictions...\n",
      "Batches Predictions...\n",
      "Batches Predictions...\n",
      "Batches Predictions...\n",
      "Batches Predictions...\n",
      "Batches Predictions...\n",
      "Batches Predictions...\n",
      "Batches Predictions...\n",
      "Batches Predictions Finish!!!\n"
     ]
    },
    {
     "data": {
      "image/png": "[encoded data removed]",
      "text/plain": [
       "<Figure size 432x288 with 1 Axes>"
      ]
     },
     "metadata": {
      "needs_background": "light"
     },
     "output_type": "display_data"
    }
   ],
   "source": [
    "write_out_whole_image1(model=kclf, data_path=MAIN_FOLDER+PAVIA_U_DATA_PATH,\n",
    "                       shape=image_shape, bsize=32000, pca=True, m=m)"
   ]
  },
  {
   "cell_type": "code",
   "execution_count": 72,
   "metadata": {},
   "outputs": [],
   "source": [
    "from sklearn.ensemble import RandomForestClassifier"
   ]
  },
  {
   "cell_type": "code",
   "execution_count": 73,
   "metadata": {},
   "outputs": [
    {
     "name": "stderr",
     "output_type": "stream",
     "text": [
      "c:\\python\\python36\\lib\\site-packages\\sklearn\\model_selection\\_split.py:2053: FutureWarning: You should specify a value for 'cv' instead of relying on the default value. The default value will change from 3 to 5 in version 0.22.\n",
      "  warnings.warn(CV_WARNING, FutureWarning)\n",
      "c:\\python\\python36\\lib\\site-packages\\sklearn\\model_selection\\_search.py:841: DeprecationWarning: The default of the `iid` parameter will change from True to False in version 0.22 and will be removed in 0.24. This will change numeric results when test-set sizes are unequal.\n",
      "  DeprecationWarning)\n"
     ]
    },
    {
     "data": {
      "text/plain": [
       "GridSearchCV(cv='warn', error_score='raise-deprecating',\n",
       "       estimator=RandomForestClassifier(bootstrap=True, class_weight=None, criterion='gini',\n",
       "            max_depth=None, max_features='auto', max_leaf_nodes=None,\n",
       "            min_impurity_decrease=0.0, min_impurity_split=None,\n",
       "            min_samples_leaf=1, min_samples_split=2,\n",
       "            min_weight_fraction_leaf=0.0, n_estimators='warn', n_jobs=None,\n",
       "            oob_score=False, random_state=None, verbose=0,\n",
       "            warm_start=False),\n",
       "       fit_params=None, iid='warn', n_jobs=None,\n",
       "       param_grid={'max_depth': [3, None], 'max_features': [1, 3, 10], 'min_samples_leaf': [1, 3, 10], 'bootstrap': [True, False], 'n_estimators': [10, 20, 50]},\n",
       "       pre_dispatch='2*n_jobs', refit=True, return_train_score='warn',\n",
       "       scoring=None, verbose=0)"
      ]
     },
     "execution_count": 73,
     "metadata": {},
     "output_type": "execute_result"
    }
   ],
   "source": [
    "parameters = {\"max_depth\": [3, None],\n",
    "              \"max_features\": [1, 3, 10],\n",
    "#               \"min_samples_split\": [1.0, 3, 10],\n",
    "              \"min_samples_leaf\": [1, 3, 10],\n",
    "              \"bootstrap\": [True, False],\n",
    "#               \"criterion\": [\"gini\", \"entropy\"],\n",
    "              \"n_estimators\": [10, 20, 50]}\n",
    "rclf = RandomForestClassifier()\n",
    "rgclf = GridSearchCV(rclf, param_grid=parameters)\n",
    "rgclf.fit(ex_train, train_labels)"
   ]
  },
  {
   "cell_type": "code",
   "execution_count": 74,
   "metadata": {},
   "outputs": [
    {
     "data": {
      "text/plain": [
       "RandomForestClassifier(bootstrap=True, class_weight=None, criterion='gini',\n",
       "            max_depth=None, max_features=10, max_leaf_nodes=None,\n",
       "            min_impurity_decrease=0.0, min_impurity_split=None,\n",
       "            min_samples_leaf=1, min_samples_split=2,\n",
       "            min_weight_fraction_leaf=0.0, n_estimators=50, n_jobs=None,\n",
       "            oob_score=False, random_state=None, verbose=0,\n",
       "            warm_start=False)"
      ]
     },
     "execution_count": 74,
     "metadata": {},
     "output_type": "execute_result"
    }
   ],
   "source": [
    "rclf = rgclf.best_estimator_\n",
    "rclf.fit(ex_train, train_labels)"
   ]
  },
  {
   "cell_type": "code",
   "execution_count": 77,
   "metadata": {},
   "outputs": [
    {
     "name": "stdout",
     "output_type": "stream",
     "text": [
      "Batches Predictions...\n",
      "Batches Predictions...\n",
      "Batches Predictions Finish!!!\n",
      "              precision    recall  f1-score   support\n",
      "\n",
      "         1.0       1.00      0.91      0.95      6431\n",
      "         2.0       1.00      0.97      0.98     18449\n",
      "         3.0       0.89      0.95      0.92      1899\n",
      "         4.0       0.94      0.99      0.97      2864\n",
      "         5.0       1.00      1.00      1.00      1145\n",
      "         6.0       0.92      0.99      0.95      4829\n",
      "         7.0       0.86      0.99      0.92      1130\n",
      "         8.0       0.92      0.96      0.94      3482\n",
      "         9.0       0.97      0.99      0.98       747\n",
      "\n",
      "   micro avg       0.97      0.97      0.97     40976\n",
      "   macro avg       0.94      0.97      0.96     40976\n",
      "weighted avg       0.97      0.97      0.97     40976\n",
      "\n"
     ]
    },
    {
     "data": {
      "image/png": "[encoded data removed]",
      "text/plain": [
       "<Figure size 720x504 with 2 Axes>"
      ]
     },
     "metadata": {
      "needs_background": "light"
     },
     "output_type": "display_data"
    }
   ],
   "source": [
    "get_test_pred1(model=rclf, data_path=MAIN_FOLDER+PAVIA_U_DATA_PATH,\n",
    "               train_data_path=MAIN_FOLDER+PAVIA_U_TRAIN_PATH,\n",
    "               c=c, lists=lists, bsize=32000, pca=True, m=m)"
   ]
  },
  {
   "cell_type": "code",
   "execution_count": null,
   "metadata": {},
   "outputs": [],
   "source": []
  },
  {
   "cell_type": "code",
   "execution_count": null,
   "metadata": {},
   "outputs": [],
   "source": []
  },
  {
   "cell_type": "code",
   "execution_count": null,
   "metadata": {},
   "outputs": [],
   "source": []
  },
  {
   "cell_type": "code",
   "execution_count": null,
   "metadata": {},
   "outputs": [],
   "source": []
  }
 ],
 "metadata": {
  "kernelspec": {
   "display_name": "Python 3",
   "language": "python",
   "name": "python3"
  },
  "language_info": {
   "codemirror_mode": {
    "name": "ipython",
    "version": 3
   },
   "file_extension": ".py",
   "mimetype": "text/x-python",
   "name": "python",
   "nbconvert_exporter": "python",
   "pygments_lexer": "ipython3",
   "version": "3.6.1rc1"
  }
 },
 "nbformat": 4,
 "nbformat_minor": 2
}
